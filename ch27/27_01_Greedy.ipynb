{
 "cells": [
  {
   "cell_type": "markdown",
   "metadata": {
    "run_control": {
     "frozen": false,
     "read_only": false
    }
   },
   "source": [
    "# Greedy"
   ]
  },
  {
   "cell_type": "markdown",
   "metadata": {
    "run_control": {
     "frozen": false,
     "read_only": false
    }
   },
   "source": [
    "** 我们已经见过的Greedy相关的问题：**\n",
    "\n",
    "- Dijkstra"
   ]
  },
  {
   "cell_type": "markdown",
   "metadata": {},
   "source": [
    "### Ex.1 Find Minimum Number of Coins\n",
    "\n",
    "Given a value V, if we want to make change for V, and we have infinite supply of each of the denominations, i.e., we have infinite supply of { 1, 2, 5, 10, 20, 50, 100, 500, 1000} valued coins/notes, what is the minimum number of coins and/or notes needed to make the change?"
   ]
  },
  {
   "cell_type": "markdown",
   "metadata": {},
   "source": [
    "** Solution **\n",
    "\n",
    "Start from largest possible denomination and keep adding denominations while remaining value is greater than 0. Below is complete algorithm.\n",
    "\n",
    "1) Initialize result as empty.\n",
    "\n",
    "2) find the largest denomination that is smaller than V.\n",
    "\n",
    "3) Add found denomination to result. Subtract value of found denomination from V.\n",
    "\n",
    "4) If V becomes 0, then print result. Else repeat steps 2 and 3 for new value of V"
   ]
  },
  {
   "cell_type": "code",
   "execution_count": 4,
   "metadata": {
    "collapsed": true
   },
   "outputs": [],
   "source": [
    "def minCoins(V):\n",
    "    available = [1, 2, 5, 10, 20, 50, 100, 500, 1000]\n",
    "    result = []\n",
    "    for i in available[::-1]:\n",
    "        while (V >= i):\n",
    "            V -= i\n",
    "            result.append(i)\n",
    "    \n",
    "    return result"
   ]
  },
  {
   "cell_type": "code",
   "execution_count": 5,
   "metadata": {},
   "outputs": [
    {
     "data": {
      "text/plain": [
       "[50, 20, 20, 2, 1]"
      ]
     },
     "execution_count": 5,
     "metadata": {},
     "output_type": "execute_result"
    }
   ],
   "source": [
    "V = 93\n",
    "minCoins(V)"
   ]
  },
  {
   "cell_type": "code",
   "execution_count": null,
   "metadata": {
    "collapsed": true
   },
   "outputs": [],
   "source": []
  },
  {
   "cell_type": "markdown",
   "metadata": {},
   "source": [
    "### Ex.2 Activity Problem\n",
    "\n",
    "Assume there exist n activities with each of them being represented by a start time si and finish time fi. Two activities i and j are said to be non-conflicting if si ≥ fj or sj ≥ fi. The activity selection problem consists in finding the maximal solution set (S) of non-conflicting activities, or more precisely there must exist no solution set S' such that |S'| > |S| in the case that multiple maximal solutions have equal sizes."
   ]
  },
  {
   "cell_type": "code",
   "execution_count": 29,
   "metadata": {
    "collapsed": true
   },
   "outputs": [],
   "source": [
    "def printMaxActivities(acts):\n",
    "    n = len(acts)\n",
    "    sort_acts = sorted(acts, key=lambda tup: tup[1]) # 对tuple 第一列排序\n",
    "    prev = sort_acts[0]\n",
    "    print(prev)\n",
    "    for curr in sort_acts:\n",
    "        if curr[0] >= prev[1]: # 下一个开始时间 是不是 晚于前一个的开始时间\n",
    "            print(curr)\n",
    "            prev = curr"
   ]
  },
  {
   "cell_type": "code",
   "execution_count": 30,
   "metadata": {},
   "outputs": [
    {
     "name": "stdout",
     "output_type": "stream",
     "text": [
      "(1, 2)\n",
      "(3, 4)\n",
      "(5, 7)\n",
      "(8, 9)\n"
     ]
    }
   ],
   "source": [
    "acts = [(0,6),(3,4),(1,2),(5,7),(8,9),(5,9)]\n",
    "printMaxActivities(acts)"
   ]
  },
  {
   "cell_type": "code",
   "execution_count": null,
   "metadata": {
    "collapsed": true
   },
   "outputs": [],
   "source": []
  },
  {
   "cell_type": "markdown",
   "metadata": {},
   "source": [
    "### Ex.3 Smallest Number with Given Number of Digits and Sum of Digits\n",
    "\n",
    "How to find the smallest number with given digit sum s and number of digits m?\n",
    "\n",
    "Input  : s = 9, m = 2\n",
    "\n",
    "Output : 18\n",
    "\n",
    "There are many other possible numbers like 45, 54, 90, etc with sum of digits as 9 and number of digits as 2. The smallest of them is 18.\n",
    "\n",
    "Input  : s = 20, m = 3\n",
    "\n",
    "Output : 299"
   ]
  },
  {
   "cell_type": "code",
   "execution_count": 1,
   "metadata": {
    "ExecuteTime": {
     "end_time": "2020-05-29T10:04:03.935449Z",
     "start_time": "2020-05-29T10:04:03.895403Z"
    }
   },
   "outputs": [],
   "source": [
    "def findSmallest(m, s):\n",
    " \n",
    "    if (s == 0):\n",
    "        if(m == 1) : # 只有1位数, 且和为0 ,那么这位数就是 0\n",
    "              print(\"Smallest number is 0\") \n",
    "        else : \n",
    "              print(\"Not possible\")\n",
    "        return\n",
    "  \n",
    "    # 9999\n",
    "    if (s > 9 * m):\n",
    "        print(\"Not possible\")\n",
    "        return\n",
    "  \n",
    "    res = [0 for i in range(m + 1)]\n",
    "  \n",
    "    # deduct sum by one to account for cases later \n",
    "    # (There must be 1 left for the most significant digit)\n",
    "    s -= 1\n",
    "  \n",
    "    for i in range(m-1,0,-1):\n",
    "     \n",
    "        # If sum is still greater than 9, digit must be 9.\n",
    "        if (s > 9):\n",
    "            res[i] = 9\n",
    "            s -= 9\n",
    "        else:\n",
    "            res[i] = s\n",
    "            s = 0\n",
    "  \n",
    "    res[0] = s + 1  # 最高位 加上 1 \n",
    "  \n",
    "    print(\"Smallest number is \",end=\"\")\n",
    "    for i in range(m):\n",
    "        print(res[i],end=\"\")"
   ]
  },
  {
   "cell_type": "code",
   "execution_count": 2,
   "metadata": {
    "ExecuteTime": {
     "end_time": "2020-05-29T10:04:04.443272Z",
     "start_time": "2020-05-29T10:04:04.434310Z"
    }
   },
   "outputs": [
    {
     "name": "stdout",
     "output_type": "stream",
     "text": [
      "Smallest number is 18"
     ]
    }
   ],
   "source": [
    "s = 9\n",
    "m = 2\n",
    "findSmallest(m, s)"
   ]
  },
  {
   "cell_type": "code",
   "execution_count": 14,
   "metadata": {},
   "outputs": [
    {
     "name": "stdout",
     "output_type": "stream",
     "text": [
      "Smallest number is 299"
     ]
    }
   ],
   "source": [
    "s = 20\n",
    "m = 3\n",
    "findSmallest(m, s)"
   ]
  },
  {
   "cell_type": "code",
   "execution_count": null,
   "metadata": {
    "collapsed": true
   },
   "outputs": [],
   "source": []
  },
  {
   "cell_type": "markdown",
   "metadata": {},
   "source": [
    "### Ex.4 Minimum Sum of Two Numbers\n",
    "\n",
    "Given an array of digits (values are from 0 to 9), find the minimum possible sum of two numbers formed from digits of the array. All digits of given array must be used to form the two numbers.\n",
    "\n",
    "Input: [6, 8, 4, 5, 2, 3]\n",
    "\n",
    "Output: 604\n",
    "\n",
    "The minimum sum is formed by numbers \n",
    "\n",
    "358 and 246\n",
    "\n",
    "Input: [5, 3, 0, 7, 4]\n",
    "\n",
    "Output: 82\n",
    "\n",
    "The minimum sum is formed by numbers \n",
    "\n",
    "35 and 047 "
   ]
  },
  {
   "cell_type": "code",
   "execution_count": 4,
   "metadata": {
    "ExecuteTime": {
     "end_time": "2020-05-29T10:19:54.817120Z",
     "start_time": "2020-05-29T10:19:54.807318Z"
    }
   },
   "outputs": [],
   "source": [
    "# O(nlgn)    放进去是n 取出来是nlgn\n",
    "import heapq\n",
    "def minSum(a):\n",
    "    heapq.heapify(a)\n",
    "    num1 = 0\n",
    "    num2 = 0\n",
    "    while a:\n",
    "        num1 = num1 * 10 + heapq.heappop(a)\n",
    "        if a: # 不要遗漏这一句 如果heap还有数, 说明是偶数位的\n",
    "            num2 = num2 * 10 + heapq.heappop(a)\n",
    "    \n",
    "    return num1 + num2           \n",
    "    "
   ]
  },
  {
   "cell_type": "code",
   "execution_count": 20,
   "metadata": {},
   "outputs": [
    {
     "data": {
      "text/plain": [
       "604"
      ]
     },
     "execution_count": 20,
     "metadata": {},
     "output_type": "execute_result"
    }
   ],
   "source": [
    "a = [6, 8, 4, 5, 2, 3]\n",
    "minSum(a)"
   ]
  },
  {
   "cell_type": "code",
   "execution_count": 21,
   "metadata": {},
   "outputs": [
    {
     "data": {
      "text/plain": [
       "82"
      ]
     },
     "execution_count": 21,
     "metadata": {},
     "output_type": "execute_result"
    }
   ],
   "source": [
    "a = [5, 3, 0, 7, 4]\n",
    "minSum(a)"
   ]
  },
  {
   "cell_type": "markdown",
   "metadata": {},
   "source": [
    "### Ex.5 Connect N Ropes with Minimum Cost"
   ]
  },
  {
   "cell_type": "markdown",
   "metadata": {},
   "source": [
    "There are given n ropes of different lengths, we need to connect these ropes into one rope. The cost to connect two ropes is equal to sum of their lengths. We need to connect the ropes with minimum cost.\n"
   ]
  },
  {
   "cell_type": "markdown",
   "metadata": {},
   "source": [
    "For example if we are given 4 ropes of lengths 4, 3, 2 and 6. We can connect the ropes in following ways.\n",
    "\n",
    "1) First connect ropes of lengths 2 and 3. Now we have three ropes of lengths 4, 6 and 5.\n",
    "\n",
    "2) Now connect ropes of lengths 4 and 5. Now we have two ropes of lengths 6 and 9.\n",
    "\n",
    "3) Finally connect the two ropes and all ropes have connected.\n",
    "\n",
    "Total cost for connecting all ropes is 5 + 9 + 15 = 29. "
   ]
  },
  {
   "cell_type": "code",
   "execution_count": 9,
   "metadata": {
    "ExecuteTime": {
     "end_time": "2020-05-29T10:37:36.205240Z",
     "start_time": "2020-05-29T10:37:36.197133Z"
    }
   },
   "outputs": [],
   "source": [
    "import heapq\n",
    "def ropeCost(ropes):\n",
    "    if len(ropes) == 1:\n",
    "        return 0 \n",
    "    heapq.heapify(ropes)\n",
    "    total = 0\n",
    "    \n",
    "    while ropes:\n",
    "        first = heapq.heappop(ropes) # 取第一个数字\n",
    "        second = heapq.heappop(ropes)# 取第二个数字\n",
    "        local = first + second  # 既是 成本  同时也是 长度\n",
    "        total += local # 把长度加到 total\n",
    "        if not ropes: # 最后两根绳子 加入进去就一根绳子了\n",
    "            break\n",
    "        heapq.heappush(ropes, local)\n",
    "    return total  "
   ]
  },
  {
   "cell_type": "code",
   "execution_count": 6,
   "metadata": {
    "ExecuteTime": {
     "end_time": "2020-05-29T10:35:55.962612Z",
     "start_time": "2020-05-29T10:35:55.933488Z"
    }
   },
   "outputs": [
    {
     "data": {
      "text/plain": [
       "29"
      ]
     },
     "execution_count": 6,
     "metadata": {},
     "output_type": "execute_result"
    }
   ],
   "source": [
    "ropes = [4,3,2,6]\n",
    "ropeCost(ropes)"
   ]
  },
  {
   "cell_type": "code",
   "execution_count": 7,
   "metadata": {
    "ExecuteTime": {
     "end_time": "2020-05-29T10:35:56.553326Z",
     "start_time": "2020-05-29T10:35:56.546693Z"
    }
   },
   "outputs": [
    {
     "data": {
      "text/plain": [
       "33"
      ]
     },
     "execution_count": 7,
     "metadata": {},
     "output_type": "execute_result"
    }
   ],
   "source": [
    "ropes = [1,3,2,5,4]\n",
    "ropeCost(ropes)"
   ]
  },
  {
   "cell_type": "code",
   "execution_count": 8,
   "metadata": {
    "ExecuteTime": {
     "end_time": "2020-05-29T10:35:57.100296Z",
     "start_time": "2020-05-29T10:35:57.093634Z"
    }
   },
   "outputs": [
    {
     "data": {
      "text/plain": [
       "0"
      ]
     },
     "execution_count": 8,
     "metadata": {},
     "output_type": "execute_result"
    }
   ],
   "source": [
    "ropes = [1]\n",
    "ropeCost(ropes)"
   ]
  },
  {
   "cell_type": "markdown",
   "metadata": {},
   "source": [
    "### Ex.6 Minimum Number of Platforms Required for a Railway/Bus Station\n",
    "\n",
    "Given arrival and departure times of all trains that reach a railway station, find the minimum number of platforms required for the railway station so that no train waits. We are given two arrays which represent arrival and departure times of trains that stop.\n",
    "\n",
    "Input:  \n",
    "\n",
    "arr[]  = {9:00,  9:40, 9:50,  11:00, 15:00, 18:00}\n",
    "\n",
    "dep[]  = {9:10, 12:00, 11:20, 11:30, 19:00, 20:00}\n",
    "\n",
    "Output: 3\n",
    "\n",
    "There are at-most three trains at a time (time between 11:00 to 11:20)\n"
   ]
  },
  {
   "cell_type": "code",
   "execution_count": 10,
   "metadata": {
    "ExecuteTime": {
     "end_time": "2020-05-29T10:56:19.204948Z",
     "start_time": "2020-05-29T10:56:19.190445Z"
    }
   },
   "outputs": [],
   "source": [
    "# O(nlgn)\n",
    "def findPlatform(arr, dep, n):\n",
    " \n",
    "    arr.sort()\n",
    "    dep.sort()\n",
    "  \n",
    "    # plat_needed indicates number of platforms needed at a time\n",
    "    plat_needed = 0\n",
    "    result = 0\n",
    "    i = 0\n",
    "    j = 0\n",
    "  \n",
    "    # Similar to merge in merge sort to process all events in sorted order\n",
    "    while (i < n and j < n):\n",
    "        if (arr[i] < dep[j]):\n",
    "            plat_needed += 1\n",
    "            i += 1\n",
    "  \n",
    "            result = max(result, plat_needed)\n",
    "  \n",
    "        else:\n",
    "            plat_needed -= 1\n",
    "            j += 1\n",
    "         \n",
    "    return result\n"
   ]
  },
  {
   "cell_type": "code",
   "execution_count": 11,
   "metadata": {
    "ExecuteTime": {
     "end_time": "2020-05-29T10:56:19.853308Z",
     "start_time": "2020-05-29T10:56:19.844399Z"
    }
   },
   "outputs": [
    {
     "data": {
      "text/plain": [
       "3"
      ]
     },
     "execution_count": 11,
     "metadata": {},
     "output_type": "execute_result"
    }
   ],
   "source": [
    "arr = [900, 940, 950, 1100, 1500, 1800]\n",
    "dep = [910, 1200, 1120, 1130, 1900, 2000]\n",
    "n = len(arr)\n",
    "findPlatform(arr, dep, n)"
   ]
  },
  {
   "cell_type": "markdown",
   "metadata": {
    "collapsed": true
   },
   "source": [
    "** Ex. 7 Minimum Jumps to Reach End **\n",
    "\n",
    "Given an array of non-negative integers, you are initially positioned at the first index of the array.\n",
    "\n",
    "Each element in the array represents your maximum jump length at that position.\n",
    "\n",
    "Determine if you are able to reach the last index.\n",
    "\n",
    "For example:\n",
    "    \n",
    "A = [2,3,1,1,4], return true.\n",
    "\n",
    "A = [3,2,1,0,4], return false.\n",
    "\n",
    "** Follow up:**\n",
    "\n",
    "Your goal is to reach the last index in the minimum number of jumps."
   ]
  },
  {
   "cell_type": "code",
   "execution_count": null,
   "metadata": {
    "collapsed": true
   },
   "outputs": [],
   "source": []
  }
 ],
 "metadata": {
  "kernelspec": {
   "display_name": "Python 3.6 (tensorflow)",
   "language": "python",
   "name": "tensorflow"
  },
  "language_info": {
   "codemirror_mode": {
    "name": "ipython",
    "version": 3
   },
   "file_extension": ".py",
   "mimetype": "text/x-python",
   "name": "python",
   "nbconvert_exporter": "python",
   "pygments_lexer": "ipython3",
   "version": "3.6.8"
  },
  "toc": {
   "base_numbering": 1,
   "nav_menu": {},
   "number_sections": true,
   "sideBar": true,
   "skip_h1_title": false,
   "title_cell": "Table of Contents",
   "title_sidebar": "Contents",
   "toc_cell": false,
   "toc_position": {},
   "toc_section_display": true,
   "toc_window_display": false
  },
  "varInspector": {
   "cols": {
    "lenName": 16,
    "lenType": 16,
    "lenVar": 40
   },
   "kernels_config": {
    "python": {
     "delete_cmd_postfix": "",
     "delete_cmd_prefix": "del ",
     "library": "var_list.py",
     "varRefreshCmd": "print(var_dic_list())"
    },
    "r": {
     "delete_cmd_postfix": ") ",
     "delete_cmd_prefix": "rm(",
     "library": "var_list.r",
     "varRefreshCmd": "cat(var_dic_list()) "
    }
   },
   "types_to_exclude": [
    "module",
    "function",
    "builtin_function_or_method",
    "instance",
    "_Feature"
   ],
   "window_display": false
  }
 },
 "nbformat": 4,
 "nbformat_minor": 2
}
