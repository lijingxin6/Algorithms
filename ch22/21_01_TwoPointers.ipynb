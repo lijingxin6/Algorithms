{
 "cells": [
  {
   "cell_type": "markdown",
   "metadata": {
    "run_control": {
     "frozen": false,
     "read_only": false
    }
   },
   "source": [
    "# Two Pointers"
   ]
  },
  {
   "cell_type": "markdown",
   "metadata": {
    "run_control": {
     "frozen": false,
     "read_only": false
    }
   },
   "source": [
    "Array is one of the fundamental blocks in algorithms. Since a string is just formed by an array of characters, they are both similar. Most interview questions fall into this category. And two pointers is one of the most used techniques to solve array/string problems.\n",
    "\n",
    "** 我们已经见过的Two Pointers相关的问题：**\n",
    "\n",
    "- Linked List: Find Middle Node \n",
    "\n",
    "- Linked List: Determine Cycle \n",
    "\n",
    "- Linked List: Find Cycle Start Point\n",
    "\n",
    "- Linked List: Find kth Element From End\n",
    "\n",
    "- Merge Sort\n",
    "\n",
    "- Partition: Quick Sort, Find Kth Largest Element \n"
   ]
  },
  {
   "cell_type": "markdown",
   "metadata": {},
   "source": [
    " ### <a id='Ex0'>Ex.0 Reverse List </a>"
   ]
  },
  {
   "cell_type": "code",
   "execution_count": 70,
   "metadata": {
    "collapsed": true
   },
   "outputs": [],
   "source": [
    "def reverse(nums):\n",
    "    n = len(nums)\n",
    "    for i in range(len(nums) // 2):\n",
    "        nums[i], nums[n-1-i] = nums[n-1-i], nums[i]\n",
    "    print(nums)"
   ]
  },
  {
   "cell_type": "code",
   "execution_count": 71,
   "metadata": {},
   "outputs": [
    {
     "name": "stdout",
     "output_type": "stream",
     "text": [
      "[]\n",
      "[1]\n",
      "[2, 1]\n",
      "[3, 2, 1]\n"
     ]
    }
   ],
   "source": [
    "nums = []\n",
    "reverse(nums)\n",
    "\n",
    "nums = [1]\n",
    "reverse(nums)\n",
    "\n",
    "nums = [1,2]\n",
    "reverse(nums)\n",
    "\n",
    "nums = [1,2,3]\n",
    "reverse(nums)"
   ]
  },
  {
   "cell_type": "code",
   "execution_count": 74,
   "metadata": {
    "collapsed": true
   },
   "outputs": [],
   "source": [
    "def reverse2(nums):\n",
    "    i, j = 0, len(nums) - 1\n",
    "    while (i < j):\n",
    "        nums[i], nums[j] = nums[j], nums[i]\n",
    "        i += 1\n",
    "        j -= 1\n",
    "    print(nums)"
   ]
  },
  {
   "cell_type": "code",
   "execution_count": 75,
   "metadata": {},
   "outputs": [
    {
     "name": "stdout",
     "output_type": "stream",
     "text": [
      "[]\n",
      "[1]\n",
      "[2, 1]\n",
      "[3, 2, 1]\n"
     ]
    }
   ],
   "source": [
    "nums = []\n",
    "reverse2(nums)\n",
    "\n",
    "nums = [1]\n",
    "reverse2(nums)\n",
    "\n",
    "nums = [1,2]\n",
    "reverse2(nums)\n",
    "\n",
    "nums = [1,2,3]\n",
    "reverse2(nums)"
   ]
  },
  {
   "cell_type": "markdown",
   "metadata": {
    "run_control": {
     "frozen": false,
     "read_only": false
    }
   },
   "source": [
    "### <a id='Ex1'> Ex.1 Two Sum </a>\n",
    "Given an array of integers, find two numbers such that they add up to a specific target number."
   ]
  },
  {
   "cell_type": "code",
   "execution_count": 4,
   "metadata": {
    "ExecuteTime": {
     "end_time": "2020-05-22T10:02:07.677241Z",
     "start_time": "2020-05-22T10:02:07.666251Z"
    },
    "run_control": {
     "frozen": false,
     "read_only": false
    }
   },
   "outputs": [],
   "source": [
    "# O(n)\n",
    "# space: O(n)\n",
    "def twoSum(nums, target):\n",
    "    dic = {}\n",
    "    for i, num in enumerate(nums):\n",
    "        if num in dic: # O(1)\n",
    "            return [dic[num], i]  # dic[num]是另一个数的位置, 第二个i是当前数的位置\n",
    "        else:\n",
    "            dic[target - num] = i\n",
    "            "
   ]
  },
  {
   "cell_type": "code",
   "execution_count": 5,
   "metadata": {
    "ExecuteTime": {
     "end_time": "2020-05-22T10:02:10.034496Z",
     "start_time": "2020-05-22T10:02:10.025866Z"
    }
   },
   "outputs": [
    {
     "data": {
      "text/plain": [
       "[1, 2]"
      ]
     },
     "execution_count": 5,
     "metadata": {},
     "output_type": "execute_result"
    }
   ],
   "source": [
    "nums = [1,2,4,7]\n",
    "target = 6 \n",
    "twoSum(nums,target)"
   ]
  },
  {
   "cell_type": "code",
   "execution_count": 12,
   "metadata": {
    "ExecuteTime": {
     "end_time": "2020-05-22T12:32:05.058308Z",
     "start_time": "2020-05-22T12:32:04.991976Z"
    }
   },
   "outputs": [],
   "source": [
    "# O(n)\n",
    "def twoSum2(num, target):\n",
    "    index = []\n",
    "    numtosort = num[:]; \n",
    "    numtosort.sort() # 先排序\n",
    "    i = 0; j = len(numtosort) - 1\n",
    "    while i < j:\n",
    "        if numtosort[i] + numtosort[j] == target:\n",
    "            for k in range(0,len(num)):\n",
    "                if num[k] == numtosort[i]:\n",
    "                    index.append(k)\n",
    "                    break\n",
    "            for k in range(len(num)-1,-1,-1):\n",
    "                if num[k] == numtosort[j]:\n",
    "                    index.append(k)\n",
    "                    break\n",
    "            index.sort()\n",
    "            break\n",
    "        elif numtosort[i] + numtosort[j] < target:\n",
    "            i = i + 1\n",
    "        elif numtosort[i] + numtosort[j] > target:\n",
    "            j = j - 1\n",
    "\n",
    "    return (index[0]+1,index[1]+1)"
   ]
  },
  {
   "cell_type": "code",
   "execution_count": 13,
   "metadata": {
    "ExecuteTime": {
     "end_time": "2020-05-22T12:32:05.423735Z",
     "start_time": "2020-05-22T12:32:05.409161Z"
    }
   },
   "outputs": [
    {
     "data": {
      "text/plain": [
       "(2, 3)"
      ]
     },
     "execution_count": 13,
     "metadata": {},
     "output_type": "execute_result"
    }
   ],
   "source": [
    "nums = [1,2,4,7]\n",
    "target = 6 \n",
    "twoSum2(nums,target)"
   ]
  },
  {
   "cell_type": "markdown",
   "metadata": {},
   "source": [
    "### <a id='Ex2'> Ex.2 Three Sum  </a>\n",
    "\n",
    "Given an array S of n integers, are there elements a, b, c in S such that a + b + c = 0? Find all unique triplets in the array which gives the sum of zero."
   ]
  },
  {
   "cell_type": "code",
   "execution_count": 14,
   "metadata": {
    "ExecuteTime": {
     "end_time": "2020-05-22T12:32:06.345991Z",
     "start_time": "2020-05-22T12:32:06.328404Z"
    }
   },
   "outputs": [],
   "source": [
    "# O(n^2)\n",
    "def threeSum(nums):\n",
    "    res = []\n",
    "    nums.sort()\n",
    "    for i in range(len(nums)-2):\n",
    "        if i > 0 and nums[i] == nums[i-1]:\n",
    "            continue\n",
    "        l, r = i+1, len(nums)-1\n",
    "        while l < r:\n",
    "            s = nums[i] + nums[l] + nums[r]\n",
    "            if s < 0:\n",
    "                l +=1 \n",
    "            elif s > 0:\n",
    "                r -= 1\n",
    "            else:\n",
    "                res.append((nums[i], nums[l], nums[r]))\n",
    "                while l < r and nums[l] == nums[l+1]:\n",
    "                    l += 1\n",
    "                while l < r and nums[r] == nums[r-1]:\n",
    "                    r -= 1\n",
    "                l += 1; r -= 1\n",
    "    return res"
   ]
  },
  {
   "cell_type": "code",
   "execution_count": 15,
   "metadata": {
    "ExecuteTime": {
     "end_time": "2020-05-22T12:32:07.028172Z",
     "start_time": "2020-05-22T12:32:07.021955Z"
    }
   },
   "outputs": [
    {
     "data": {
      "text/plain": [
       "[(-4, 2, 2), (-1, -1, 2), (-1, 0, 1)]"
      ]
     },
     "execution_count": 15,
     "metadata": {},
     "output_type": "execute_result"
    }
   ],
   "source": [
    "nums = [-1, 0, 1, 2, -1, -4, 2, -1, 2]\n",
    "threeSum(nums)"
   ]
  },
  {
   "cell_type": "code",
   "execution_count": null,
   "metadata": {},
   "outputs": [],
   "source": []
  },
  {
   "cell_type": "markdown",
   "metadata": {},
   "source": [
    "### <a id='Ex3'> Ex.3 Four Sum  </a>\n",
    "\n",
    "Given an array S of n integers, are there elements a, b, c, d in S such that a + b + c + d = 0? Find all unique combinations in the array which gives the sum of zero."
   ]
  },
  {
   "cell_type": "code",
   "execution_count": 20,
   "metadata": {
    "ExecuteTime": {
     "end_time": "2020-05-22T12:33:13.963062Z",
     "start_time": "2020-05-22T12:33:13.948628Z"
    }
   },
   "outputs": [],
   "source": [
    "#O(n^3)\n",
    "def fourSum(num, target):\n",
    "    num.sort(); res = []\n",
    "    for i in range(len(num)):\n",
    "        if i > 0 and num[i] == num[i-1]: \n",
    "            continue \n",
    "        for j in range(i + 1 ,len (num)):\n",
    "            if j > i + 1 and num[j] == num[j-1]: # 不能有重复的数字\n",
    "                continue \n",
    "            l = j + 1\n",
    "            r = len(num) - 1\n",
    "            while l < r:\n",
    "                sum = num[i] + num[j] + num[l] + num[r]\n",
    "                if sum > target:\n",
    "                    r -= 1\n",
    "                elif sum < target:\n",
    "                    l += 1\n",
    "                elif l > j + 1 and num[l] == num[l-1]:\n",
    "                    l += 1\n",
    "                elif r < len(num) - 1 and num[r] == num[r+1]:\n",
    "                    r -= 1\n",
    "                else :\n",
    "                    res.append([num[i],num[j],num[l],num[r]])\n",
    "                    l += 1\n",
    "                    r -= 1\n",
    "    return res"
   ]
  },
  {
   "cell_type": "code",
   "execution_count": 17,
   "metadata": {
    "ExecuteTime": {
     "end_time": "2020-05-22T12:32:09.106016Z",
     "start_time": "2020-05-22T12:32:09.098967Z"
    }
   },
   "outputs": [
    {
     "data": {
      "text/plain": [
       "[[-4, 0, 2, 2], [-1, -1, 0, 2]]"
      ]
     },
     "execution_count": 17,
     "metadata": {},
     "output_type": "execute_result"
    }
   ],
   "source": [
    "nums = [-1, 0, 1, 2, -1, -4, 2, -1, 2]\n",
    "fourSum(nums, 0)"
   ]
  },
  {
   "cell_type": "code",
   "execution_count": null,
   "metadata": {},
   "outputs": [],
   "source": []
  },
  {
   "cell_type": "code",
   "execution_count": 21,
   "metadata": {
    "ExecuteTime": {
     "end_time": "2020-05-22T12:33:32.597942Z",
     "start_time": "2020-05-22T12:33:32.578515Z"
    }
   },
   "outputs": [],
   "source": [
    "# O(n^2)\n",
    "def fourSum2(num, target):\n",
    "    numLen, res, dict = len(num), set(), {} # set 保证没有重复的数字\n",
    "    if numLen < 4: \n",
    "        return []\n",
    "    num.sort()\n",
    "    for p in range(numLen): # O(n^2)\n",
    "        for q in range(p+1 , numLen): \n",
    "            if num[p] + num[q] no t in dict:\n",
    "                dict[num[p] + num[q]] = [(p,q)] # 如果不在dict就创建\n",
    "            else :\n",
    "                dict[num[p] + num[q]].append((p,q)) # 如果dict里有 就直接在原来的上面append添加\n",
    "     \n",
    "    for i in range(numLen): # O(n^2)\n",
    "        for j in range(i+1, numLen-2 ):\n",
    "            T = target-num[i]- num[j]\n",
    "            if T in dict:\n",
    "                for k in dict[T]: # 只是到dict去查找\n",
    "                    if k[0] > j: res.add((num[i],num[j],num [k[0]],num[k[1]]))\n",
    "    return [list(i) for i in res]"
   ]
  },
  {
   "cell_type": "code",
   "execution_count": 19,
   "metadata": {
    "ExecuteTime": {
     "end_time": "2020-05-22T12:32:10.829566Z",
     "start_time": "2020-05-22T12:32:10.813805Z"
    }
   },
   "outputs": [
    {
     "data": {
      "text/plain": [
       "[[-1, -1, 0, 2], [-4, 0, 2, 2]]"
      ]
     },
     "execution_count": 19,
     "metadata": {},
     "output_type": "execute_result"
    }
   ],
   "source": [
    "nums = [-1, 0, 1, 2, -1, -4, 2, -1, 2]\n",
    "fourSum2(nums, 0)"
   ]
  },
  {
   "cell_type": "code",
   "execution_count": null,
   "metadata": {
    "collapsed": true
   },
   "outputs": [],
   "source": []
  },
  {
   "cell_type": "markdown",
   "metadata": {},
   "source": [
    "### <a id='Ex4'> Ex.4 Merge Two Sorted Array into One </a>\n",
    "\n",
    "You are given two sorted arrays, A and B, and A has a large enough buffer at the end to hold B. Write a method to merge B into A in sorted order"
   ]
  },
  {
   "cell_type": "code",
   "execution_count": 9,
   "metadata": {
    "collapsed": true
   },
   "outputs": [],
   "source": [
    "def merge(nums1, m, nums2, n):\n",
    "    while m > 0 and n > 0:\n",
    "        if nums1[m-1] >= nums2[n-1]:\n",
    "            nums1[m+n-1] = nums1[m-1]\n",
    "            m = m - 1 # 指针往前移\n",
    "        else:\n",
    "            nums1[m+n-1] = nums2[n-1]\n",
    "            n = n - 1\n",
    "    if n > 0: # B数组还没用完, 需要把它全部copy到A的前面去\n",
    "        nums1[:n] = nums2[:n]"
   ]
  },
  {
   "cell_type": "code",
   "execution_count": 10,
   "metadata": {
    "collapsed": true
   },
   "outputs": [],
   "source": [
    "nums1 = [1,2,3,0,0,0]\n",
    "m = 3\n",
    "nums2 = [2,5,6]\n",
    "n = 3\n",
    "merge(nums1, m, nums2, n)"
   ]
  },
  {
   "cell_type": "code",
   "execution_count": 11,
   "metadata": {},
   "outputs": [
    {
     "data": {
      "text/plain": [
       "[1, 2, 2, 3, 5, 6]"
      ]
     },
     "execution_count": 11,
     "metadata": {},
     "output_type": "execute_result"
    }
   ],
   "source": [
    "nums1"
   ]
  },
  {
   "cell_type": "code",
   "execution_count": null,
   "metadata": {
    "collapsed": true
   },
   "outputs": [],
   "source": []
  },
  {
   "cell_type": "markdown",
   "metadata": {},
   "source": [
    "### <a id='Ex5'> Ex.5 Minimum Difference Between Two Sorted Arrays </a>\n",
    "\n",
    "Given two arrays sorted in ascending order, find the absolute minimum difference between any pair of elements |a-b| such that a is from one array and b is from another array."
   ]
  },
  {
   "cell_type": "code",
   "execution_count": 22,
   "metadata": {
    "ExecuteTime": {
     "end_time": "2020-05-22T15:08:57.584882Z",
     "start_time": "2020-05-22T15:08:57.548929Z"
    }
   },
   "outputs": [],
   "source": [
    "import sys\n",
    "def printClosest(ar1, ar2):\n",
    "    m = len(ar1)\n",
    "    n = len(ar2)\n",
    "\n",
    "    diff = sys.maxsize\n",
    "    \n",
    "    p1 = 0\n",
    "    p2 = 0\n",
    "    \n",
    "    while (p1 < m and p2 < n):\n",
    "        if abs(ar1[p1] - ar2[p2]) < diff: # maintain 最小的diff\n",
    "            diff = abs(ar1[p1] - ar2[p2])\n",
    "        \n",
    "        if (ar1[p1] > ar2[p2]):\n",
    "            p2 += 1 # 第二个数小, 移动第二个\n",
    "        else:\n",
    "            p1 += 1 # 第一个数小, 移动第一个\n",
    "\n",
    "    return diff"
   ]
  },
  {
   "cell_type": "code",
   "execution_count": null,
   "metadata": {
    "collapsed": true
   },
   "outputs": [],
   "source": []
  },
  {
   "cell_type": "markdown",
   "metadata": {},
   "source": [
    "### <a id='Ex6'> Ex. 6 Continuous Maximum Subarray </a>\n",
    "\n",
    "Given an array having N positive integers, find the contiguous subarray having sum as great as possible, but not greater than M."
   ]
  },
  {
   "cell_type": "code",
   "execution_count": 14,
   "metadata": {},
   "outputs": [
    {
     "data": {
      "text/plain": [
       "[1, 3, 6, 10, 15]"
      ]
     },
     "execution_count": 14,
     "metadata": {},
     "output_type": "execute_result"
    }
   ],
   "source": [
    "from itertools import accumulate  # since Python 3.2:\n",
    "list(accumulate([1,2,3,4,5]))"
   ]
  },
  {
   "cell_type": "code",
   "execution_count": 28,
   "metadata": {
    "ExecuteTime": {
     "end_time": "2020-05-24T01:30:15.040600Z",
     "start_time": "2020-05-24T01:30:15.029257Z"
    }
   },
   "outputs": [
    {
     "data": {
      "text/plain": [
       "[0, 4, 10, 22, 23, 25, 28, 32]"
      ]
     },
     "execution_count": 28,
     "metadata": {},
     "output_type": "execute_result"
    }
   ],
   "source": [
    "from itertools import accumulate  # since Python 3.2:\n",
    "\n",
    "a = [4, 6, 12, 1, 2, 3, 4]\n",
    "b = [0]\n",
    "b = b + a\n",
    "type(b)\n",
    "b = list(accumulate(b))\n",
    "b"
   ]
  },
  {
   "cell_type": "code",
   "execution_count": 29,
   "metadata": {
    "ExecuteTime": {
     "end_time": "2020-05-24T01:30:15.481880Z",
     "start_time": "2020-05-24T01:30:15.472467Z"
    }
   },
   "outputs": [],
   "source": [
    "def max_subarray(numbers, ceiling):\n",
    "    \n",
    "    cum_sum = [0]\n",
    "    cum_sum = cum_sum + numbers\n",
    "    cum_sum = list(accumulate(cum_sum))\n",
    "\n",
    "    l = 0\n",
    "    r = 1 # two pointers start at tip of the array.\n",
    "    maximum = 0\n",
    "    while l < len(cum_sum):\n",
    "        while r < len(cum_sum) and cum_sum[r] - cum_sum[l] <= ceiling: # valid + 1个值 => invalid窗口, 停止\n",
    "            r += 1\n",
    "        if cum_sum[r - 1] - cum_sum[l] > maximum: # since cum_sum[0] = 0, thus r always > 0.去掉新加的1个值,\n",
    "            maximum = cum_sum[r - 1] - cum_sum[l]  # valid窗口 > 全局变量,  更新全局变量 \n",
    "            pos = (l, r - 2)  # cum_sum 比 numbers 多一个0, 所以 r-1的基础上再减1  => r-2\n",
    "        l += 1  # invalid 要l往右移 直到将它变成valid => 也就是去掉最前面,  valid之后再r往后移\n",
    "    return pos"
   ]
  },
  {
   "cell_type": "code",
   "execution_count": 30,
   "metadata": {
    "ExecuteTime": {
     "end_time": "2020-05-24T01:30:16.042036Z",
     "start_time": "2020-05-24T01:30:16.032460Z"
    }
   },
   "outputs": [
    {
     "data": {
      "text/plain": [
       "(2, 4)"
      ]
     },
     "execution_count": 30,
     "metadata": {},
     "output_type": "execute_result"
    }
   ],
   "source": [
    "a = [4, 7, 12, 1, 2, 3, 6]\n",
    "m = 15\n",
    "result = max_subarray(a, m)\n",
    "result"
   ]
  },
  {
   "cell_type": "code",
   "execution_count": null,
   "metadata": {
    "collapsed": true
   },
   "outputs": [],
   "source": []
  }
 ],
 "metadata": {
  "kernelspec": {
   "display_name": "Python 3.6 (tensorflow)",
   "language": "python",
   "name": "tensorflow"
  },
  "language_info": {
   "codemirror_mode": {
    "name": "ipython",
    "version": 3
   },
   "file_extension": ".py",
   "mimetype": "text/x-python",
   "name": "python",
   "nbconvert_exporter": "python",
   "pygments_lexer": "ipython3",
   "version": "3.6.8"
  },
  "toc": {
   "base_numbering": 1,
   "nav_menu": {},
   "number_sections": true,
   "sideBar": true,
   "skip_h1_title": false,
   "title_cell": "Table of Contents",
   "title_sidebar": "Contents",
   "toc_cell": false,
   "toc_position": {},
   "toc_section_display": true,
   "toc_window_display": false
  },
  "varInspector": {
   "cols": {
    "lenName": 16,
    "lenType": 16,
    "lenVar": 40
   },
   "kernels_config": {
    "python": {
     "delete_cmd_postfix": "",
     "delete_cmd_prefix": "del ",
     "library": "var_list.py",
     "varRefreshCmd": "print(var_dic_list())"
    },
    "r": {
     "delete_cmd_postfix": ") ",
     "delete_cmd_prefix": "rm(",
     "library": "var_list.r",
     "varRefreshCmd": "cat(var_dic_list()) "
    }
   },
   "types_to_exclude": [
    "module",
    "function",
    "builtin_function_or_method",
    "instance",
    "_Feature"
   ],
   "window_display": false
  }
 },
 "nbformat": 4,
 "nbformat_minor": 2
}
