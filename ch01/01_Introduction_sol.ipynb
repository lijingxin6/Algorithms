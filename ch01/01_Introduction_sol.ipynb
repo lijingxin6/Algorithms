{
 "cells": [
  {
   "cell_type": "markdown",
   "metadata": {
    "collapsed": true
   },
   "source": [
    "# Introduction\n",
    "\n",
    "### 课程安排\n",
    "<img src=\"../images/ch01/syllabus.png\" width=\"580\"/>"
   ]
  },
  {
   "cell_type": "markdown",
   "metadata": {},
   "source": [
    "### 实例一：Find Missing Number\n",
    "You are given a list of n-1 integers and these integers are in the range of 1 to n. There are no duplicates in list. One of the integers is missing in the list. Write an efficient code to find the missing integer.\n",
    "\n",
    "### 实例二：Tile Problem\n",
    "Given a 𝑛×2 board and tiles of size 1×2, count the number of ways to tile the given board using the 1×2 tiles. A tile can either be placed horizontally i.e., as a 1×2 tile or vertically i.e., as 2×1 tile.\n"
   ]
  },
  {
   "cell_type": "markdown",
   "metadata": {},
   "source": [
    "### 算法分析\n",
    "\n",
    "#### 运行时间 （时间复杂度）\n",
    "- The running time typically grows with the input size\n",
    "- Best Case: Lower bound on cost\n",
    "    - Determine by “easiest” input\n",
    "    - Provides a goal for all inputs\n",
    "- Worse Case: Upper bound on cost\n",
    "    - Determine by “most difficult” input\n",
    "    - Provides a guarantee for all inputs\n",
    "- Average case: Expected cost for random input\n",
    "    - Need a model for “random” input\n",
    "    - Provides a way to predict performance\n",
    "- Average case time is often difficult to determine\n",
    "- We focus on worst case running time\n",
    "\n",
    "<img src=\"../images/ch01/algorithmmatters.png\" width=\"580\"/>\n",
    "\n",
    "<img src=\"../images/ch01/companalysis.png\" width=\"580\"/>\n",
    "\n"
   ]
  },
  {
   "cell_type": "markdown",
   "metadata": {},
   "source": [
    "##### Utility"
   ]
  },
  {
   "cell_type": "code",
   "execution_count": 1,
   "metadata": {
    "ExecuteTime": {
     "end_time": "2020-03-24T09:46:48.830454Z",
     "start_time": "2020-03-24T09:46:48.366160Z"
    }
   },
   "outputs": [],
   "source": [
    "import time\n",
    "import matplotlib.pyplot as plt\n",
    "import random\n",
    "import math\n",
    "%matplotlib inline  \n",
    "\n",
    "def random_list(l):\n",
    "    return [[int(1000*random.random()) for i in range(l * n)] for n in range(1, 20)]"
   ]
  },
  {
   "cell_type": "markdown",
   "metadata": {},
   "source": [
    "### $O(1)$  -  (constant)"
   ]
  },
  {
   "cell_type": "code",
   "execution_count": 2,
   "metadata": {
    "ExecuteTime": {
     "end_time": "2020-03-24T09:46:52.736094Z",
     "start_time": "2020-03-24T09:46:52.726179Z"
    }
   },
   "outputs": [
    {
     "data": {
      "text/plain": [
       "9"
      ]
     },
     "execution_count": 2,
     "metadata": {},
     "output_type": "execute_result"
    }
   ],
   "source": [
    "def square(x):\n",
    "    return x * x\n",
    "\n",
    "square(3)"
   ]
  },
  {
   "cell_type": "code",
   "execution_count": 3,
   "metadata": {
    "ExecuteTime": {
     "end_time": "2020-03-24T09:46:54.530109Z",
     "start_time": "2020-03-24T09:46:54.519781Z"
    }
   },
   "outputs": [],
   "source": [
    "def first(x):\n",
    "    start = time.time()\n",
    "    r = x[0]\n",
    "    t = time.time() - start\n",
    "    return r, len(x), t\n",
    "\n",
    "def middle(x):\n",
    "    start = time.time()\n",
    "    r = x[len(x)//2]\n",
    "    t = time.time() - start\n",
    "    return r, len(x), t\n",
    "\n",
    "def last(x):\n",
    "    start = time.time()\n",
    "    r = x[-1]\n",
    "    t = time.time() - start\n",
    "    return r, len(x), t"
   ]
  },
  {
   "cell_type": "code",
   "execution_count": 4,
   "metadata": {
    "ExecuteTime": {
     "end_time": "2020-03-24T09:47:05.346643Z",
     "start_time": "2020-03-24T09:46:58.147256Z"
    }
   },
   "outputs": [
    {
     "data": {
      "text/plain": [
       "[(291, 100000, 9.5367431640625e-07),\n",
       " (540, 200000, 1.9073486328125e-06),\n",
       " (715, 300000, 1.1920928955078125e-06),\n",
       " (508, 400000, 9.5367431640625e-07),\n",
       " (857, 500000, 1.1920928955078125e-06),\n",
       " (281, 600000, 0.0),\n",
       " (937, 700000, 1.1920928955078125e-06),\n",
       " (307, 800000, 0.0),\n",
       " (494, 900000, 9.5367431640625e-07),\n",
       " (469, 1000000, 9.5367431640625e-07),\n",
       " (869, 1100000, 9.5367431640625e-07),\n",
       " (916, 1200000, 9.5367431640625e-07),\n",
       " (622, 1300000, 9.5367431640625e-07),\n",
       " (600, 1400000, 1.1920928955078125e-06),\n",
       " (304, 1500000, 7.152557373046875e-07),\n",
       " (94, 1600000, 9.5367431640625e-07),\n",
       " (649, 1700000, 0.0),\n",
       " (737, 1800000, 9.5367431640625e-07),\n",
       " (404, 1900000, 0.0)]"
      ]
     },
     "execution_count": 4,
     "metadata": {},
     "output_type": "execute_result"
    }
   ],
   "source": [
    "random_lists = random_list(100000)\n",
    "rst = [last(l) for l in random_lists]\n",
    "len(rst)\n",
    "rst"
   ]
  },
  {
   "cell_type": "code",
   "execution_count": 5,
   "metadata": {
    "ExecuteTime": {
     "end_time": "2020-03-24T09:47:08.530707Z",
     "start_time": "2020-03-24T09:47:07.959103Z"
    },
    "scrolled": true
   },
   "outputs": [
    {
     "data": {
      "text/plain": [
       "[<matplotlib.lines.Line2D at 0x10fadcdd8>]"
      ]
     },
     "execution_count": 5,
     "metadata": {},
     "output_type": "execute_result"
    },
    {
     "data": {
      "image/png": "[encoded data removed]",
      "text/plain": [
       "<Figure size 432x288 with 1 Axes>"
      ]
     },
     "metadata": {
      "needs_background": "light"
     },
     "output_type": "display_data"
    }
   ],
   "source": [
    "x = list(zip(*rst))[1]\n",
    "y = list(zip(*rst))[2]\n",
    "\n",
    "plt.plot(x, y)"
   ]
  },
  {
   "cell_type": "markdown",
   "metadata": {},
   "source": [
    "### $O(n)$"
   ]
  },
  {
   "cell_type": "code",
   "execution_count": 6,
   "metadata": {
    "ExecuteTime": {
     "end_time": "2020-03-24T09:47:16.180937Z",
     "start_time": "2020-03-24T09:47:16.151788Z"
    }
   },
   "outputs": [],
   "source": [
    "def find_max(l):\n",
    "    start = time.time()\n",
    "    \n",
    "    if l == None:\n",
    "        return None\n",
    "    mx = l[0]\n",
    "    for n in l:\n",
    "        if n > mx:\n",
    "            mx = n\n",
    "            \n",
    "    t = time.time() - start\n",
    "    \n",
    "    return mx, len(l), t"
   ]
  },
  {
   "cell_type": "code",
   "execution_count": 7,
   "metadata": {
    "ExecuteTime": {
     "end_time": "2020-03-24T09:47:20.822010Z",
     "start_time": "2020-03-24T09:47:18.708731Z"
    }
   },
   "outputs": [
    {
     "data": {
      "text/plain": [
       "[(999, 20000, 0.0009300708770751953),\n",
       " (999, 40000, 0.0019140243530273438),\n",
       " (999, 60000, 0.0023610591888427734),\n",
       " (999, 80000, 0.006985902786254883),\n",
       " (999, 100000, 0.010734081268310547),\n",
       " (999, 120000, 0.010658740997314453),\n",
       " (999, 140000, 0.0075490474700927734),\n",
       " (999, 160000, 0.008177757263183594),\n",
       " (999, 180000, 0.0072939395904541016),\n",
       " (999, 200000, 0.007911920547485352),\n",
       " (999, 220000, 0.008967876434326172),\n",
       " (999, 240000, 0.009735107421875),\n",
       " (999, 260000, 0.011467933654785156),\n",
       " (999, 280000, 0.014178037643432617),\n",
       " (999, 300000, 0.01780390739440918),\n",
       " (999, 320000, 0.016746997833251953),\n",
       " (999, 340000, 0.019958019256591797),\n",
       " (999, 360000, 0.04287099838256836),\n",
       " (999, 380000, 0.028786897659301758)]"
      ]
     },
     "execution_count": 7,
     "metadata": {},
     "output_type": "execute_result"
    }
   ],
   "source": [
    "random_lists = random_list(20000)\n",
    "rst = [find_max(l) for l in random_lists]\n",
    "len(rst)\n",
    "rst"
   ]
  },
  {
   "cell_type": "code",
   "execution_count": 8,
   "metadata": {
    "ExecuteTime": {
     "end_time": "2020-03-24T09:47:22.104245Z",
     "start_time": "2020-03-24T09:47:21.664944Z"
    }
   },
   "outputs": [
    {
     "data": {
      "text/plain": [
       "[<matplotlib.lines.Line2D at 0x1335d05f8>]"
      ]
     },
     "execution_count": 8,
     "metadata": {},
     "output_type": "execute_result"
    },
    {
     "data": {
      "image/png": "[encoded data removed]",
      "text/plain": [
       "<Figure size 432x288 with 1 Axes>"
      ]
     },
     "metadata": {
      "needs_background": "light"
     },
     "output_type": "display_data"
    }
   ],
   "source": [
    "x = list(zip(*rst))[1]\n",
    "y = list(zip(*rst))[2]\n",
    "\n",
    "plt.plot(x, y)"
   ]
  },
  {
   "cell_type": "markdown",
   "metadata": {},
   "source": [
    "### $O(nlgn)$"
   ]
  },
  {
   "cell_type": "code",
   "execution_count": 9,
   "metadata": {
    "ExecuteTime": {
     "end_time": "2020-03-24T09:47:23.632048Z",
     "start_time": "2020-03-24T09:47:23.625062Z"
    }
   },
   "outputs": [],
   "source": [
    "def mysort(l):\n",
    "    start = time.time()\n",
    "    l.sort()\n",
    "    t = time.time() - start\n",
    "    return l[0], len(l), t"
   ]
  },
  {
   "cell_type": "code",
   "execution_count": 10,
   "metadata": {
    "ExecuteTime": {
     "end_time": "2020-03-24T09:47:26.050580Z",
     "start_time": "2020-03-24T09:47:24.567006Z"
    }
   },
   "outputs": [
    {
     "data": {
      "text/plain": [
       "[(0, 10000, 0.0024569034576416016),\n",
       " (0, 20000, 0.005172014236450195),\n",
       " (0, 30000, 0.007948875427246094),\n",
       " (0, 40000, 0.01078486442565918),\n",
       " (0, 50000, 0.013865232467651367),\n",
       " (0, 60000, 0.016733884811401367),\n",
       " (0, 70000, 0.021453142166137695),\n",
       " (0, 80000, 0.022690773010253906),\n",
       " (0, 90000, 0.026352882385253906),\n",
       " (0, 100000, 0.029389142990112305),\n",
       " (0, 110000, 0.03232097625732422),\n",
       " (0, 120000, 0.03471994400024414),\n",
       " (0, 130000, 0.041192054748535156),\n",
       " (0, 140000, 0.09698796272277832),\n",
       " (0, 150000, 0.05218315124511719),\n",
       " (0, 160000, 0.04776597023010254),\n",
       " (0, 170000, 0.05467104911804199),\n",
       " (0, 180000, 0.05450916290283203),\n",
       " (0, 190000, 0.056356191635131836)]"
      ]
     },
     "execution_count": 10,
     "metadata": {},
     "output_type": "execute_result"
    }
   ],
   "source": [
    "random_lists = random_list(10000)\n",
    "rst = [mysort(l) for l in random_lists]\n",
    "len(rst)\n",
    "rst"
   ]
  },
  {
   "cell_type": "code",
   "execution_count": 11,
   "metadata": {
    "ExecuteTime": {
     "end_time": "2020-03-24T09:47:27.649969Z",
     "start_time": "2020-03-24T09:47:27.191498Z"
    }
   },
   "outputs": [
    {
     "data": {
      "text/plain": [
       "[<matplotlib.lines.Line2D at 0x11442a908>]"
      ]
     },
     "execution_count": 11,
     "metadata": {},
     "output_type": "execute_result"
    },
    {
     "data": {
      "image/png": "[encoded data removed]",
      "text/plain": [
       "<Figure size 432x288 with 1 Axes>"
      ]
     },
     "metadata": {
      "needs_background": "light"
     },
     "output_type": "display_data"
    }
   ],
   "source": [
    "x = list(zip(*rst))[1]\n",
    "y = list(zip(*rst))[2]\n",
    "\n",
    "plt.plot(x, y)"
   ]
  },
  {
   "cell_type": "markdown",
   "metadata": {},
   "source": [
    "### $O(n^2)$"
   ]
  },
  {
   "cell_type": "code",
   "execution_count": 12,
   "metadata": {
    "ExecuteTime": {
     "end_time": "2020-03-24T09:47:37.940840Z",
     "start_time": "2020-03-24T09:47:37.934171Z"
    }
   },
   "outputs": [],
   "source": [
    "def has_duplicate(l):\n",
    "    start = time.time()\n",
    "    \n",
    "    rst = False\n",
    "    for i in range(len(l)):\n",
    "        for j in range(i + 1, len(l)):\n",
    "            if l[i] == l[j]:\n",
    "                rst = True\n",
    "        \n",
    "    t = time.time() - start\n",
    "    \n",
    "    return rst, len(l), t"
   ]
  },
  {
   "cell_type": "code",
   "execution_count": 13,
   "metadata": {
    "ExecuteTime": {
     "end_time": "2020-03-24T09:50:18.055281Z",
     "start_time": "2020-03-24T09:47:39.373188Z"
    }
   },
   "outputs": [
    {
     "data": {
      "text/plain": [
       "[<matplotlib.lines.Line2D at 0x13b3d7048>]"
      ]
     },
     "execution_count": 13,
     "metadata": {},
     "output_type": "execute_result"
    },
    {
     "data": {
      "image/png": "[encoded data removed]",
      "text/plain": [
       "<Figure size 432x288 with 1 Axes>"
      ]
     },
     "metadata": {
      "needs_background": "light"
     },
     "output_type": "display_data"
    }
   ],
   "source": [
    "random_lists = random_list(1000)\n",
    "rst = [has_duplicate(l) for l in random_lists]\n",
    "\n",
    "x = list(zip(*rst))[1]\n",
    "y = list(zip(*rst))[2]\n",
    "\n",
    "plt.plot(x, y)"
   ]
  },
  {
   "cell_type": "code",
   "execution_count": null,
   "metadata": {
    "collapsed": true
   },
   "outputs": [],
   "source": []
  },
  {
   "cell_type": "markdown",
   "metadata": {},
   "source": [
    "# Array\n"
   ]
  },
  {
   "cell_type": "markdown",
   "metadata": {},
   "source": [
    "### Ex1：计算一元二次方程解\n",
    "<img src=\"../images/ch01/Ex1.jpg\" width=\"380\" align=\"left\"/>"
   ]
  },
  {
   "cell_type": "code",
   "execution_count": 14,
   "metadata": {
    "ExecuteTime": {
     "end_time": "2020-03-24T10:08:16.176175Z",
     "start_time": "2020-03-24T10:08:16.156492Z"
    }
   },
   "outputs": [],
   "source": [
    "def solve(a, b, c):\n",
    "    r = pow(b, 2) - 4 * a * c\n",
    "    if (r < 0):\n",
    "        raise ValueError(\"No Solution\") \n",
    "    return (-b + math.sqrt(r)) / (2 * a), (-b - math.sqrt(r)) / (2 * a)"
   ]
  },
  {
   "cell_type": "code",
   "execution_count": 15,
   "metadata": {
    "ExecuteTime": {
     "end_time": "2020-03-24T10:08:19.497973Z",
     "start_time": "2020-03-24T10:08:19.489566Z"
    }
   },
   "outputs": [
    {
     "data": {
      "text/plain": [
       "(-0.2679491924311228, -3.732050807568877)"
      ]
     },
     "execution_count": 15,
     "metadata": {},
     "output_type": "execute_result"
    }
   ],
   "source": [
    "solve(1, 4, 1)"
   ]
  },
  {
   "cell_type": "code",
   "execution_count": null,
   "metadata": {
    "collapsed": true
   },
   "outputs": [],
   "source": []
  },
  {
   "cell_type": "markdown",
   "metadata": {},
   "source": [
    "### Ex2：Singing Contest\n",
    "一个歌唱比赛的歌手打分，我们设计一个程序帮助现场去掉一个最低分和一个最高分，再计算一个平均分。\n",
    "\n",
    "例如分数为: [8,9,5,10,9.5,8,7,9,9.5] 则去掉最低分 [8,9,5,10,9.5,8,9,9.5]"
   ]
  },
  {
   "cell_type": "code",
   "execution_count": 16,
   "metadata": {
    "ExecuteTime": {
     "end_time": "2020-03-24T10:13:24.469172Z",
     "start_time": "2020-03-24T10:13:24.457944Z"
    }
   },
   "outputs": [
    {
     "data": {
      "text/plain": [
       "(8.642857142857142, 7, 8.821487426757812e-06)"
      ]
     },
     "execution_count": 16,
     "metadata": {},
     "output_type": "execute_result"
    }
   ],
   "source": [
    "def singing_score(values):\n",
    "    start = time.time()\n",
    "    small_pos = 0\n",
    "    for i in range(1, len(values)):\n",
    "        if values[i] < values[small_pos] :\n",
    "            small_pos = i\n",
    "            \n",
    "    high_pos = 0\n",
    "    for i in range(1, len(values)):\n",
    "        if values[i] > values[high_pos] :\n",
    "            high_pos = i\n",
    "    values.remove(values[small_pos])\n",
    "    values.remove(values[high_pos])\n",
    "    rst = sum(values)/len(values)\n",
    "    t = time.time() - start\n",
    "    return rst, len(values), t\n",
    "\n",
    "#Find the min and max\n",
    "#Remove it from the list.\n",
    "values =  [8,9,5,10,5,8,7,9,9.5]\n",
    "singing_score(values)"
   ]
  },
  {
   "cell_type": "code",
   "execution_count": 17,
   "metadata": {
    "ExecuteTime": {
     "end_time": "2020-03-24T10:13:37.976333Z",
     "start_time": "2020-03-24T10:13:26.600171Z"
    }
   },
   "outputs": [
    {
     "data": {
      "text/plain": [
       "[(498.09884197683954, 99998, 0.02210402488708496),\n",
       " (499.69157691576913, 199998, 0.04363703727722168),\n",
       " (499.0407102714018, 299998, 0.06285905838012695),\n",
       " (499.75837879189396, 399998, 0.0823371410369873),\n",
       " (498.56919627678514, 499998, 0.10424494743347168),\n",
       " (499.3399994666649, 599998, 0.12260603904724121),\n",
       " (499.7279135083243, 699998, 0.14411187171936035),\n",
       " (500.08679521698804, 799998, 0.1675426959991455),\n",
       " (499.3997308882909, 899998, 0.18668580055236816),\n",
       " (499.49626499253, 999998, 0.21097779273986816),\n",
       " (499.44073443769895, 1099998, 0.2314438819885254),\n",
       " (499.8892139820233, 1199998, 0.26140713691711426),\n",
       " (499.3787990443062, 1299998, 0.27884793281555176),\n",
       " (499.38747698211, 1399998, 0.2951669692993164),\n",
       " (499.3486237981651, 1499998, 0.3126821517944336),\n",
       " (499.4243355304194, 1599998, 0.33685779571533203),\n",
       " (499.3636568984199, 1699998, 0.355881929397583),\n",
       " (499.3965687739653, 1799998, 0.37514400482177734),\n",
       " (499.63842435623616, 1899998, 0.40332484245300293)]"
      ]
     },
     "execution_count": 17,
     "metadata": {},
     "output_type": "execute_result"
    }
   ],
   "source": [
    "random_lists = random_list(100000)\n",
    "rst = [singing_score(l) for l in random_lists]\n",
    "rst"
   ]
  },
  {
   "cell_type": "code",
   "execution_count": 18,
   "metadata": {
    "ExecuteTime": {
     "end_time": "2020-03-24T10:13:43.093300Z",
     "start_time": "2020-03-24T10:13:42.170528Z"
    }
   },
   "outputs": [
    {
     "data": {
      "text/plain": [
       "[<matplotlib.lines.Line2D at 0x13e017630>]"
      ]
     },
     "execution_count": 18,
     "metadata": {},
     "output_type": "execute_result"
    },
    {
     "data": {
      "image/png": "[encoded data removed]",
      "text/plain": [
       "<Figure size 432x288 with 1 Axes>"
      ]
     },
     "metadata": {
      "needs_background": "light"
     },
     "output_type": "display_data"
    }
   ],
   "source": [
    "x = list(zip(*rst))[1]\n",
    "y = list(zip(*rst))[2]\n",
    "\n",
    "plt.plot(x, y)"
   ]
  },
  {
   "cell_type": "code",
   "execution_count": 19,
   "metadata": {
    "ExecuteTime": {
     "end_time": "2020-03-24T10:59:39.784223Z",
     "start_time": "2020-03-24T10:59:39.755449Z"
    }
   },
   "outputs": [],
   "source": [
    "def singing_score2(values):\n",
    "    start = time.time()\n",
    "    maxx = values[0]\n",
    "    minn = values[0]\n",
    "    summ = values[0]\n",
    "    for i in range(1, len(values)):\n",
    "        if values[i] < minn :\n",
    "            minn = values[i]\n",
    "        if values[i] > minn :\n",
    "            maxx = values[i]\n",
    "        summ += values[i]\n",
    "            \n",
    "    rst = summ / (len(values)-2)\n",
    "    t = time.time() - start\n",
    "    return rst, len(values), t"
   ]
  },
  {
   "cell_type": "code",
   "execution_count": 20,
   "metadata": {
    "ExecuteTime": {
     "end_time": "2020-03-24T10:59:48.372759Z",
     "start_time": "2020-03-24T10:59:43.052320Z"
    }
   },
   "outputs": [
    {
     "data": {
      "text/plain": [
       "[(498.1088043521741, 99998, 0.052001953125),\n",
       " (499.6965739314786, 199998, 0.08814382553100586),\n",
       " (499.04403725383, 299998, 0.12536883354187012),\n",
       " (499.76087760877607, 399998, 0.13365888595581055),\n",
       " (498.57119056952456, 499998, 0.13387274742126465),\n",
       " (499.3416639444263, 599998, 0.14165496826171875),\n",
       " (499.72934131052176, 699998, 0.16922307014465332),\n",
       " (500.0880454402272, 799998, 0.1839911937713623),\n",
       " (499.400840670403, 899998, 0.5495779514312744),\n",
       " (499.49726398905597, 999998, 0.26729297637939453),\n",
       " (499.4416425150637, 1099998, 0.2552919387817383),\n",
       " (499.89004713349044, 1199998, 0.27435302734375),\n",
       " (499.3795673217456, 1299998, 0.2973027229309082),\n",
       " (499.3881903948297, 1399998, 0.3191189765930176),\n",
       " (499.3492895981056, 1499998, 0.34961915016174316),\n",
       " (499.42495981239955, 1599998, 0.5094599723815918),\n",
       " (499.36424438645736, 1699998, 0.42045092582702637),\n",
       " (499.3971236602748, 1799998, 0.5477979183197021),\n",
       " (499.63895029252694, 1899998, 0.49312806129455566)]"
      ]
     },
     "execution_count": 20,
     "metadata": {},
     "output_type": "execute_result"
    }
   ],
   "source": [
    "#random_lists = random_list(100000)\n",
    "rst = [singing_score2(l) for l in random_lists]\n",
    "rst"
   ]
  },
  {
   "cell_type": "code",
   "execution_count": null,
   "metadata": {
    "collapsed": true
   },
   "outputs": [],
   "source": []
  },
  {
   "cell_type": "markdown",
   "metadata": {},
   "source": [
    "### Ex3：计算 𝜋 值\n",
    "\n",
    "#### 方法一\n",
    "\n",
    "$$\n",
    "\\frac{\\pi}{4} = 1-\\frac{1}{3}+\\frac{1}{5}-\\frac{1}{7}+\\frac{1}{9}+…\n",
    "$$"
   ]
  },
  {
   "cell_type": "code",
   "execution_count": 93,
   "metadata": {
    "collapsed": true
   },
   "outputs": [],
   "source": [
    "def pi1(n):\n",
    "    pi = 0\n",
    "    sign = 1\n",
    "    for i in range(1, n + 1, 2):\n",
    "        pi += sign * (1 / i)\n",
    "        sign *= -1\n",
    "    return pi * 4"
   ]
  },
  {
   "cell_type": "code",
   "execution_count": 101,
   "metadata": {},
   "outputs": [
    {
     "data": {
      "text/plain": [
       "3.141392653591791"
      ]
     },
     "execution_count": 101,
     "metadata": {},
     "output_type": "execute_result"
    }
   ],
   "source": [
    "pi1(10000)"
   ]
  },
  {
   "cell_type": "code",
   "execution_count": 109,
   "metadata": {
    "collapsed": true
   },
   "outputs": [],
   "source": [
    "def pi2():\n",
    "    pi = 0\n",
    "    sign = 1\n",
    "    pre = 999\n",
    "    i = 1\n",
    "    delta = 0.000001\n",
    "    \n",
    "    while (abs(pi - pre) > delta):\n",
    "        pre = pi\n",
    "        pi += sign * (1 / i)\n",
    "        sign *= -1\n",
    "        i += 2\n",
    "    return pi * 4   "
   ]
  },
  {
   "cell_type": "code",
   "execution_count": 110,
   "metadata": {},
   "outputs": [
    {
     "data": {
      "text/plain": [
       "3.1415946535856922"
      ]
     },
     "execution_count": 110,
     "metadata": {},
     "output_type": "execute_result"
    }
   ],
   "source": [
    "pi2()"
   ]
  },
  {
   "cell_type": "markdown",
   "metadata": {},
   "source": [
    "### 方法二: 蒙特卡洛模拟\n",
    "想象一个圆形靶子，我们不停的向靶面射击, 命名圆内的我们算是“击中 也就是 $x^2 + y^2 ≤ 1$.<br/>\n",
    "假如我们不停的射击，直到我们把这个方形的靶子全部覆盖(打成了骰子)<br/>\n",
    "圆的面积应该是$$ S_{circle} = \\pi r^2 $$\n",
    "方形的面积应该是$$ S_{square} = a^2 $$\n",
    "也就是说 $$ S_{circle} /  S_{square} = \\pi r^2 / a^2$$\n",
    "$$ r = 1, a =2 $$\n",
    "hits / tries is approximately equal to the ratio of the areas\n",
    "of the circle\n",
    "那么$$ S_{circle} /  S_{square} = \\pi / 4$$\n",
    "那么预估的$$\\pi = 4 \\times (S_{circle} /  S_{square})$$\n",
    "<img src=\"../images/ch01/ex3.png\" width=\"280\"/>"
   ]
  },
  {
   "cell_type": "code",
   "execution_count": 113,
   "metadata": {
    "collapsed": true
   },
   "outputs": [],
   "source": [
    "from random import random\n",
    "\n",
    "def pi3(TRIES):\n",
    "    hits = 0\n",
    "    for i in range(TRIES) :\n",
    "        # Generate two random numbers between –1 and 1\n",
    "        r = random()\n",
    "        x = -1 + 2 * r\n",
    "        r = random()\n",
    "        y = -1 + 2 * r\n",
    "        # Check whether the point lies in the unit circle\n",
    "        if x * x + y * y <= 1 :\n",
    "            hits = hits + 1\n",
    "\n",
    "        # The ratio hits / tries is approximately the same as the ratio\n",
    "        # circle area / square area = pi / 4.\n",
    "    return 4.0 * hits / TRIES\n"
   ]
  },
  {
   "cell_type": "code",
   "execution_count": 116,
   "metadata": {},
   "outputs": [
    {
     "data": {
      "text/plain": [
       "3.1425508"
      ]
     },
     "execution_count": 116,
     "metadata": {},
     "output_type": "execute_result"
    }
   ],
   "source": [
    "pi3(10000000)"
   ]
  },
  {
   "cell_type": "code",
   "execution_count": null,
   "metadata": {
    "collapsed": true
   },
   "outputs": [],
   "source": []
  },
  {
   "cell_type": "markdown",
   "metadata": {},
   "source": [
    "### Ex4：乘法口诀表\n",
    "\n",
    "<img src=\"../images/ch01/ex4.png\" width=\"480\"/>"
   ]
  },
  {
   "cell_type": "code",
   "execution_count": 23,
   "metadata": {
    "ExecuteTime": {
     "end_time": "2020-03-24T12:03:59.455791Z",
     "start_time": "2020-03-24T12:03:59.448709Z"
    }
   },
   "outputs": [],
   "source": [
    "def mults():\n",
    "    for i in range(1,10):\n",
    "        for j in range(1, i+1):\n",
    "            print(i, \"*\", j, \"=\", i*j, end = \"   \")\n",
    "        print()       "
   ]
  },
  {
   "cell_type": "code",
   "execution_count": 29,
   "metadata": {
    "ExecuteTime": {
     "end_time": "2020-03-24T12:23:58.501794Z",
     "start_time": "2020-03-24T12:23:58.494222Z"
    }
   },
   "outputs": [],
   "source": [
    "# 自己\n",
    "def mults():                                         \n",
    "    for i in range(1,10):                            \n",
    "        for j in range(1,i+1):                       \n",
    "            print(j, \"*\", i, \"=\", j*i, end = \"   \")\n",
    "        print()  # 记得加这一句\n"
   ]
  },
  {
   "cell_type": "code",
   "execution_count": 30,
   "metadata": {
    "ExecuteTime": {
     "end_time": "2020-03-24T12:24:01.152929Z",
     "start_time": "2020-03-24T12:24:01.138763Z"
    }
   },
   "outputs": [
    {
     "name": "stdout",
     "output_type": "stream",
     "text": [
      "1 * 1 = 1   \n",
      "1 * 2 = 2   2 * 2 = 4   \n",
      "1 * 3 = 3   2 * 3 = 6   3 * 3 = 9   \n",
      "1 * 4 = 4   2 * 4 = 8   3 * 4 = 12   4 * 4 = 16   \n",
      "1 * 5 = 5   2 * 5 = 10   3 * 5 = 15   4 * 5 = 20   5 * 5 = 25   \n",
      "1 * 6 = 6   2 * 6 = 12   3 * 6 = 18   4 * 6 = 24   5 * 6 = 30   6 * 6 = 36   \n",
      "1 * 7 = 7   2 * 7 = 14   3 * 7 = 21   4 * 7 = 28   5 * 7 = 35   6 * 7 = 42   7 * 7 = 49   \n",
      "1 * 8 = 8   2 * 8 = 16   3 * 8 = 24   4 * 8 = 32   5 * 8 = 40   6 * 8 = 48   7 * 8 = 56   8 * 8 = 64   \n",
      "1 * 9 = 9   2 * 9 = 18   3 * 9 = 27   4 * 9 = 36   5 * 9 = 45   6 * 9 = 54   7 * 9 = 63   8 * 9 = 72   9 * 9 = 81   \n"
     ]
    }
   ],
   "source": [
    "mults()"
   ]
  },
  {
   "cell_type": "code",
   "execution_count": 3,
   "metadata": {},
   "outputs": [
    {
     "data": {
      "text/plain": [
       "[(1, 1, 1),\n",
       " (2, 1, 2),\n",
       " (2, 2, 4),\n",
       " (3, 1, 3),\n",
       " (3, 2, 6),\n",
       " (3, 3, 9),\n",
       " (4, 1, 4),\n",
       " (4, 2, 8),\n",
       " (4, 3, 12),\n",
       " (4, 4, 16),\n",
       " (5, 1, 5),\n",
       " (5, 2, 10),\n",
       " (5, 3, 15),\n",
       " (5, 4, 20),\n",
       " (5, 5, 25),\n",
       " (6, 1, 6),\n",
       " (6, 2, 12),\n",
       " (6, 3, 18),\n",
       " (6, 4, 24),\n",
       " (6, 5, 30),\n",
       " (6, 6, 36),\n",
       " (7, 1, 7),\n",
       " (7, 2, 14),\n",
       " (7, 3, 21),\n",
       " (7, 4, 28),\n",
       " (7, 5, 35),\n",
       " (7, 6, 42),\n",
       " (7, 7, 49),\n",
       " (8, 1, 8),\n",
       " (8, 2, 16),\n",
       " (8, 3, 24),\n",
       " (8, 4, 32),\n",
       " (8, 5, 40),\n",
       " (8, 6, 48),\n",
       " (8, 7, 56),\n",
       " (8, 8, 64),\n",
       " (9, 1, 9),\n",
       " (9, 2, 18),\n",
       " (9, 3, 27),\n",
       " (9, 4, 36),\n",
       " (9, 5, 45),\n",
       " (9, 6, 54),\n",
       " (9, 7, 63),\n",
       " (9, 8, 72),\n",
       " (9, 9, 81)]"
      ]
     },
     "execution_count": 3,
     "metadata": {},
     "output_type": "execute_result"
    }
   ],
   "source": [
    "[(i,j,i*j) for i in range(1,10) for j in range(1, i+1)]"
   ]
  },
  {
   "cell_type": "markdown",
   "metadata": {},
   "source": [
    "### Ex5：洗牌\n",
    "\n",
    "洗牌后的每个元素随机出现在每个位置，且<B><I>概率相同</I></B>"
   ]
  },
  {
   "cell_type": "code",
   "execution_count": 294,
   "metadata": {
    "collapsed": true
   },
   "outputs": [],
   "source": [
    "import random\n",
    "\n",
    "def shuffle_system(cards):\n",
    "    random.shuffle(cards)  \n",
    "    "
   ]
  },
  {
   "cell_type": "code",
   "execution_count": 295,
   "metadata": {
    "collapsed": true
   },
   "outputs": [],
   "source": [
    "def shuffle_1st(cards):\n",
    "    for k in range(len(cards)):\n",
    "        i = random.randint(0, len(cards) - 1)\n",
    "        j = random.randint(0, len(cards) - 1)\n",
    "        cards[i], cards[j] = cards[j], cards[i]"
   ]
  },
  {
   "cell_type": "code",
   "execution_count": 296,
   "metadata": {
    "collapsed": true
   },
   "outputs": [],
   "source": [
    "def shuffle_correct(cards):\n",
    "    for i in range(len(cards)):\n",
    "        randomi = i + random.randint(0, (len(cards) - i - 1))\n",
    "        cards[i], cards[randomi] = cards[randomi], cards[i]\n"
   ]
  },
  {
   "cell_type": "code",
   "execution_count": 297,
   "metadata": {},
   "outputs": [
    {
     "data": {
      "text/plain": [
       "[0, 1, 2, 3, 4, 5, 6, 7, 8, 9]"
      ]
     },
     "execution_count": 297,
     "metadata": {},
     "output_type": "execute_result"
    }
   ],
   "source": [
    "A = [i for i in range(0, 10)]\n",
    "A"
   ]
  },
  {
   "cell_type": "code",
   "execution_count": 298,
   "metadata": {
    "collapsed": true
   },
   "outputs": [],
   "source": [
    "shuffle_system(A)"
   ]
  },
  {
   "cell_type": "code",
   "execution_count": 299,
   "metadata": {},
   "outputs": [
    {
     "data": {
      "text/plain": [
       "[9, 6, 0, 3, 8, 1, 5, 7, 4, 2]"
      ]
     },
     "execution_count": 299,
     "metadata": {},
     "output_type": "execute_result"
    }
   ],
   "source": [
    "A"
   ]
  },
  {
   "cell_type": "code",
   "execution_count": 305,
   "metadata": {
    "collapsed": true
   },
   "outputs": [],
   "source": [
    "def test_shuffle(f):\n",
    "    result = [[0 for i in range(10)] for j in range(10)]\n",
    "\n",
    "    for i in range(1000):\n",
    "        A = [i for i in range(0, 10)]\n",
    "        f(A)\n",
    "        for j in range(len(A)):\n",
    "            result[A[j]][j] += 1\n",
    "        \n",
    "    print('\\n'.join([''.join(['{:6}'.format(item) for item in row]) \n",
    "          for row in result]))"
   ]
  },
  {
   "cell_type": "code",
   "execution_count": 306,
   "metadata": {},
   "outputs": [
    {
     "name": "stdout",
     "output_type": "stream",
     "text": [
      "    87   104   102   110   117    86    98   101    86   109\n",
      "   105   115   111    85   103   109    99   100    92    81\n",
      "   101    99    93   104   103   110    92    92   101   105\n",
      "   115   101    96    84   108   114    90   109    95    88\n",
      "   110   100    98   105    88    85    97   101    99   117\n",
      "   104   105   113    97    84   100   109    89   120    79\n",
      "    87    91    97   104   109    86   111   108   101   106\n",
      "    83    91   100   114   100    87   101   102   111   111\n",
      "   103    94    97   100    99   106    98   101    96   106\n",
      "   105   100    93    97    89   117   105    97    99    98\n"
     ]
    }
   ],
   "source": [
    "test_shuffle(shuffle_system)"
   ]
  },
  {
   "cell_type": "code",
   "execution_count": 307,
   "metadata": {},
   "outputs": [
    {
     "name": "stdout",
     "output_type": "stream",
     "text": [
      "   105   104   128   107   103    96    79   113    81    84\n",
      "    92    97   103    90    99    99    98    97   113   112\n",
      "   107   103   100    93    99    93    99   103   107    96\n",
      "   106   104    91    98    88   107   121    84    90   111\n",
      "   103   109   106    80   106   106    98   100    98    94\n",
      "   100   100   106   102    85    98   100   102   101   106\n",
      "    87    84    96   126    98    85   107   111   111    95\n",
      "   106    86    93   108   103   110   101    97    95   101\n",
      "    96   117    86   102   107    97   104    89    99   103\n",
      "    98    96    91    94   112   109    93   104   105    98\n"
     ]
    }
   ],
   "source": [
    "test_shuffle(shuffle_correct)"
   ]
  },
  {
   "cell_type": "code",
   "execution_count": 308,
   "metadata": {},
   "outputs": [
    {
     "name": "stdout",
     "output_type": "stream",
     "text": [
      "   202   103    85    88    92    87    82    91    91    79\n",
      "    95   193    93   101    89    85    93    84    91    76\n",
      "    99    96   176    96    76   101   101    76    90    89\n",
      "   105    76    92   185    94    97    90    85    74   102\n",
      "    81    79    98    90   197    91    87   101    97    79\n",
      "    89    91    90    80   100   190    89    89    93    89\n",
      "    92    90    88    98    75    88   190    98    81   100\n",
      "    87    85    95    80   105    94    87   179    97    91\n",
      "    78   106    83    83    81    79    86    93   201   110\n",
      "    72    81   100    99    91    88    95   104    85   185\n"
     ]
    }
   ],
   "source": [
    "test_shuffle(shuffle_1st)"
   ]
  },
  {
   "cell_type": "code",
   "execution_count": null,
   "metadata": {
    "collapsed": true
   },
   "outputs": [],
   "source": []
  },
  {
   "cell_type": "markdown",
   "metadata": {},
   "source": [
    "### Ex6：Coupon Collector\n",
    "\n",
    "Suppose that you have a shuffled deck of cards and you turn them face up, one by one. How many cards do you need to turn up before you have seen one of each suit? Given N distinct card types, how many random cards do you need do collect before you have (at least) one of each type? \n"
   ]
  },
  {
   "cell_type": "code",
   "execution_count": 6,
   "metadata": {},
   "outputs": [
    {
     "name": "stdout",
     "output_type": "stream",
     "text": [
      "32\n"
     ]
    }
   ],
   "source": [
    "def coupon(n):\n",
    "    found = [False] * n\n",
    "    count = 0\n",
    "    distinct = 0\n",
    "    while (distinct < n):\n",
    "        val = random.randint(0, n-1)\n",
    "        if (not found[val]):\n",
    "            distinct += 1\n",
    "            found[val] = True\n",
    "        count += 1\n",
    "    print(count)\n",
    "    \n",
    "coupon(10)"
   ]
  },
  {
   "cell_type": "code",
   "execution_count": null,
   "metadata": {
    "collapsed": true
   },
   "outputs": [],
   "source": []
  },
  {
   "cell_type": "markdown",
   "metadata": {},
   "source": [
    "### Ex7：数质数\n",
    "\n",
    "给定一个正整数n，计算出小于等于n的质数有多少个。\n",
    "比如17，则返回7，因为小于等于7的质数有2，3，5，7，13，17"
   ]
  },
  {
   "cell_type": "code",
   "execution_count": 318,
   "metadata": {
    "collapsed": true
   },
   "outputs": [],
   "source": [
    "def count_prime(n):\n",
    "    is_prime = [True] * (n + 1)\n",
    "    i = 2\n",
    "    while (i * i <= n):\n",
    "        if (is_prime[i]):\n",
    "            j = i\n",
    "            while (j * i <= n):\n",
    "                is_prime[i * j] = False\n",
    "                j += 1\n",
    "        i += 1\n",
    "        \n",
    "    count = 0\n",
    "    for i in range(2, n+1):\n",
    "        if (is_prime[i]):\n",
    "            count += 1\n",
    "            print(i, end = \" \")\n",
    "            \n",
    "    return count\n",
    "        "
   ]
  },
  {
   "cell_type": "code",
   "execution_count": 321,
   "metadata": {},
   "outputs": [
    {
     "name": "stdout",
     "output_type": "stream",
     "text": [
      "2 3 5 7 11 13 17 19 23 29 31 37 41 43 47 53 59 61 67 71 73 79 83 89 97 "
     ]
    },
    {
     "data": {
      "text/plain": [
       "25"
      ]
     },
     "execution_count": 321,
     "metadata": {},
     "output_type": "execute_result"
    }
   ],
   "source": [
    "count_prime(100)"
   ]
  },
  {
   "cell_type": "code",
   "execution_count": null,
   "metadata": {
    "collapsed": true
   },
   "outputs": [],
   "source": []
  },
  {
   "cell_type": "markdown",
   "metadata": {},
   "source": [
    "### Ex8：哥德巴赫猜想\n",
    "任一大于2的偶数，都可表示成两个质数之和。\n"
   ]
  },
  {
   "cell_type": "code",
   "execution_count": 325,
   "metadata": {
    "collapsed": true
   },
   "outputs": [],
   "source": [
    "def goldbach(n):\n",
    "    is_prime = [True] * (n + 1)\n",
    "    i = 2\n",
    "    while (i * i <= n):\n",
    "        if (is_prime[i]):\n",
    "            j = i\n",
    "            while (j * i <= n):\n",
    "                is_prime[i * j] = False\n",
    "                j += 1\n",
    "        i += 1\n",
    "        \n",
    "    count = 0\n",
    "    for i in range(2, n+1):\n",
    "        if (is_prime[i]):\n",
    "            count += 1\n",
    "            \n",
    "    primes = [None] * count\n",
    "    idx = 0\n",
    "    for i in range(2, n + 1):\n",
    "        if (is_prime[i]):\n",
    "            primes[idx] = i\n",
    "            idx += 1\n",
    "    \n",
    "    left = 0\n",
    "    right = count - 1\n",
    "    while (left < right):\n",
    "        if (n == primes[left] + primes[right]):\n",
    "            print(n,\" = \", primes[left], \" + \", primes[right])\n",
    "            left += 1\n",
    "            right -= 1\n",
    "        elif (n > primes[left] + primes[right]):\n",
    "            left += 1\n",
    "        else:\n",
    "            right -= 1"
   ]
  },
  {
   "cell_type": "code",
   "execution_count": 328,
   "metadata": {},
   "outputs": [
    {
     "name": "stdout",
     "output_type": "stream",
     "text": [
      "100  =  3  +  97\n",
      "100  =  11  +  89\n",
      "100  =  17  +  83\n",
      "100  =  29  +  71\n",
      "100  =  41  +  59\n",
      "100  =  47  +  53\n"
     ]
    }
   ],
   "source": [
    "goldbach(100)"
   ]
  },
  {
   "cell_type": "markdown",
   "metadata": {
    "collapsed": true
   },
   "source": [
    "### Ex9：1-bit and 2-bit Characters"
   ]
  },
  {
   "cell_type": "code",
   "execution_count": 11,
   "metadata": {
    "collapsed": true
   },
   "outputs": [],
   "source": [
    "def oneEnd(bits):\n",
    "    i = 0\n",
    "    while i < len(bits) - 1:\n",
    "        i += bits[i] + 1\n",
    "    return i == len(bits) - 1 and bits[i] == 0"
   ]
  },
  {
   "cell_type": "code",
   "execution_count": 12,
   "metadata": {},
   "outputs": [
    {
     "name": "stdout",
     "output_type": "stream",
     "text": [
      "True\n",
      "False\n"
     ]
    }
   ],
   "source": [
    "bits = [1,0,0]\n",
    "print(oneEnd(bits))\n",
    "bits = [1, 1, 1, 0, 1]\n",
    "print(oneEnd(bits))"
   ]
  },
  {
   "cell_type": "code",
   "execution_count": 35,
   "metadata": {
    "ExecuteTime": {
     "end_time": "2020-03-25T12:15:48.102700Z",
     "start_time": "2020-03-25T12:15:48.093962Z"
    }
   },
   "outputs": [
    {
     "data": {
      "text/plain": [
       "[[0, 0, 0, 0, 0, 0, 0, 0, 0, 0],\n",
       " [0, 0, 0, 0, 0, 0, 0, 0, 0, 0],\n",
       " [0, 0, 0, 0, 0, 0, 0, 0, 0, 0],\n",
       " [0, 0, 0, 0, 0, 0, 0, 0, 0, 0],\n",
       " [0, 0, 0, 0, 0, 0, 0, 0, 0, 0],\n",
       " [0, 0, 0, 0, 0, 0, 0, 0, 0, 0],\n",
       " [0, 0, 0, 0, 0, 0, 0, 0, 0, 0],\n",
       " [0, 0, 0, 0, 0, 0, 0, 0, 0, 0],\n",
       " [0, 0, 0, 0, 0, 0, 0, 0, 0, 0],\n",
       " [0, 0, 0, 0, 0, 0, 0, 0, 0, 0]]"
      ]
     },
     "execution_count": 35,
     "metadata": {},
     "output_type": "execute_result"
    }
   ],
   "source": [
    "A = [[0 for i in range(10)]for j in range(10)]\n",
    "A"
   ]
  },
  {
   "cell_type": "code",
   "execution_count": null,
   "metadata": {},
   "outputs": [],
   "source": []
  }
 ],
 "metadata": {
  "kernelspec": {
   "display_name": "Python 3.6 (tensorflow)",
   "language": "python",
   "name": "tensorflow"
  },
  "language_info": {
   "codemirror_mode": {
    "name": "ipython",
    "version": 3
   },
   "file_extension": ".py",
   "mimetype": "text/x-python",
   "name": "python",
   "nbconvert_exporter": "python",
   "pygments_lexer": "ipython3",
   "version": "3.6.8"
  },
  "toc": {
   "base_numbering": 1,
   "nav_menu": {},
   "number_sections": true,
   "sideBar": true,
   "skip_h1_title": false,
   "title_cell": "Table of Contents",
   "title_sidebar": "Contents",
   "toc_cell": false,
   "toc_position": {},
   "toc_section_display": true,
   "toc_window_display": false
  },
  "varInspector": {
   "cols": {
    "lenName": 16,
    "lenType": 16,
    "lenVar": 40
   },
   "kernels_config": {
    "python": {
     "delete_cmd_postfix": "",
     "delete_cmd_prefix": "del ",
     "library": "var_list.py",
     "varRefreshCmd": "print(var_dic_list())"
    },
    "r": {
     "delete_cmd_postfix": ") ",
     "delete_cmd_prefix": "rm(",
     "library": "var_list.r",
     "varRefreshCmd": "cat(var_dic_list()) "
    }
   },
   "types_to_exclude": [
    "module",
    "function",
    "builtin_function_or_method",
    "instance",
    "_Feature"
   ],
   "window_display": false
  }
 },
 "nbformat": 4,
 "nbformat_minor": 2
}
