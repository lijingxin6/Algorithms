{
 "cells": [
  {
   "cell_type": "markdown",
   "metadata": {},
   "source": [
    "# Linked List Practice II#"
   ]
  },
  {
   "cell_type": "code",
   "execution_count": 1,
   "metadata": {
    "ExecuteTime": {
     "end_time": "2020-04-24T04:01:41.859921Z",
     "start_time": "2020-04-24T04:01:41.853588Z"
    }
   },
   "outputs": [],
   "source": [
    "from util.LinkedList import LinkedList\n",
    "from util.LinkedList import Node"
   ]
  },
  {
   "cell_type": "markdown",
   "metadata": {},
   "source": [
    "In this lecture, you will learn:\n",
    "\n",
    "<a href='#Ex1'>Ex.1 Merge Two Sorted Lists</a>\n",
    "\n",
    "<a href='#Ex2'>Ex.2 Intersection of Two Linked Lists</a>\n",
    "\n",
    "<a href='#Ex3'>Ex.3 Insertion Sort List</a>\n",
    "\n",
    "<a href='#Ex4'>Ex.4 Sort List</a>\n",
    "\n",
    "<a href='#Ex5'>Ex.5 Partition List</a>\n",
    "\n",
    "<a href='#summary'>Summary</a>"
   ]
  },
  {
   "cell_type": "code",
   "execution_count": null,
   "metadata": {},
   "outputs": [],
   "source": []
  },
  {
   "cell_type": "markdown",
   "metadata": {},
   "source": [
    "### <a id='Ex1'>Ex.1 Merge Two Sorted Lists</a>\n",
    "\n",
    "Merge two sorted linked lists and return it as a new list.\n",
    "\n",
    "Input: 1->2->4, 1->3->4\n",
    "\n",
    "Output: 1->1->2->3->4->4"
   ]
  },
  {
   "cell_type": "code",
   "execution_count": 2,
   "metadata": {
    "ExecuteTime": {
     "end_time": "2020-04-24T04:01:43.980605Z",
     "start_time": "2020-04-24T04:01:43.973545Z"
    }
   },
   "outputs": [],
   "source": [
    "# iteratively\n",
    "# O(m + n)\n",
    "def mergeTwoLists1(l1, l2):\n",
    "    dummy = cur = Node(0)\n",
    "    while l1 and l2:       #  l1 不为空  且 l2不为空\n",
    "        if l1.value < l2.value:\n",
    "            cur.next = l1\n",
    "            l1 = l1.next #l1往后移一个\n",
    "        else:\n",
    "            cur.next = l2\n",
    "            l2 = l2.next\n",
    "        cur = cur.next  # current往后移一个\n",
    "    cur.next = l1 or l2 # 把未连接的全连起来\n",
    "    return dummy.next"
   ]
  },
  {
   "cell_type": "code",
   "execution_count": 4,
   "metadata": {
    "ExecuteTime": {
     "end_time": "2020-04-24T04:01:49.721912Z",
     "start_time": "2020-04-24T04:01:49.704458Z"
    }
   },
   "outputs": [
    {
     "name": "stdout",
     "output_type": "stream",
     "text": [
      "1 1 2 3 4 4 \n"
     ]
    }
   ],
   "source": [
    "node11 = Node(1)\n",
    "node12 = Node(2)\n",
    "node14 = Node(4)\n",
    "node11.next = node12\n",
    "node12.next = node14\n",
    "\n",
    "node21 = Node(1)\n",
    "node23 = Node(3)\n",
    "node24 = Node(4)\n",
    "node21.next = node23\n",
    "node23.next = node24\n",
    "\n",
    "node = mergeTwoLists1(node11, node21)\n",
    "lst = LinkedList()\n",
    "lst.head.next = node\n",
    "lst.printlist()"
   ]
  },
  {
   "cell_type": "code",
   "execution_count": 5,
   "metadata": {
    "ExecuteTime": {
     "end_time": "2020-04-24T04:01:50.491901Z",
     "start_time": "2020-04-24T04:01:50.480600Z"
    }
   },
   "outputs": [],
   "source": [
    "# recursively    \n",
    "def mergeTwoLists2(l1, l2):\n",
    "    if not l1 or not l2: # l1为空 或 l2为空\n",
    "        return l1 or l2 \n",
    "    if l1.value < l2.value:\n",
    "        l1.next = mergeTwoLists2(l1.next, l2)\n",
    "        return l1\n",
    "    else:\n",
    "        l2.next = mergeTwoLists2(l1, l2.next)\n",
    "        return l2"
   ]
  },
  {
   "cell_type": "markdown",
   "metadata": {},
   "source": [
    "### <a id='Ex2'>Ex.2 Intersection of Two Linked Lists</a>\n",
    "\n",
    "Write a program to find the node at which the intersection of two singly linked lists begins.\n",
    "\n",
    "\n",
    "For example, the following two linked lists:\n",
    "\n",
    "A:          a1 → a2\n",
    "\n",
    "                   ↘\n",
    "                   \n",
    "                     c1 → c2 → c3\n",
    "                     \n",
    "                   ↗    \n",
    "                   \n",
    "B:     b1 → b2 → b3\n",
    "\n",
    "begin to intersect at node c1."
   ]
  },
  {
   "cell_type": "code",
   "execution_count": 6,
   "metadata": {
    "ExecuteTime": {
     "end_time": "2020-04-24T04:01:52.320574Z",
     "start_time": "2020-04-24T04:01:52.312285Z"
    }
   },
   "outputs": [],
   "source": [
    "def getIntersectionNode(headA, headB):\n",
    "    curA, curB = headA, headB\n",
    "    lenA, lenB = 0, 0\n",
    "    # 分别得到 A B的长度\n",
    "    while curA is not None:\n",
    "        lenA += 1\n",
    "        curA = curA.next\n",
    "    while curB is not None:\n",
    "        lenB += 1\n",
    "        curB = curB.next\n",
    "    # 从头开始\n",
    "    curA, curB = headA, headB\n",
    "    if lenA > lenB:\n",
    "        for i in range(lenA-lenB):\n",
    "            curA = curA.next\n",
    "    elif lenB > lenA:\n",
    "        for i in range(lenB-lenA):\n",
    "            curB = curB.next\n",
    "    while curB != curA:\n",
    "        curB = curB.next\n",
    "        curA = curA.next\n",
    "    return curA"
   ]
  },
  {
   "cell_type": "code",
   "execution_count": null,
   "metadata": {},
   "outputs": [],
   "source": []
  },
  {
   "cell_type": "code",
   "execution_count": 7,
   "metadata": {
    "ExecuteTime": {
     "end_time": "2020-04-24T04:01:53.330817Z",
     "start_time": "2020-04-24T04:01:53.318663Z"
    }
   },
   "outputs": [],
   "source": [
    "def getIntersectionNode2(headA, headB):\n",
    "    if headA and headB:\n",
    "        A, B = headA, headB\n",
    "        while A!=B:\n",
    "            A = A.next if A else headB   # else -> A到终点才执行\n",
    "            B = B.next if B else headA\n",
    "        return A      # 相遇 返回任意一点"
   ]
  },
  {
   "cell_type": "code",
   "execution_count": null,
   "metadata": {},
   "outputs": [],
   "source": []
  },
  {
   "cell_type": "markdown",
   "metadata": {},
   "source": [
    "### <a id='Ex3'>Ex.3 Insertion Sort List</a>"
   ]
  },
  {
   "cell_type": "code",
   "execution_count": 8,
   "metadata": {
    "ExecuteTime": {
     "end_time": "2020-04-24T04:01:55.647347Z",
     "start_time": "2020-04-24T04:01:55.642237Z"
    }
   },
   "outputs": [],
   "source": [
    "import time"
   ]
  },
  {
   "cell_type": "code",
   "execution_count": 9,
   "metadata": {
    "ExecuteTime": {
     "end_time": "2020-04-24T04:01:56.132882Z",
     "start_time": "2020-04-24T04:01:56.127154Z"
    }
   },
   "outputs": [],
   "source": [
    "# 1\n",
    "def test1(n, A):\n",
    "    a = 0\n",
    "    for i in range (n):\n",
    "        if A:  # check: A is not None, A is not 0, A is not ''\n",
    "            a += 1\n",
    "        else:\n",
    "            a -= 1"
   ]
  },
  {
   "cell_type": "code",
   "execution_count": 10,
   "metadata": {
    "ExecuteTime": {
     "end_time": "2020-04-24T04:01:56.531478Z",
     "start_time": "2020-04-24T04:01:56.524300Z"
    }
   },
   "outputs": [],
   "source": [
    "# 2\n",
    "def test2(n, A):\n",
    "    a = 0\n",
    "    for i in range (n):\n",
    "        if A is not None:\n",
    "            a += 1\n",
    "        else:\n",
    "            a -= 1"
   ]
  },
  {
   "cell_type": "code",
   "execution_count": 11,
   "metadata": {
    "ExecuteTime": {
     "end_time": "2020-04-24T04:01:57.762475Z",
     "start_time": "2020-04-24T04:01:56.905835Z"
    }
   },
   "outputs": [
    {
     "name": "stdout",
     "output_type": "stream",
     "text": [
      "--- 0.8526997566223145 seconds ---\n"
     ]
    }
   ],
   "source": [
    "n = 10000000\n",
    "A = None\n",
    "start_time = time.time()\n",
    "test1(n, A)\n",
    "print(\"--- %s seconds ---\" % (time.time() - start_time))"
   ]
  },
  {
   "cell_type": "code",
   "execution_count": 12,
   "metadata": {
    "ExecuteTime": {
     "end_time": "2020-04-24T04:01:59.066490Z",
     "start_time": "2020-04-24T04:01:57.820466Z"
    }
   },
   "outputs": [
    {
     "name": "stdout",
     "output_type": "stream",
     "text": [
      "--- 1.1070888042449951 seconds ---\n"
     ]
    }
   ],
   "source": [
    "n = 10000000\n",
    "A = None\n",
    "start_time = time.time()\n",
    "test2(n, A)\n",
    "print(\"--- %s seconds ---\" % (time.time() - start_time))"
   ]
  },
  {
   "cell_type": "code",
   "execution_count": 13,
   "metadata": {
    "ExecuteTime": {
     "end_time": "2020-04-24T04:01:59.169160Z",
     "start_time": "2020-04-24T04:01:59.157633Z"
    }
   },
   "outputs": [],
   "source": [
    "# O(n^2)\n",
    "def insertionSortList(head):\n",
    "    dummy = Node(0)\n",
    "    cur = head\n",
    "    # pre is the sorted part\n",
    "    # when see a new node, start from dummy\n",
    "    # cur is the unsorted part\n",
    "    while cur is not None: # 还有元素没有探索过  cur就是新元素\n",
    "        pre = dummy # 每次第一步 先把dummy设置成prev\n",
    "        while pre.next is not None and pre.next.value < cur.value: # prev.next 比 cur小  prev后移\n",
    "            pre = pre.next\n",
    "        temp = cur.next  # 新建一个temp  方便cur后移\n",
    "        cur.next = pre.next  # cur 连接到 pre.next的那个元素, 断开cur 与temp的连接\n",
    "        pre.next = cur       # pre.next断开与 prev下一个元素的连接, 连接 cur\n",
    "        cur = temp           # cur 后移一位到temp\n",
    "    return dummy.next"
   ]
  },
  {
   "cell_type": "code",
   "execution_count": 14,
   "metadata": {
    "ExecuteTime": {
     "end_time": "2020-04-24T04:01:59.274063Z",
     "start_time": "2020-04-24T04:01:59.221819Z"
    }
   },
   "outputs": [
    {
     "name": "stdout",
     "output_type": "stream",
     "text": [
      "-9 1 -13 6 5 \n",
      "-13 -9 1 5 6 \n"
     ]
    }
   ],
   "source": [
    "node1 = Node(-9)\n",
    "node2 = Node(1)\n",
    "node3 = Node(-13)\n",
    "node4 = Node(6)\n",
    "node5 = Node(5)\n",
    "node1.next = node2\n",
    "node2.next = node3\n",
    "node3.next = node4\n",
    "node4.next = node5\n",
    "lst = LinkedList()\n",
    "lst.head.next = node1\n",
    "lst.printlist()\n",
    "\n",
    "node = insertionSortList(node1)\n",
    "\n",
    "lst.head.next = node\n",
    "lst.printlist()\n"
   ]
  },
  {
   "cell_type": "code",
   "execution_count": null,
   "metadata": {},
   "outputs": [],
   "source": []
  },
  {
   "cell_type": "markdown",
   "metadata": {},
   "source": [
    "### <a id='Ex4'>Ex.4 Sort List</a>\n",
    "\n",
    "Sort a linked list in O(n log n) time using constant space complexity."
   ]
  },
  {
   "cell_type": "code",
   "execution_count": 15,
   "metadata": {
    "ExecuteTime": {
     "end_time": "2020-04-24T04:02:00.674314Z",
     "start_time": "2020-04-24T04:02:00.664376Z"
    }
   },
   "outputs": [],
   "source": [
    "def sortList(head):\n",
    "    if head is None or head.next is None:\n",
    "        return head\n",
    "    mid = getMiddle(head)\n",
    "    rHead = mid.next\n",
    "    mid.next = None\n",
    "    return merge(sortList(head), sortList(rHead))\n",
    "\n",
    "def merge(lHead, rHead):\n",
    "    dummyNode = dummyHead = Node(0)\n",
    "    while lHead and rHead:\n",
    "        if lHead.value < rHead.value:\n",
    "            dummyHead.next = lHead\n",
    "            lHead = lHead.next\n",
    "        else:\n",
    "            dummyHead.next = rHead\n",
    "            rHead = rHead.next\n",
    "        dummyHead = dummyHead.next\n",
    "    if lHead:\n",
    "        dummyHead.next = lHead\n",
    "    elif rHead:\n",
    "        dummyHead.next = rHead\n",
    "    return dummyNode.next\n",
    "\n",
    "def getMiddle(head):\n",
    "    if head is None:\n",
    "        return head\n",
    "    slow = head\n",
    "    fast = head\n",
    "    while fast.next and fast.next.next:\n",
    "        slow = slow.next\n",
    "        fast = fast.next.next\n",
    "    return slow"
   ]
  },
  {
   "cell_type": "code",
   "execution_count": 16,
   "metadata": {
    "ExecuteTime": {
     "end_time": "2020-04-24T04:02:00.959555Z",
     "start_time": "2020-04-24T04:02:00.948290Z"
    }
   },
   "outputs": [
    {
     "name": "stdout",
     "output_type": "stream",
     "text": [
      "1 5 6 9 13 \n"
     ]
    }
   ],
   "source": [
    "node1 = Node(9)\n",
    "node2 = Node(1)\n",
    "node3 = Node(13)\n",
    "node4 = Node(6)\n",
    "node5 = Node(5)\n",
    "node1.next = node2\n",
    "node2.next = node3\n",
    "node3.next = node4\n",
    "node4.next = node5\n",
    "node = sortList(node1)\n",
    "lst = LinkedList()\n",
    "lst.head.next = node\n",
    "lst.printlist()"
   ]
  },
  {
   "cell_type": "code",
   "execution_count": null,
   "metadata": {},
   "outputs": [],
   "source": []
  },
  {
   "cell_type": "markdown",
   "metadata": {
    "collapsed": true
   },
   "source": [
    "### <a id='Ex5'>Ex.5 Partition List</a>\n",
    "\n",
    "Given a linked list and a value x, partition it such that all nodes less than x come before nodes greater than or equal to x.\n"
   ]
  },
  {
   "cell_type": "code",
   "execution_count": 17,
   "metadata": {
    "ExecuteTime": {
     "end_time": "2020-04-24T04:02:02.026345Z",
     "start_time": "2020-04-24T04:02:02.015141Z"
    }
   },
   "outputs": [],
   "source": [
    "def partition(head, x):\n",
    "    left_head = Node(None)  # head of the list with nodes values < x\n",
    "    right_head = Node(None)  # head of the list with nodes values >= x\n",
    "    left = left_head  # attach here nodes with values < x\n",
    "    right = right_head  # attach here nodes with values >= x\n",
    "    # traverse the list and attach current node to left or right nodes\n",
    "    while head:\n",
    "        if head.value < x:\n",
    "            left.next = head\n",
    "            left = left.next\n",
    "        else:  # head.val >= x\n",
    "            right.next = head\n",
    "            right = right.next\n",
    "        head = head.next\n",
    "    right.next = None  # set tail of the right list to None\n",
    "    left.next = right_head.next  # attach left list to the right\n",
    "    return left_head.next  # head of a new partitioned list"
   ]
  },
  {
   "cell_type": "code",
   "execution_count": 18,
   "metadata": {
    "ExecuteTime": {
     "end_time": "2020-04-24T04:02:02.449645Z",
     "start_time": "2020-04-24T04:02:02.435033Z"
    }
   },
   "outputs": [
    {
     "name": "stdout",
     "output_type": "stream",
     "text": [
      "1 2 2 4 3 5 \n"
     ]
    }
   ],
   "source": [
    "#head = 1->4->3->2->5->2, x = 3\n",
    "node1 = Node(1)\n",
    "node2 = Node(4)\n",
    "node3 = Node(3)\n",
    "node4 = Node(2)\n",
    "node5 = Node(5)\n",
    "node6 = Node(2)\n",
    "node1.next = node2\n",
    "node2.next = node3\n",
    "node3.next = node4\n",
    "node4.next = node5\n",
    "node5.next = node6\n",
    "node = partition(node1, 3)\n",
    "lst = LinkedList()\n",
    "lst.head.next = node\n",
    "lst.printlist()"
   ]
  },
  {
   "cell_type": "code",
   "execution_count": null,
   "metadata": {
    "collapsed": true
   },
   "outputs": [],
   "source": []
  }
 ],
 "metadata": {
  "kernelspec": {
   "display_name": "Python 3.6 (tensorflow)",
   "language": "python",
   "name": "tensorflow"
  },
  "language_info": {
   "codemirror_mode": {
    "name": "ipython",
    "version": 3
   },
   "file_extension": ".py",
   "mimetype": "text/x-python",
   "name": "python",
   "nbconvert_exporter": "python",
   "pygments_lexer": "ipython3",
   "version": "3.6.8"
  },
  "toc": {
   "base_numbering": 1,
   "nav_menu": {},
   "number_sections": true,
   "sideBar": true,
   "skip_h1_title": false,
   "title_cell": "Table of Contents",
   "title_sidebar": "Contents",
   "toc_cell": false,
   "toc_position": {},
   "toc_section_display": true,
   "toc_window_display": false
  },
  "varInspector": {
   "cols": {
    "lenName": 16,
    "lenType": 16,
    "lenVar": 40
   },
   "kernels_config": {
    "python": {
     "delete_cmd_postfix": "",
     "delete_cmd_prefix": "del ",
     "library": "var_list.py",
     "varRefreshCmd": "print(var_dic_list())"
    },
    "r": {
     "delete_cmd_postfix": ") ",
     "delete_cmd_prefix": "rm(",
     "library": "var_list.r",
     "varRefreshCmd": "cat(var_dic_list()) "
    }
   },
   "types_to_exclude": [
    "module",
    "function",
    "builtin_function_or_method",
    "instance",
    "_Feature"
   ],
   "window_display": false
  }
 },
 "nbformat": 4,
 "nbformat_minor": 2
}
