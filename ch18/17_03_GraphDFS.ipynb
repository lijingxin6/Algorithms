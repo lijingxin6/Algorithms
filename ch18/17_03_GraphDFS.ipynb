{
 "cells": [
  {
   "cell_type": "markdown",
   "metadata": {},
   "source": [
    "# Graph III DFS #"
   ]
  },
  {
   "cell_type": "code",
   "execution_count": 1,
   "metadata": {
    "ExecuteTime": {
     "end_time": "2020-05-16T13:06:14.564486Z",
     "start_time": "2020-05-16T13:06:14.342881Z"
    }
   },
   "outputs": [
    {
     "ename": "ModuleNotFoundError",
     "evalue": "No module named 'AdjListGraph'",
     "output_type": "error",
     "traceback": [
      "\u001b[0;31m---------------------------------------------------------------------------\u001b[0m",
      "\u001b[0;31mModuleNotFoundError\u001b[0m                       Traceback (most recent call last)",
      "\u001b[0;32m<ipython-input-1-0529ae9a7ac8>\u001b[0m in \u001b[0;36m<module>\u001b[0;34m\u001b[0m\n\u001b[0;32m----> 1\u001b[0;31m \u001b[0;32mfrom\u001b[0m \u001b[0mAdjListGraph\u001b[0m \u001b[0;32mimport\u001b[0m \u001b[0mGraph\u001b[0m\u001b[0;34m\u001b[0m\u001b[0;34m\u001b[0m\u001b[0m\n\u001b[0m\u001b[1;32m      2\u001b[0m \u001b[0;32mfrom\u001b[0m \u001b[0mAdjListGraph\u001b[0m \u001b[0;32mimport\u001b[0m \u001b[0mVertex\u001b[0m\u001b[0;34m\u001b[0m\u001b[0;34m\u001b[0m\u001b[0m\n",
      "\u001b[0;31mModuleNotFoundError\u001b[0m: No module named 'AdjListGraph'"
     ]
    }
   ],
   "source": [
    "from AdjListGraph import Graph\n",
    "from AdjListGraph import Vertex"
   ]
  },
  {
   "cell_type": "code",
   "execution_count": 2,
   "metadata": {},
   "outputs": [
    {
     "name": "stdout",
     "output_type": "stream",
     "text": [
      "[('a', 'b', 1), ('a', 'c', 1), ('a', 'f', 1), ('b', 'd', 1), ('b', 'e', 1), ('c', 'd', 1), ('c', 'e', 1), ('d', 'e', 1), ('e', 'a', 1)]\n",
      "('a', 'b', 1)\n",
      "('a', 'c', 1)\n",
      "('a', 'f', 1)\n",
      "('b', 'd', 1)\n",
      "('b', 'e', 1)\n",
      "('c', 'd', 1)\n",
      "('c', 'e', 1)\n",
      "('d', 'e', 1)\n",
      "('e', 'a', 1)\n"
     ]
    }
   ],
   "source": [
    "G = Graph(True)\n",
    "G.addVertex('a')\n",
    "G.addVertex('b')\n",
    "G.addVertex('c')\n",
    "G.addVertex('d')\n",
    "G.addVertex('e')\n",
    "G.addVertex('f')\n",
    "G.addEdge('a', 'b', 1)  \n",
    "G.addEdge('a', 'c', 1)\n",
    "G.addEdge('b', 'd', 1)\n",
    "G.addEdge('b', 'e', 1)\n",
    "G.addEdge('c', 'd', 1)\n",
    "G.addEdge('c', 'e', 1)\n",
    "G.addEdge('d', 'e', 1)\n",
    "G.addEdge('e', 'a', 1)\n",
    "G.addEdge('a', 'f', 1)\n",
    "print (G.getEdges())\n",
    "for k in G.getEdges():\n",
    "    print(k)"
   ]
  },
  {
   "cell_type": "code",
   "execution_count": 3,
   "metadata": {
    "collapsed": true
   },
   "outputs": [],
   "source": [
    "def dfs(G, currentVert, visited):\n",
    "    visited[currentVert] = True  # mark the visited node \n",
    "    print(\"traversal: \" + currentVert.getVertexID())\n",
    "    for nbr in currentVert.getConnections():  # take a neighbouring node \n",
    "        if nbr not in visited:  # condition to check whether the neighbour node is already visited\n",
    "            dfs(G, nbr, visited)  # recursively traverse the neighbouring node\n",
    "    return \n",
    " \n",
    "def DFSTraversal(G):\n",
    "    visited = {}  # Dictionary to mark the visited nodes \n",
    "    for currentVert in G:  # G contains vertex objects\n",
    "        if currentVert not in visited:  # Start traversing from the root node only if its not visited \n",
    "            dfs(G, currentVert, visited)  # For a connected graph this is called only onc"
   ]
  },
  {
   "cell_type": "code",
   "execution_count": 4,
   "metadata": {},
   "outputs": [
    {
     "name": "stdout",
     "output_type": "stream",
     "text": [
      "traversal: a\n",
      "traversal: b\n",
      "traversal: d\n",
      "traversal: e\n",
      "traversal: c\n",
      "traversal: f\n"
     ]
    }
   ],
   "source": [
    "DFSTraversal(G)"
   ]
  },
  {
   "cell_type": "code",
   "execution_count": 5,
   "metadata": {},
   "outputs": [
    {
     "name": "stdout",
     "output_type": "stream",
     "text": [
      "traversal: d\n",
      "traversal: e\n",
      "traversal: a\n",
      "traversal: b\n",
      "traversal: c\n",
      "traversal: f\n"
     ]
    }
   ],
   "source": [
    "visited = {}\n",
    "v = G.getVertex('d')\n",
    "dfs(G, v, visited)"
   ]
  },
  {
   "cell_type": "code",
   "execution_count": 4,
   "metadata": {
    "ExecuteTime": {
     "end_time": "2020-05-17T01:51:43.951547Z",
     "start_time": "2020-05-17T01:51:43.943631Z"
    }
   },
   "outputs": [],
   "source": [
    "def dfsIterative(G, start, dest):\n",
    "    stack = [] # vertex\n",
    "    visited = set() # vertex id\n",
    "    parent = {} # vertex id\n",
    "    \n",
    "    stack.append(start)\n",
    "    \n",
    "    while len(stack) != 0:\n",
    "        curr = stack.pop() # vertex\n",
    "        print(\"visiting \", curr.getVertexID())\n",
    "        if (curr.getVertexID() == dest.getVertexID()):\n",
    "            return parent\n",
    "        neighbors = G.getNeighbors(curr.getVertexID()) # \n",
    "\n",
    "        for n in neighbors:\n",
    "            id = n.getVertexID()\n",
    "            if id in visited: continue # 如果存在visited的 set里, 就直接 continue 跳出当前循环,进行下一次循环\n",
    "            visited.add(id)\n",
    "            parent[id] = curr.getVertexID() # update parent的hashmap\n",
    "            stack.append(n)\n",
    "    return None"
   ]
  },
  {
   "cell_type": "code",
   "execution_count": 3,
   "metadata": {
    "ExecuteTime": {
     "end_time": "2020-05-17T01:51:26.168328Z",
     "start_time": "2020-05-17T01:51:26.161117Z"
    }
   },
   "outputs": [],
   "source": [
    "    def getVertex(self, n):\n",
    "        if n in self.vertDictionary:\n",
    "            return self.vertDictionary[n]  # 直接在Dict返回  没有的话返回None\n",
    "        else:\n",
    "            return None\n",
    "    \n",
    "    def getNeighbors(self, v):\n",
    "        vertex = self.vertDictionary[v]\n",
    "        return vertex.getConnections()"
   ]
  },
  {
   "cell_type": "code",
   "execution_count": 12,
   "metadata": {},
   "outputs": [
    {
     "name": "stdout",
     "output_type": "stream",
     "text": [
      "visiting  a\n",
      "visiting  f\n",
      "visiting  c\n",
      "visiting  e\n",
      "visiting  a\n",
      "visiting  d\n",
      "{'b': 'a', 'c': 'a', 'f': 'a', 'd': 'c', 'e': 'c', 'a': 'e'}\n"
     ]
    }
   ],
   "source": [
    "start = G.getVertex('a')\n",
    "dest = G.getVertex('d')\n",
    "parent = dfsIterative(G, start, dest)\n",
    "print(parent)"
   ]
  },
  {
   "cell_type": "code",
   "execution_count": 13,
   "metadata": {},
   "outputs": [
    {
     "name": "stdout",
     "output_type": "stream",
     "text": [
      "[('a', 'b', 1), ('a', 'c', 1), ('a', 'd', 1), ('d', 'e', 1), ('e', 'f', 1)]\n",
      "('a', 'b', 1)\n",
      "('a', 'c', 1)\n",
      "('a', 'd', 1)\n",
      "('d', 'e', 1)\n",
      "('e', 'f', 1)\n"
     ]
    }
   ],
   "source": [
    "G = Graph(True)\n",
    "G.addVertex('a')\n",
    "G.addVertex('b')\n",
    "G.addVertex('c')\n",
    "G.addVertex('d')\n",
    "G.addVertex('e')\n",
    "G.addVertex('f')\n",
    "G.addEdge('a', 'b', 1)  \n",
    "G.addEdge('a', 'c', 1)\n",
    "G.addEdge('a', 'd', 1)\n",
    "G.addEdge('d', 'e', 1)\n",
    "G.addEdge('e', 'f', 1)\n",
    "print (G.getEdges())\n",
    "for k in G.getEdges():\n",
    "    print(k)"
   ]
  },
  {
   "cell_type": "code",
   "execution_count": 14,
   "metadata": {},
   "outputs": [
    {
     "name": "stdout",
     "output_type": "stream",
     "text": [
      "visiting  a\n",
      "visiting  d\n",
      "{'b': 'a', 'c': 'a', 'd': 'a'}\n"
     ]
    }
   ],
   "source": [
    "start = G.getVertex('a')\n",
    "dest = G.getVertex('d')\n",
    "parent = dfsIterative(G, start, dest)\n",
    "print(parent)"
   ]
  },
  {
   "cell_type": "code",
   "execution_count": null,
   "metadata": {
    "collapsed": true
   },
   "outputs": [],
   "source": []
  },
  {
   "cell_type": "code",
   "execution_count": null,
   "metadata": {
    "collapsed": true
   },
   "outputs": [],
   "source": []
  }
 ],
 "metadata": {
  "kernelspec": {
   "display_name": "Python 3.6 (tensorflow)",
   "language": "python",
   "name": "tensorflow"
  },
  "language_info": {
   "codemirror_mode": {
    "name": "ipython",
    "version": 3
   },
   "file_extension": ".py",
   "mimetype": "text/x-python",
   "name": "python",
   "nbconvert_exporter": "python",
   "pygments_lexer": "ipython3",
   "version": "3.6.8"
  },
  "toc": {
   "base_numbering": 1,
   "nav_menu": {},
   "number_sections": true,
   "sideBar": true,
   "skip_h1_title": false,
   "title_cell": "Table of Contents",
   "title_sidebar": "Contents",
   "toc_cell": false,
   "toc_position": {},
   "toc_section_display": true,
   "toc_window_display": false
  },
  "varInspector": {
   "cols": {
    "lenName": 16,
    "lenType": 16,
    "lenVar": 40
   },
   "kernels_config": {
    "python": {
     "delete_cmd_postfix": "",
     "delete_cmd_prefix": "del ",
     "library": "var_list.py",
     "varRefreshCmd": "print(var_dic_list())"
    },
    "r": {
     "delete_cmd_postfix": ") ",
     "delete_cmd_prefix": "rm(",
     "library": "var_list.r",
     "varRefreshCmd": "cat(var_dic_list()) "
    }
   },
   "types_to_exclude": [
    "module",
    "function",
    "builtin_function_or_method",
    "instance",
    "_Feature"
   ],
   "window_display": false
  }
 },
 "nbformat": 4,
 "nbformat_minor": 2
}
