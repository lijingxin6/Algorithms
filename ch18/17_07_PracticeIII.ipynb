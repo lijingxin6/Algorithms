{
 "cells": [
  {
   "cell_type": "markdown",
   "metadata": {},
   "source": [
    "# Graph Practice III #"
   ]
  },
  {
   "cell_type": "code",
   "execution_count": 2,
   "metadata": {
    "ExecuteTime": {
     "end_time": "2020-05-21T01:25:17.099502Z",
     "start_time": "2020-05-21T01:25:17.094544Z"
    }
   },
   "outputs": [],
   "source": [
    "from AdjListGraph import Graph\n",
    "from AdjListGraph import Vertex"
   ]
  },
  {
   "cell_type": "markdown",
   "metadata": {},
   "source": [
    "### <a id='Ex1'>Ex.1 Is Graph Bipartite?</a>\n",
    "\n",
    "Given an undirected graph, return true if and only if it is bipartite.\n",
    "\n",
    "Recall that a graph is bipartite if we can split it's set of nodes into two independent subsets A and B such that every edge in the graph has one node in A and another node in B.\n",
    "\n",
    "The graph is given in the following form: graph[i] is a list of indexes j for which the edge between nodes i and j exists.  Each node is an integer between 0 and graph.length - 1.  There are no self edges or parallel edges: graph[i] does not contain i, and it doesn't contain any element twice.\n",
    "\n",
    "<img src=\"../images/ch17/bipartite1.png\" width=\"440\"/>\n",
    "<img src=\"../images/ch17/bipartite2.png\" width=\"540\"/>"
   ]
  },
  {
   "cell_type": "markdown",
   "metadata": {
    "collapsed": true
   },
   "source": [
    "** Solution **\n",
    "\n",
    "Our goal is trying to use two colors to color the graph and see if there are any adjacent nodes having the same color.\n",
    "Initialize a color[] array for each node. Here are three states for colors[] array:\n",
    "\n",
    "-1: Haven't been colored.\n",
    "\n",
    "0: Blue.\n",
    "\n",
    "1: Red.\n",
    "\n",
    "For each node,\n",
    "\n",
    "If it hasn’t been colored, use a color to color it. Then use the other color to color all its adjacent nodes (DFS).\n",
    "If it has been colored, check if the current color is the same as the color that is going to be used to color it. "
   ]
  },
  {
   "cell_type": "code",
   "execution_count": 6,
   "metadata": {
    "ExecuteTime": {
     "end_time": "2020-05-21T01:25:31.547375Z",
     "start_time": "2020-05-21T01:25:31.540524Z"
    }
   },
   "outputs": [],
   "source": [
    "def isBipartite(graph):\n",
    "    color = {} # key是node的 ID,  value是 颜色: 0 1\n",
    "    def dfs(pos):\n",
    "        for i in graph[pos]: # 对于每个node\n",
    "            if i in color: # i是邻居  color[i]是邻居的color    color[pos]是当前node的颜色 \n",
    "                if color[i] == color[pos]: return False\n",
    "            else:\n",
    "                color[i] = color[pos] ^ 1 # 颜色反转\n",
    "                if not dfs(i): return False  # 递归调用\n",
    "        return True\n",
    "    \n",
    "    for i in range(len(graph)): # 对每个node进行check\n",
    "        if i not in color: color[i] = 0 # 未访问过, 颜色设置成0\n",
    "        if not dfs(i): return False # 如果dfs运行不下去 是False的话, 就返回False\n",
    "    return True"
   ]
  },
  {
   "cell_type": "code",
   "execution_count": 7,
   "metadata": {
    "ExecuteTime": {
     "end_time": "2020-05-21T01:25:31.989606Z",
     "start_time": "2020-05-21T01:25:31.981669Z"
    }
   },
   "outputs": [
    {
     "data": {
      "text/plain": [
       "True"
      ]
     },
     "execution_count": 7,
     "metadata": {},
     "output_type": "execute_result"
    }
   ],
   "source": [
    "graph = [[1,3], [0,2], [1,3], [0,2]]\n",
    "isBipartite(graph)"
   ]
  },
  {
   "cell_type": "code",
   "execution_count": 8,
   "metadata": {
    "ExecuteTime": {
     "end_time": "2020-05-21T01:25:32.711231Z",
     "start_time": "2020-05-21T01:25:32.698251Z"
    }
   },
   "outputs": [
    {
     "data": {
      "text/plain": [
       "False"
      ]
     },
     "execution_count": 8,
     "metadata": {},
     "output_type": "execute_result"
    }
   ],
   "source": [
    "graph = [[1,2,3], [0,2], [0,1,3], [0,2]]\n",
    "isBipartite(graph)"
   ]
  },
  {
   "cell_type": "code",
   "execution_count": null,
   "metadata": {
    "collapsed": true
   },
   "outputs": [],
   "source": []
  },
  {
   "cell_type": "markdown",
   "metadata": {},
   "source": [
    "### <a id='Ex2'>Ex.2 Pacific Atlantic Water Flow</a>\n",
    "\n",
    "Given an m x n matrix of non-negative integers representing the height of each unit cell in a continent, the \"Pacific ocean\" touches the left and top edges of the matrix and the \"Atlantic ocean\" touches the right and bottom edges.\n",
    "\n",
    "Water can only flow in four directions (up, down, left, or right) from a cell to another one with height equal or lower.\n",
    "\n",
    "Find the list of grid coordinates where water can flow to both the Pacific and Atlantic ocean.\n",
    "\n",
    "<img src=\"../images/ch17/ocean.png\" width=\"740\"/>"
   ]
  },
  {
   "cell_type": "code",
   "execution_count": 9,
   "metadata": {
    "ExecuteTime": {
     "end_time": "2020-05-21T02:10:33.524096Z",
     "start_time": "2020-05-21T02:10:33.477685Z"
    }
   },
   "outputs": [],
   "source": [
    "def pacificAtlantic(matrix):\n",
    "\n",
    "    if not matrix: return []\n",
    "    directions = [(1,0),(-1,0),(0,1),(0,-1)]\n",
    "    m = len(matrix)\n",
    "    n = len(matrix[0])\n",
    "    p_visited = [[False for _ in range(n)] for _ in range(m)]\n",
    "\n",
    "    a_visited = [[False for _ in range(n)] for _ in range(m)]\n",
    "    result = []\n",
    "\n",
    "    for i in range(m):\n",
    "        # p_visited[i][0] = True\n",
    "        # a_visited[i][n-1] = True\n",
    "        dfs(matrix, i, 0, p_visited, m, n)   # 最左边\n",
    "        dfs(matrix, i, n-1, a_visited, m, n) # 最右边\n",
    "    for j in range(n):\n",
    "        # p_visited[0][j] = True\n",
    "        # a_visited[m-1][j] = True\n",
    "        dfs(matrix, 0, j, p_visited, m, n)  # 最上面\n",
    "        dfs(matrix, m-1, j, a_visited, m, n)# 最下面\n",
    "\n",
    "    for i in range(m):\n",
    "        for j in range(n):\n",
    "            if p_visited[i][j] and a_visited[i][j]: # 求交集  都是True的点\n",
    "                result.append([i,j])\n",
    "    return result\n",
    "\n",
    "\n",
    "def dfs(matrix, i, j, visited, m, n):\n",
    "    # when dfs called, meaning its caller already verified this point \n",
    "    visited[i][j] = True\n",
    "    for dir in [(1,0),(-1,0),(0,1),(0,-1)]:\n",
    "        x, y = i + dir[0], j + dir[1]\n",
    "        if x < 0 or x >= m or y < 0 or y >= n or visited[x][y] or matrix[x][y] < matrix[i][j]: # 下面找的点要大于等于我 才能继续找,小于我就不能反向推了\n",
    "            continue\n",
    "        dfs(matrix, x, y, visited, m, n)"
   ]
  },
  {
   "cell_type": "code",
   "execution_count": 10,
   "metadata": {
    "ExecuteTime": {
     "end_time": "2020-05-21T02:11:04.018643Z",
     "start_time": "2020-05-21T02:11:04.007925Z"
    }
   },
   "outputs": [
    {
     "data": {
      "text/plain": [
       "[[0, 4], [1, 3], [1, 4], [2, 2], [3, 0], [3, 1], [4, 0]]"
      ]
     },
     "execution_count": 10,
     "metadata": {},
     "output_type": "execute_result"
    }
   ],
   "source": [
    "matrix = [\n",
    "    [1,2,2,3,4],\n",
    "    [3,2,3,4,4],\n",
    "    [2,4,5,3,1],\n",
    "    [6,7,1,4,5],\n",
    "    [5,1,1,2,4]\n",
    "]\n",
    "pacificAtlantic(matrix)"
   ]
  },
  {
   "cell_type": "code",
   "execution_count": null,
   "metadata": {
    "collapsed": true
   },
   "outputs": [],
   "source": []
  },
  {
   "cell_type": "code",
   "execution_count": 14,
   "metadata": {
    "ExecuteTime": {
     "end_time": "2020-05-21T05:54:19.298358Z",
     "start_time": "2020-05-21T05:54:19.261095Z"
    }
   },
   "outputs": [],
   "source": [
    "from collections import deque\n",
    "def pacificAtlantic(matrix):\n",
    "    if not matrix: return []\n",
    "    m, n = len(matrix), len(matrix[0])\n",
    "    def bfs(reachable_ocean):\n",
    "        q = deque(reachable_ocean)\n",
    "        while q: # q是deque 先进先出\n",
    "            (i, j) = q.popleft()\n",
    "            for (di, dj) in [(0,1), (0, -1), (1, 0), (-1, 0)]:\n",
    "                if 0 <= di+i < m and 0 <= dj+j < n and (di+i, dj+j) not in reachable_ocean \\\n",
    "                    and matrix[di+i][dj+j] >= matrix[i][j]:\n",
    "                    q.append( (di+i,dj+j) )\n",
    "                    reachable_ocean.add( (di+i, dj+j) )\n",
    "        return reachable_ocean         \n",
    "    pacific  =set ( [ (i, 0) for i in range(m)]   + [(0, j) for j  in range(1, n)]) #把 左边 和 上边 的点放进set\n",
    "    atlantic =set ( [ (i, n-1) for i in range(m)] + [(m-1, j) for j in range(n-1)]) #把 右边 和 下边 的点放进set\n",
    "    return list( bfs(pacific) & bfs(atlantic) )"
   ]
  },
  {
   "cell_type": "code",
   "execution_count": 15,
   "metadata": {
    "ExecuteTime": {
     "end_time": "2020-05-21T05:54:19.993140Z",
     "start_time": "2020-05-21T05:54:19.986806Z"
    }
   },
   "outputs": [
    {
     "data": {
      "text/plain": [
       "[(1, 3), (3, 0), (3, 1), (1, 4), (0, 4), (2, 2), (4, 0)]"
      ]
     },
     "execution_count": 15,
     "metadata": {},
     "output_type": "execute_result"
    }
   ],
   "source": [
    "pacificAtlantic(matrix)"
   ]
  },
  {
   "cell_type": "code",
   "execution_count": null,
   "metadata": {
    "collapsed": true
   },
   "outputs": [],
   "source": []
  },
  {
   "cell_type": "markdown",
   "metadata": {},
   "source": [
    "### <a id='Ex3'>Ex.3 Longest Increasing Path in a Matrix</a>\n",
    "\n",
    "Given an integer matrix, find the length of the longest increasing path.\n",
    "\n",
    "From each cell, you can either move to four directions: left, right, up or down. You may NOT move diagonally or move outside of the boundary (i.e. wrap-around is not allowed).\n",
    "\n",
    "<img src=\"../images/ch17/longest1.png\" width=\"100\"/>\n",
    "<img src=\"../images/ch17/longest2.png\" width=\"100\"/>"
   ]
  },
  {
   "cell_type": "code",
   "execution_count": 11,
   "metadata": {
    "ExecuteTime": {
     "end_time": "2020-05-21T05:54:12.383157Z",
     "start_time": "2020-05-21T05:54:12.330920Z"
    }
   },
   "outputs": [],
   "source": [
    "def longestIncreasingPath(matrix):\n",
    "    if not matrix: return 0\n",
    "    directions = [(1,0),(-1,0),(0,1),(0,-1)]\n",
    "    m = len(matrix)\n",
    "    n = len(matrix[0])\n",
    "    cache = [[-1 for _ in range(n)] for _ in range(m)] #存放答案 当前的每个点,以这个点为起始点能组成的最长的递增的数组\n",
    "    res = 0\n",
    "    for i in range(m): \n",
    "        for j in range(n):\n",
    "            cur_len = dfs(i, j, matrix, cache, m, n)\n",
    "            res = max(res, cur_len)\n",
    "    return res\n",
    "\n",
    "def dfs(i, j, matrix, cache, m, n):\n",
    "    if cache[i][j] != -1:\n",
    "        return cache[i][j] # 访问过了  查询一下 \n",
    "    res = 1\n",
    "    for direction in [(1,0),(-1,0),(0,1),(0,-1)]:\n",
    "        x, y = i + direction[0], j + direction[1]\n",
    "        if x < 0 or x >= m or y < 0 or y >= n or matrix[x][y] <= matrix[i][j]: # 没有越界 且是 递增的,不是递增的就continue\n",
    "            continue\n",
    "        length = 1 + dfs(x, y, matrix, cache, m, n) # 当前长度 + 邻居的长度\n",
    "        res = max(length, res)\n",
    "    cache[i][j] = res\n",
    "    return res"
   ]
  },
  {
   "cell_type": "code",
   "execution_count": 12,
   "metadata": {
    "ExecuteTime": {
     "end_time": "2020-05-21T05:54:13.224301Z",
     "start_time": "2020-05-21T05:54:13.210535Z"
    }
   },
   "outputs": [
    {
     "data": {
      "text/plain": [
       "4"
      ]
     },
     "execution_count": 12,
     "metadata": {},
     "output_type": "execute_result"
    }
   ],
   "source": [
    "nums = [\n",
    "  [9,9,4],\n",
    "  [6,6,8],\n",
    "  [2,1,1]\n",
    "]\n",
    "longestIncreasingPath(nums)"
   ]
  },
  {
   "cell_type": "code",
   "execution_count": 13,
   "metadata": {
    "ExecuteTime": {
     "end_time": "2020-05-21T05:54:14.006313Z",
     "start_time": "2020-05-21T05:54:13.997285Z"
    }
   },
   "outputs": [
    {
     "data": {
      "text/plain": [
       "6"
      ]
     },
     "execution_count": 13,
     "metadata": {},
     "output_type": "execute_result"
    }
   ],
   "source": [
    "nums = [\n",
    "  [8,4,5],\n",
    "  [3,9,6],\n",
    "  [2,8,7]\n",
    "]\n",
    "longestIncreasingPath(nums)"
   ]
  },
  {
   "cell_type": "code",
   "execution_count": null,
   "metadata": {
    "collapsed": true
   },
   "outputs": [],
   "source": []
  },
  {
   "cell_type": "markdown",
   "metadata": {},
   "source": [
    "### <a id='Ex4'>Ex.4 01 Matrix</a>\n",
    "\n",
    "Given a matrix consists of 0 and 1, find the distance of the nearest 0 for each cell.\n",
    "\n",
    "The distance between two adjacent cells is 1.\n",
    "\n",
    "Example 1: \n",
    "\n",
    "Input:\n",
    "\n",
    "0 0 0\n",
    "\n",
    "0 1 0\n",
    "\n",
    "0 0 0\n",
    "\n",
    "Output:\n",
    "\n",
    "0 0 0\n",
    "\n",
    "0 1 0\n",
    "\n",
    "0 0 0\n",
    "\n",
    "Example 2: \n",
    "\n",
    "Input:\n",
    "\n",
    "0 0 0\n",
    "\n",
    "0 1 0\n",
    "\n",
    "1 1 1\n",
    "\n",
    "Output:\n",
    "\n",
    "0 0 0\n",
    "\n",
    "0 1 0\n",
    "\n",
    "1 2 1"
   ]
  },
  {
   "cell_type": "code",
   "execution_count": 20,
   "metadata": {
    "ExecuteTime": {
     "end_time": "2020-05-21T12:04:23.422360Z",
     "start_time": "2020-05-21T12:04:23.394282Z"
    }
   },
   "outputs": [],
   "source": [
    "def updateMatrix(matrix):\n",
    "    q, m, n = [], len(matrix), len(matrix[0])\n",
    "    for i in range(m):\n",
    "        for j in range(n):\n",
    "            if matrix[i][j] != 0:\n",
    "                matrix[i][j] = 0x7fffffff # 非0的地方设置成最大值 因为要找最小值\n",
    "            else:\n",
    "                q.append((i, j)) # 把所有的0放进stack\n",
    "    for i, j in q:\n",
    "        for r, c in ((i, 1+j), (i, j-1), (i+1, j), (i-1, j)): # 移动后的位置  (r,c)\n",
    "            z = matrix[i][j] + 1\n",
    "            if 0 <= r < m and 0 <= c < n and matrix[r][c] > z: # 找 neighbor\n",
    "                matrix[r][c] = z\n",
    "                q.append((r, c)) # 上面q放的0  现在放的 >z的 位置\n",
    "    return matrix"
   ]
  },
  {
   "cell_type": "code",
   "execution_count": 21,
   "metadata": {
    "ExecuteTime": {
     "end_time": "2020-05-21T12:04:24.029262Z",
     "start_time": "2020-05-21T12:04:24.020908Z"
    }
   },
   "outputs": [
    {
     "data": {
      "text/plain": [
       "[[0, 0, 0], [0, 1, 0], [0, 0, 0]]"
      ]
     },
     "execution_count": 21,
     "metadata": {},
     "output_type": "execute_result"
    }
   ],
   "source": [
    "matrix = [\n",
    "    [0, 0, 0],\n",
    "    [0, 1, 0],\n",
    "    [0, 0, 0],\n",
    "]\n",
    "updateMatrix(matrix)"
   ]
  },
  {
   "cell_type": "code",
   "execution_count": 22,
   "metadata": {
    "ExecuteTime": {
     "end_time": "2020-05-21T12:04:25.063772Z",
     "start_time": "2020-05-21T12:04:25.055714Z"
    }
   },
   "outputs": [
    {
     "data": {
      "text/plain": [
       "[[0, 0, 0], [0, 1, 0], [0, 1, 1]]"
      ]
     },
     "execution_count": 22,
     "metadata": {},
     "output_type": "execute_result"
    }
   ],
   "source": [
    "matrix = [\n",
    "    [0, 0, 0],\n",
    "    [0, 1, 0],\n",
    "    [0, 1, 1],\n",
    "]\n",
    "updateMatrix(matrix)"
   ]
  },
  {
   "cell_type": "code",
   "execution_count": null,
   "metadata": {
    "collapsed": true
   },
   "outputs": [],
   "source": []
  },
  {
   "cell_type": "code",
   "execution_count": 8,
   "metadata": {
    "collapsed": true
   },
   "outputs": [],
   "source": [
    "def updateMatrix2(matrix):\n",
    "    def DP(i, j, m, n, dp):\n",
    "        if i > 0: dp[i][j] = min(dp[i][j], dp[i - 1][j] + 1)\n",
    "        if j > 0: dp[i][j] = min(dp[i][j], dp[i][j - 1] + 1)\n",
    "        if i < m - 1: dp[i][j] = min(dp[i][j], dp[i + 1][j] + 1)\n",
    "        if j < n - 1: dp[i][j] = min(dp[i][j], dp[i][j + 1] + 1)\n",
    "            \n",
    "    if not matrix: return [[]]\n",
    "    m, n = len(matrix), len(matrix[0])\n",
    "    dp = [[0x7fffffff if matrix[i][j] != 0 else 0 for j in range(n)] for i in range(m)]\n",
    "    for i in range(m):\n",
    "        for j in range(n):\n",
    "            DP(i, j, m, n, dp)\n",
    "\n",
    "    for i in range(m - 1, -1, -1):\n",
    "        for j in range(n - 1, -1, -1):\n",
    "            DP(i, j, m, n, dp)\n",
    "\n",
    "    return dp\n",
    "\n"
   ]
  },
  {
   "cell_type": "code",
   "execution_count": 9,
   "metadata": {},
   "outputs": [
    {
     "data": {
      "text/plain": [
       "[[0, 0, 0], [0, 1, 0], [0, 0, 0]]"
      ]
     },
     "execution_count": 9,
     "metadata": {},
     "output_type": "execute_result"
    }
   ],
   "source": [
    "matrix = [\n",
    "    [0, 0, 0],\n",
    "    [0, 1, 0],\n",
    "    [0, 0, 0],\n",
    "]\n",
    "updateMatrix2(matrix)"
   ]
  },
  {
   "cell_type": "code",
   "execution_count": 10,
   "metadata": {},
   "outputs": [
    {
     "data": {
      "text/plain": [
       "[[0, 0, 0], [0, 1, 0], [1, 2, 1]]"
      ]
     },
     "execution_count": 10,
     "metadata": {},
     "output_type": "execute_result"
    }
   ],
   "source": [
    "matrix = [\n",
    "    [0, 0, 0],\n",
    "    [0, 1, 0],\n",
    "    [1, 1, 1],\n",
    "]\n",
    "updateMatrix2(matrix)"
   ]
  },
  {
   "cell_type": "code",
   "execution_count": null,
   "metadata": {
    "collapsed": true
   },
   "outputs": [],
   "source": []
  }
 ],
 "metadata": {
  "kernelspec": {
   "display_name": "Python 3.6 (tensorflow)",
   "language": "python",
   "name": "tensorflow"
  },
  "language_info": {
   "codemirror_mode": {
    "name": "ipython",
    "version": 3
   },
   "file_extension": ".py",
   "mimetype": "text/x-python",
   "name": "python",
   "nbconvert_exporter": "python",
   "pygments_lexer": "ipython3",
   "version": "3.6.8"
  },
  "toc": {
   "base_numbering": 1,
   "nav_menu": {},
   "number_sections": true,
   "sideBar": true,
   "skip_h1_title": false,
   "title_cell": "Table of Contents",
   "title_sidebar": "Contents",
   "toc_cell": false,
   "toc_position": {},
   "toc_section_display": true,
   "toc_window_display": false
  },
  "varInspector": {
   "cols": {
    "lenName": 16,
    "lenType": 16,
    "lenVar": 40
   },
   "kernels_config": {
    "python": {
     "delete_cmd_postfix": "",
     "delete_cmd_prefix": "del ",
     "library": "var_list.py",
     "varRefreshCmd": "print(var_dic_list())"
    },
    "r": {
     "delete_cmd_postfix": ") ",
     "delete_cmd_prefix": "rm(",
     "library": "var_list.r",
     "varRefreshCmd": "cat(var_dic_list()) "
    }
   },
   "types_to_exclude": [
    "module",
    "function",
    "builtin_function_or_method",
    "instance",
    "_Feature"
   ],
   "window_display": false
  }
 },
 "nbformat": 4,
 "nbformat_minor": 2
}
