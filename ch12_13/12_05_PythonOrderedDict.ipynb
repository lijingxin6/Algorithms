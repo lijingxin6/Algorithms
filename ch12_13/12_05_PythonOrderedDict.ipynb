{
 "cells": [
  {
   "cell_type": "markdown",
   "metadata": {},
   "source": [
    "# Python Ordered Dict #"
   ]
  },
  {
   "cell_type": "markdown",
   "metadata": {
    "collapsed": true
   },
   "source": [
    "### What is a Ordered Dict in Python?\n",
    "\n",
    "在Python中，dict这个数据结构由于hash的特性，是无序的，这在有的时候会给我们带来一些麻烦， 幸运的是，collections模块为我们提供了OrderedDict，当你要获得一个有序的字典对象时，用它就对了。"
   ]
  },
  {
   "cell_type": "code",
   "execution_count": 1,
   "metadata": {
    "ExecuteTime": {
     "end_time": "2020-05-02T10:12:47.968030Z",
     "start_time": "2020-05-02T10:12:47.930886Z"
    }
   },
   "outputs": [
    {
     "name": "stdout",
     "output_type": "stream",
     "text": [
      "Regular Dict:\n",
      "A 1\n",
      "C 3\n",
      "B 2\n",
      "D 4\n",
      "E 5\n"
     ]
    },
    {
     "data": {
      "text/plain": [
       "dict_items([('A', 1), ('C', 3), ('B', 2), ('D', 4), ('E', 5)])"
      ]
     },
     "execution_count": 1,
     "metadata": {},
     "output_type": "execute_result"
    }
   ],
   "source": [
    "from collections import OrderedDict\n",
    "\n",
    "items = (\n",
    "    ('A', 1),\n",
    "    ('C', 3),\n",
    "    ('B', 2),\n",
    "    ('D', 4),\n",
    "    ('E', 5),\n",
    ")\n",
    "\n",
    "regular_dict = dict(items)\n",
    "ordered_dict = OrderedDict(items)\n",
    "\n",
    "print('Regular Dict:')\n",
    "for k, v in regular_dict.items():\n",
    "    print(k, v)\n",
    "\n",
    "regular_dict.items()"
   ]
  },
  {
   "cell_type": "code",
   "execution_count": 3,
   "metadata": {
    "ExecuteTime": {
     "end_time": "2020-05-02T10:13:07.146000Z",
     "start_time": "2020-05-02T10:13:07.127394Z"
    }
   },
   "outputs": [
    {
     "name": "stdout",
     "output_type": "stream",
     "text": [
      "Ordered Dict:\n",
      "A 1\n",
      "C 3\n",
      "B 2\n",
      "D 4\n",
      "E 5\n"
     ]
    },
    {
     "data": {
      "text/plain": [
       "odict_items([('A', 1), ('C', 3), ('B', 2), ('D', 4), ('E', 5)])"
      ]
     },
     "execution_count": 3,
     "metadata": {},
     "output_type": "execute_result"
    }
   ],
   "source": [
    "print('Ordered Dict:')\n",
    "for k, v in ordered_dict.items():\n",
    "    print(k, v)\n",
    "ordered_dict.items()"
   ]
  },
  {
   "cell_type": "markdown",
   "metadata": {},
   "source": [
    "** What??? Confused!!! **"
   ]
  },
  {
   "cell_type": "markdown",
   "metadata": {},
   "source": [
    "The order-preserving aspect of this new implementation is considered an implementation detail and should not be relied upon\n",
    "\n",
    "dict is not explicitly meant to be an ordered collection, so if you want to stay consistent and not rely on a side effect of the new implementation you should stick with OrderedDict."
   ]
  },
  {
   "cell_type": "markdown",
   "metadata": {},
   "source": [
    "<img src=\"../images/ch12/py36dict.PNG\" width=\"660\"/>"
   ]
  },
  {
   "cell_type": "markdown",
   "metadata": {},
   "source": [
    "<img src=\"../images/ch12/py36dictcompact.PNG\" width=\"390\"/>"
   ]
  },
  {
   "cell_type": "code",
   "execution_count": null,
   "metadata": {
    "collapsed": true
   },
   "outputs": [],
   "source": []
  }
 ],
 "metadata": {
  "kernelspec": {
   "display_name": "Python 3.6 (tensorflow)",
   "language": "python",
   "name": "tensorflow"
  },
  "language_info": {
   "codemirror_mode": {
    "name": "ipython",
    "version": 3
   },
   "file_extension": ".py",
   "mimetype": "text/x-python",
   "name": "python",
   "nbconvert_exporter": "python",
   "pygments_lexer": "ipython3",
   "version": "3.6.8"
  },
  "toc": {
   "base_numbering": 1,
   "nav_menu": {},
   "number_sections": true,
   "sideBar": true,
   "skip_h1_title": false,
   "title_cell": "Table of Contents",
   "title_sidebar": "Contents",
   "toc_cell": false,
   "toc_position": {},
   "toc_section_display": true,
   "toc_window_display": false
  },
  "varInspector": {
   "cols": {
    "lenName": 16,
    "lenType": 16,
    "lenVar": 40
   },
   "kernels_config": {
    "python": {
     "delete_cmd_postfix": "",
     "delete_cmd_prefix": "del ",
     "library": "var_list.py",
     "varRefreshCmd": "print(var_dic_list())"
    },
    "r": {
     "delete_cmd_postfix": ") ",
     "delete_cmd_prefix": "rm(",
     "library": "var_list.r",
     "varRefreshCmd": "cat(var_dic_list()) "
    }
   },
   "types_to_exclude": [
    "module",
    "function",
    "builtin_function_or_method",
    "instance",
    "_Feature"
   ],
   "window_display": false
  }
 },
 "nbformat": 4,
 "nbformat_minor": 2
}
