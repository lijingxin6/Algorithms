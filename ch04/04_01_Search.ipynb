{
 "cells": [
  {
   "cell_type": "markdown",
   "metadata": {
    "run_control": {
     "frozen": false,
     "read_only": false
    }
   },
   "source": [
    "# Search\n",
    "\n",
    "Question: Given a sorted list of numbers, find the index of a specific value in the list. If no such value, return -1.\n",
    "\n",
    "**Solution 1**: Sequential Search"
   ]
  },
  {
   "cell_type": "code",
   "execution_count": 1,
   "metadata": {
    "ExecuteTime": {
     "end_time": "2020-04-04T03:34:35.229943Z",
     "start_time": "2020-04-04T03:34:34.857304Z"
    }
   },
   "outputs": [],
   "source": [
    "import time\n",
    "import random\n",
    "\n",
    "import matplotlib.pyplot as plt\n",
    "%matplotlib inline  \n",
    "\n",
    "def generate_random_array(n):\n",
    "    return [random.random() for e in range(n)]"
   ]
  },
  {
   "cell_type": "code",
   "execution_count": 2,
   "metadata": {
    "ExecuteTime": {
     "end_time": "2020-04-04T03:34:36.245076Z",
     "start_time": "2020-04-04T03:34:36.022949Z"
    }
   },
   "outputs": [
    {
     "ename": "ValueError",
     "evalue": "100 is not in list",
     "output_type": "error",
     "traceback": [
      "\u001b[0;31m---------------------------------------------------------------------------\u001b[0m",
      "\u001b[0;31mValueError\u001b[0m                                Traceback (most recent call last)",
      "\u001b[0;32m<ipython-input-2-81373542c024>\u001b[0m in \u001b[0;36m<module>\u001b[0;34m\u001b[0m\n\u001b[1;32m      1\u001b[0m \u001b[0;36m3\u001b[0m \u001b[0;32min\u001b[0m \u001b[0;34m[\u001b[0m\u001b[0;36m1\u001b[0m\u001b[0;34m,\u001b[0m \u001b[0;36m2\u001b[0m\u001b[0;34m,\u001b[0m \u001b[0;36m3\u001b[0m\u001b[0;34m]\u001b[0m \u001b[0;31m# => True\u001b[0m\u001b[0;34m\u001b[0m\u001b[0;34m\u001b[0m\u001b[0m\n\u001b[1;32m      2\u001b[0m \u001b[0mnums\u001b[0m \u001b[0;34m=\u001b[0m \u001b[0mgenerate_random_array\u001b[0m\u001b[0;34m(\u001b[0m\u001b[0;36m1000\u001b[0m\u001b[0;34m)\u001b[0m\u001b[0;34m\u001b[0m\u001b[0;34m\u001b[0m\u001b[0m\n\u001b[0;32m----> 3\u001b[0;31m \u001b[0mnums\u001b[0m\u001b[0;34m.\u001b[0m\u001b[0mindex\u001b[0m\u001b[0;34m(\u001b[0m\u001b[0;36m100\u001b[0m\u001b[0;34m)\u001b[0m\u001b[0;34m\u001b[0m\u001b[0;34m\u001b[0m\u001b[0m\n\u001b[0m",
      "\u001b[0;31mValueError\u001b[0m: 100 is not in list"
     ]
    }
   ],
   "source": [
    "3 in [1, 2, 3] # => True\n",
    "nums = generate_random_array(1000)\n",
    "nums.index(100)"
   ]
  },
  {
   "cell_type": "code",
   "execution_count": 3,
   "metadata": {
    "ExecuteTime": {
     "end_time": "2020-04-04T03:36:19.357150Z",
     "start_time": "2020-04-04T03:36:19.269468Z"
    }
   },
   "outputs": [
    {
     "data": {
      "text/plain": [
       "[(False, 1000, 3.0994415283203125e-05),\n",
       " (False, 2000, 6.127357482910156e-05),\n",
       " (False, 3000, 9.226799011230469e-05),\n",
       " (False, 4000, 0.00011515617370605469),\n",
       " (False, 5000, 0.00015306472778320312),\n",
       " (False, 6000, 0.00017571449279785156),\n",
       " (False, 7000, 0.00033473968505859375),\n",
       " (False, 8000, 0.0004200935363769531),\n",
       " (False, 9000, 0.0005488395690917969),\n",
       " (False, 10000, 0.0005159378051757812),\n",
       " (False, 11000, 0.0006999969482421875),\n",
       " (False, 12000, 0.0004649162292480469),\n",
       " (False, 13000, 0.0010991096496582031),\n",
       " (False, 14000, 0.0007162094116210938),\n",
       " (False, 15000, 0.0004208087921142578),\n",
       " (False, 16000, 0.000579833984375),\n",
       " (False, 17000, 0.0006718635559082031),\n",
       " (False, 18000, 0.0006818771362304688),\n",
       " (False, 19000, 0.0006520748138427734),\n",
       " (False, 20000, 0.0011320114135742188)]"
      ]
     },
     "execution_count": 3,
     "metadata": {},
     "output_type": "execute_result"
    }
   ],
   "source": [
    "random_lists = [generate_random_array(1000 * n) for n in range(1, 21)]\n",
    "\n",
    "def search(nums):\n",
    "    import time\n",
    "    start = time.time()\n",
    "    r = 1 in nums\n",
    "    t = time.time() - start\n",
    "    return r, len(nums), t\n",
    "\n",
    "rst = [search(l) for l in random_lists]\n",
    "rst"
   ]
  },
  {
   "cell_type": "code",
   "execution_count": 4,
   "metadata": {
    "ExecuteTime": {
     "end_time": "2020-04-04T03:36:28.948457Z",
     "start_time": "2020-04-04T03:36:28.548669Z"
    }
   },
   "outputs": [
    {
     "data": {
      "text/plain": [
       "[<matplotlib.lines.Line2D at 0x110ee2278>]"
      ]
     },
     "execution_count": 4,
     "metadata": {},
     "output_type": "execute_result"
    },
    {
     "data": {
      "image/png": "[encoded data removed]",
      "text/plain": [
       "<Figure size 432x288 with 1 Axes>"
      ]
     },
     "metadata": {
      "needs_background": "light"
     },
     "output_type": "display_data"
    }
   ],
   "source": [
    "x = list(zip(*rst))[1]\n",
    "y = list(zip(*rst))[2]\n",
    "\n",
    "plt.plot(x, y)"
   ]
  },
  {
   "cell_type": "code",
   "execution_count": 10,
   "metadata": {
    "collapsed": true,
    "run_control": {
     "frozen": false,
     "read_only": false
    }
   },
   "outputs": [],
   "source": [
    "def search(num_list, val):\n",
    "    # If empty\n",
    "    if num_list == None:\n",
    "        return -1\n",
    "    \n",
    "    for i in range(0, len(num_list)):\n",
    "        if (num_list[i] == val):\n",
    "            return i\n",
    "    return -1"
   ]
  },
  {
   "cell_type": "code",
   "execution_count": 5,
   "metadata": {
    "run_control": {
     "frozen": false,
     "read_only": false
    }
   },
   "outputs": [
    {
     "name": "stdout",
     "output_type": "stream",
     "text": [
      "4\n",
      "-1\n"
     ]
    }
   ],
   "source": [
    "num_list = [1,2,3,5,7,8,9]\n",
    "print(search(num_list, 7))\n",
    "print(search(num_list, 4))"
   ]
  },
  {
   "cell_type": "markdown",
   "metadata": {
    "run_control": {
     "frozen": false,
     "read_only": false
    }
   },
   "source": [
    "**Solution 2**: Binary Search (recursive)"
   ]
  },
  {
   "cell_type": "code",
   "execution_count": 45,
   "metadata": {
    "collapsed": true,
    "run_control": {
     "frozen": false,
     "read_only": false
    }
   },
   "outputs": [],
   "source": [
    "def bi_search_re(num_list, val):\n",
    "    def bi_search(l, h):\n",
    "        # Not found\n",
    "        if l > h:\n",
    "            return -1\n",
    "        \n",
    "        # Check mid\n",
    "        mid = (l + h) // 2\n",
    "        if (num_list[mid] == val):\n",
    "            return mid;\n",
    "        elif (num_list[mid] < val):\n",
    "            return bi_search(mid + 1, h)\n",
    "        else:\n",
    "            return bi_search(l, mid - 1)\n",
    "        \n",
    "    return bi_search(0, len(num_list))"
   ]
  },
  {
   "cell_type": "code",
   "execution_count": null,
   "metadata": {
    "collapsed": true,
    "run_control": {
     "frozen": false,
     "read_only": false
    }
   },
   "outputs": [],
   "source": [
    "num_list = [1,2,3,5,7,8,9]\n",
    "print(search(num_list, 7))\n",
    "print(search(num_list, 4))"
   ]
  },
  {
   "cell_type": "markdown",
   "metadata": {
    "run_control": {
     "frozen": false,
     "read_only": false
    }
   },
   "source": [
    "**Solution 3**: Binary Search (iterative)"
   ]
  },
  {
   "cell_type": "code",
   "execution_count": 6,
   "metadata": {
    "collapsed": true,
    "run_control": {
     "frozen": false,
     "read_only": false
    }
   },
   "outputs": [],
   "source": [
    "# unitest\n",
    "# 1. list empty\n",
    "# 2. only 1 item ： l和r  可能出现越界\n",
    "# 3. 2 items \n",
    "# 4. 3 items 都支持的话一般是正确的\n",
    "# 5. Duplicates \n",
    "\n",
    "def bi_search_iter(alist, item):\n",
    "    left, right = 0, len(alist) - 1\n",
    "    while left <= right: # 条件满足的时候才去运行\n",
    "        mid = left + (right - left) // 2   #(left + right) // 2\n",
    "        if alist[mid] < item:\n",
    "            left = mid + 1\n",
    "        elif alist[mid] > item:\n",
    "            right = mid - 1\n",
    "        else: # alist[mid] = item\n",
    "            return mid\n",
    "    return -1"
   ]
  },
  {
   "cell_type": "code",
   "execution_count": 7,
   "metadata": {
    "run_control": {
     "frozen": false,
     "read_only": false
    }
   },
   "outputs": [
    {
     "name": "stdout",
     "output_type": "stream",
     "text": [
      "4\n",
      "-1\n"
     ]
    }
   ],
   "source": [
    "num_list = [1,2,3,5,7,8,9]\n",
    "print(bi_search_iter(num_list, 7))\n",
    "print(bi_search_iter(num_list, 4))"
   ]
  },
  {
   "cell_type": "code",
   "execution_count": 60,
   "metadata": {
    "collapsed": true
   },
   "outputs": [],
   "source": [
    "import unittest\n",
    "class TestBinarySearch1(unittest.TestCase):\n",
    "    def setUp(self): # 测试用例肯定是一个个运行， setup是在所有test运行之前而运行的\n",
    "        self._f = bi_search_iter\n",
    "    \n",
    "    def test_empty(self):\n",
    "        alist = []\n",
    "        r = self._f(alist, 5)\n",
    "        self.assertEqual(-1, r)\n",
    "\n",
    "    def test_one(self):\n",
    "        alist = [1]\n",
    "        r = self._f(alist, 0)\n",
    "        self.assertEqual(-1, r)\n",
    "        r = self._f(alist, 1)\n",
    "        self.assertEqual(0, r)\n",
    "\n",
    "    def test_two(self):\n",
    "        alist = [1,10]\n",
    "        r = self._f(alist, 0)\n",
    "        self.assertEqual(-1, r)\n",
    "        r = self._f(alist, 1)\n",
    "        self.assertEqual(0, r)\n",
    "        r = self._f(alist, 2)\n",
    "        self.assertEqual(-1, r)\n",
    "        r = self._f(alist, 10)\n",
    "        self.assertEqual(1, r)\n",
    "        r = self._f(alist, 11)\n",
    "        self.assertEqual(-1, r)\n",
    "        \n",
    "    def test_multiple(self):\n",
    "        alist = [1,2,3,4,5]\n",
    "        r = self._f(alist, 5)\n",
    "        self.assertEqual(4, r)\n",
    "        r = self._f(alist, 4)\n",
    "        self.assertEqual(3, r)\n",
    "        r = self._f(alist, 2)\n",
    "        self.assertEqual(1, r)\n",
    "        r = self._f(alist, 1)\n",
    "        self.assertEqual(0, r)\n",
    "        r = self._f(alist, 6)\n",
    "        self.assertEqual(-1, r)\n",
    "        r = self._f(alist, 0)\n",
    "        self.assertEqual(-1, r)\n",
    "        \n",
    "    def test_duplicate(self):\n",
    "        alist = [1,1,1,2,3,3,3,3,3,3,4,5,5,5]\n",
    "        r = self._f(alist, 5)\n",
    "        self.assertEqual(5, alist[r])\n",
    "        r = self._f(alist, 4)\n",
    "        self.assertEqual(4, alist[r])\n",
    "        r = self._f(alist, 2)\n",
    "        self.assertEqual(2, alist[r])\n",
    "        r = self._f(alist, 3)\n",
    "        self.assertEqual(3, alist[r])\n",
    "        r = self._f(alist, 1)\n",
    "        self.assertEqual(1, alist[r])\n",
    "        r = self._f(alist, 6)\n",
    "        self.assertEqual(-1, -1)\n",
    "        r = self._f(alist, 0)\n",
    "        self.assertEqual(-1, -1)"
   ]
  },
  {
   "cell_type": "code",
   "execution_count": 61,
   "metadata": {},
   "outputs": [
    {
     "name": "stderr",
     "output_type": "stream",
     "text": [
      ".....\n",
      "----------------------------------------------------------------------\n",
      "Ran 5 tests in 0.028s\n",
      "\n",
      "OK\n"
     ]
    }
   ],
   "source": [
    "if __name__ == '__main__':\n",
    "    unittest.main(argv=['first-arg-is-ignored'], exit=False)"
   ]
  },
  {
   "cell_type": "code",
   "execution_count": 66,
   "metadata": {
    "collapsed": true
   },
   "outputs": [],
   "source": [
    "class TestBinarySearch1(unittest.TestCase):\n",
    "    def setUp(self):\n",
    "        self._f = binarysearch\n",
    "        \n",
    "    def test_first_found(self):\n",
    "        alist = [1,1,1,2,3,3,3,3,3,3,4,5,5,5]\n",
    "        r = self._f(alist, 1)\n",
    "        self.assertEqual(0, r)"
   ]
  },
  {
   "cell_type": "code",
   "execution_count": 67,
   "metadata": {},
   "outputs": [
    {
     "name": "stderr",
     "output_type": "stream",
     "text": [
      ".\n",
      "----------------------------------------------------------------------\n",
      "Ran 1 test in 0.010s\n",
      "\n",
      "OK\n"
     ]
    }
   ],
   "source": [
    "if __name__ == '__main__':\n",
    "    unittest.main(argv=['first-arg-is-ignored'], exit=False)"
   ]
  },
  {
   "cell_type": "code",
   "execution_count": 53,
   "metadata": {
    "collapsed": true
   },
   "outputs": [],
   "source": [
    "def binarysearch(alist, item):\n",
    "    if len(alist) == 0:\n",
    "        return -1\n",
    "    \n",
    "    left, right = 0, len(alist) - 1\n",
    "    while left + 1 < right:\n",
    "        mid = left + (right - left) // 2\n",
    "        if alist[mid] == item:\n",
    "            right = mid\n",
    "        elif alist[mid] < item:\n",
    "            left = mid\n",
    "        elif alist[mid] > item:\n",
    "            right = mid\n",
    "    \n",
    "    if alist[left] == item:\n",
    "        return left\n",
    "    if alist[right] == item:\n",
    "        return right\n",
    "    \n",
    "    return -1"
   ]
  },
  {
   "cell_type": "code",
   "execution_count": null,
   "metadata": {
    "collapsed": true
   },
   "outputs": [],
   "source": []
  }
 ],
 "metadata": {
  "kernelspec": {
   "display_name": "Python 3.6 (tensorflow)",
   "language": "python",
   "name": "tensorflow"
  },
  "language_info": {
   "codemirror_mode": {
    "name": "ipython",
    "version": 3
   },
   "file_extension": ".py",
   "mimetype": "text/x-python",
   "name": "python",
   "nbconvert_exporter": "python",
   "pygments_lexer": "ipython3",
   "version": "3.6.8"
  },
  "toc": {
   "base_numbering": 1,
   "nav_menu": {},
   "number_sections": true,
   "sideBar": true,
   "skip_h1_title": false,
   "title_cell": "Table of Contents",
   "title_sidebar": "Contents",
   "toc_cell": false,
   "toc_position": {},
   "toc_section_display": true,
   "toc_window_display": false
  },
  "varInspector": {
   "cols": {
    "lenName": 16,
    "lenType": 16,
    "lenVar": 40
   },
   "kernels_config": {
    "python": {
     "delete_cmd_postfix": "",
     "delete_cmd_prefix": "del ",
     "library": "var_list.py",
     "varRefreshCmd": "print(var_dic_list())"
    },
    "r": {
     "delete_cmd_postfix": ") ",
     "delete_cmd_prefix": "rm(",
     "library": "var_list.r",
     "varRefreshCmd": "cat(var_dic_list()) "
    }
   },
   "types_to_exclude": [
    "module",
    "function",
    "builtin_function_or_method",
    "instance",
    "_Feature"
   ],
   "window_display": false
  }
 },
 "nbformat": 4,
 "nbformat_minor": 2
}
