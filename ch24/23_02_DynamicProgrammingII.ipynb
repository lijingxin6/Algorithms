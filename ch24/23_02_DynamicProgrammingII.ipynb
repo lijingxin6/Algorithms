{
 "cells": [
  {
   "cell_type": "markdown",
   "metadata": {
    "run_control": {
     "frozen": false,
     "read_only": false
    }
   },
   "source": [
    "# Dynamic Programming II"
   ]
  },
  {
   "cell_type": "markdown",
   "metadata": {},
   "source": []
  },
  {
   "cell_type": "markdown",
   "metadata": {},
   "source": [
    "### <a id='Ex1'> Ex.1 Stock Problem I\n",
    "\n",
    "Say you have an array for which the ith element is the price of a given stock on day i.\n",
    "\n",
    "If you were only permitted to complete at most one transaction (i.e., buy one and sell one share of the stock), design an algorithm to find the maximum profit.\n",
    "\n",
    "Note that you cannot sell a stock before you buy one."
   ]
  },
  {
   "cell_type": "code",
   "execution_count": 59,
   "metadata": {},
   "outputs": [],
   "source": [
    "def maxProfit(prices):\n",
    "    if len(prices) < 2:\n",
    "        return 0\n",
    "    min_price = prices[0]\n",
    "    max_profit = 0\n",
    "    for price in prices:\n",
    "        if price < min_price:\n",
    "            min_price = price\n",
    "        if price - min_price > max_profit:\n",
    "            max_profit = price - min_price\n",
    "    return max_profit"
   ]
  },
  {
   "cell_type": "code",
   "execution_count": 60,
   "metadata": {},
   "outputs": [
    {
     "data": {
      "text/plain": [
       "5"
      ]
     },
     "execution_count": 60,
     "metadata": {},
     "output_type": "execute_result"
    }
   ],
   "source": [
    "prices = [7,1,5,3,6,4]\n",
    "maxProfit(prices)"
   ]
  },
  {
   "cell_type": "code",
   "execution_count": 5,
   "metadata": {
    "ExecuteTime": {
     "end_time": "2020-05-27T02:57:38.873319Z",
     "start_time": "2020-05-27T02:57:38.863137Z"
    }
   },
   "outputs": [],
   "source": [
    "def maxProfit(prices):\n",
    "    if len(prices) < 2:\n",
    "        return 0\n",
    "    minPrice = prices[0]\n",
    "    dp = [0] * len(prices) # maintain每天最大利润\n",
    "    for i in range(len(prices)):\n",
    "        dp[i] = max(dp[i-1], prices[i] - minPrice) # 这一天的最大利润 等于 前一天获得的最大利润 和 今天的价格-之前最小值 的最大值\n",
    "        minPrice = min(minPrice, prices[i]) # 今天为止 之前获得的最小值\n",
    "    return dp[-1]"
   ]
  },
  {
   "cell_type": "code",
   "execution_count": 3,
   "metadata": {
    "ExecuteTime": {
     "end_time": "2020-05-27T02:54:22.005541Z",
     "start_time": "2020-05-27T02:54:21.997185Z"
    }
   },
   "outputs": [],
   "source": [
    "def maxProfit(prices):\n",
    "    if len(prices) < 2:\n",
    "        return 0\n",
    "    minPrice = prices[0]\n",
    "    max_profit = 0 \n",
    "    for i in range(len(prices)):\n",
    "        max_profit = max(max_profit, prices[i] - minPrice)\n",
    "        minPrice = min(minPrice, prices[i])\n",
    "    return max_profit"
   ]
  },
  {
   "cell_type": "code",
   "execution_count": 4,
   "metadata": {
    "ExecuteTime": {
     "end_time": "2020-05-27T02:54:22.645128Z",
     "start_time": "2020-05-27T02:54:22.630299Z"
    }
   },
   "outputs": [
    {
     "data": {
      "text/plain": [
       "5"
      ]
     },
     "execution_count": 4,
     "metadata": {},
     "output_type": "execute_result"
    }
   ],
   "source": [
    "prices = [7,1,5,3,6,4]\n",
    "maxProfit(prices)"
   ]
  },
  {
   "cell_type": "code",
   "execution_count": null,
   "metadata": {
    "collapsed": true
   },
   "outputs": [],
   "source": []
  },
  {
   "cell_type": "markdown",
   "metadata": {},
   "source": [
    "### <a id='Ex2'> Ex.2 Stock Problem II\n",
    "\n",
    "Say you have an array for which the ith element is the price of a given stock on day i.\n",
    "\n",
    "Design an algorithm to find the maximum profit. You may complete as many transactions as you like (i.e., buy one and sell one share of the stock multiple times).\n",
    "\n",
    "Note: You may not engage in multiple transactions at the same time (i.e., you must sell the stock before you buy again)."
   ]
  },
  {
   "cell_type": "code",
   "execution_count": 6,
   "metadata": {
    "ExecuteTime": {
     "end_time": "2020-05-27T03:10:24.891851Z",
     "start_time": "2020-05-27T03:10:24.866633Z"
    }
   },
   "outputs": [],
   "source": [
    "def maxProfit2(prices):\n",
    "    max_profit = 0\n",
    "    for i in range(1, len(prices)):\n",
    "        if prices[i] > prices[i - 1]: # 说明有profit\n",
    "            max_profit += prices[i] - prices[i - 1] # max_profit累加 加上今天的profit, 每天都要判断\n",
    "    return max_profit "
   ]
  },
  {
   "cell_type": "code",
   "execution_count": 7,
   "metadata": {
    "ExecuteTime": {
     "end_time": "2020-05-27T03:10:25.584082Z",
     "start_time": "2020-05-27T03:10:25.575429Z"
    }
   },
   "outputs": [
    {
     "data": {
      "text/plain": [
       "7"
      ]
     },
     "execution_count": 7,
     "metadata": {},
     "output_type": "execute_result"
    }
   ],
   "source": [
    "prices = [7,1,5,3,6,4]\n",
    "maxProfit2(prices)"
   ]
  },
  {
   "cell_type": "code",
   "execution_count": 8,
   "metadata": {
    "ExecuteTime": {
     "end_time": "2020-05-27T03:13:31.321120Z",
     "start_time": "2020-05-27T03:13:31.305989Z"
    }
   },
   "outputs": [],
   "source": [
    "# O(n)\n",
    "# O(1)\n",
    "def maxProfit2(prices):\n",
    "    max_profit = 0\n",
    "    for i in range(1, len(prices)): \n",
    "        max_profit += max(0, prices[i] - prices[i - 1])  # max :floor 下限 今天的比前一天价格要小, floor变成0, 高的话取后面,最后全加起来\n",
    "    return max_profit"
   ]
  },
  {
   "cell_type": "code",
   "execution_count": 9,
   "metadata": {
    "ExecuteTime": {
     "end_time": "2020-05-27T03:13:31.866020Z",
     "start_time": "2020-05-27T03:13:31.850104Z"
    }
   },
   "outputs": [
    {
     "data": {
      "text/plain": [
       "7"
      ]
     },
     "execution_count": 9,
     "metadata": {},
     "output_type": "execute_result"
    }
   ],
   "source": [
    "prices = [7,1,5,3,6,4]\n",
    "maxProfit2(prices)"
   ]
  },
  {
   "cell_type": "code",
   "execution_count": null,
   "metadata": {
    "collapsed": true
   },
   "outputs": [],
   "source": []
  },
  {
   "cell_type": "markdown",
   "metadata": {},
   "source": [
    "### <a id='Ex3'> Ex.3 Stock Problem III (with Transaction Fees)\n",
    "\n",
    "Your are given an array of integers prices, for which the i-th element is the price of a given stock on day i; and a non-negative integer fee representing a transaction fee.\n",
    "\n",
    "You may complete as many transactions as you like, but you need to pay the transaction fee for each transaction. You may not buy more than 1 share of a stock at a time (ie. you must sell the stock share before you buy again.)\n",
    "\n",
    "Return the maximum profit you can make."
   ]
  },
  {
   "cell_type": "code",
   "execution_count": 1,
   "metadata": {
    "ExecuteTime": {
     "end_time": "2020-05-27T07:18:04.359723Z",
     "start_time": "2020-05-27T07:18:04.348265Z"
    }
   },
   "outputs": [],
   "source": [
    "# O(n)\n",
    "# O(n) -> O(1) space\n",
    "def maxProfit3(prices, fee):\n",
    "    cash, hold = 0, -prices[0] # hold第一天买入股票 所以是负的P[0]\n",
    "    for i in range(1, len(prices)):\n",
    "        cash, hold = max(cash, hold + prices[i] - fee), max(hold, cash - prices[i])\n",
    "    return cash"
   ]
  },
  {
   "cell_type": "code",
   "execution_count": 2,
   "metadata": {
    "ExecuteTime": {
     "end_time": "2020-05-27T07:18:05.051001Z",
     "start_time": "2020-05-27T07:18:05.024521Z"
    }
   },
   "outputs": [
    {
     "data": {
      "text/plain": [
       "8"
      ]
     },
     "execution_count": 2,
     "metadata": {},
     "output_type": "execute_result"
    }
   ],
   "source": [
    "prices = [1, 3, 2, 8, 4, 9]\n",
    "fee = 2\n",
    "maxProfit3(prices, fee)"
   ]
  },
  {
   "cell_type": "code",
   "execution_count": null,
   "metadata": {
    "collapsed": true
   },
   "outputs": [],
   "source": []
  },
  {
   "cell_type": "markdown",
   "metadata": {},
   "source": [
    "### <a id='Ex4'> Ex.4 Stock Problem IV\n",
    "\n",
    "Say you have an array for which the ith element is the price of a given stock on day i.\n",
    "\n",
    "Design an algorithm to find the maximum profit. You may complete at most two transactions.\n",
    "\n",
    "Note: You may not engage in multiple transactions at the same time (i.e., you must sell the stock before you buy again)."
   ]
  },
  {
   "cell_type": "code",
   "execution_count": 69,
   "metadata": {
    "collapsed": true
   },
   "outputs": [],
   "source": [
    "def maxProfit4(prices):\n",
    "    total_max_profit = 0\n",
    "    n = len(prices)\n",
    "    left_profits = [0] * n # 从左往右\n",
    "    min_price = float('inf')\n",
    "\n",
    "    for i in range(n):\n",
    "        min_price = min(min_price, prices[i])\n",
    "        total_max_profit = max(total_max_profit, prices[i] - min_price)\n",
    "        left_profits[i] = total_max_profit\n",
    "\n",
    "    max_profit = 0 # 从右往左\n",
    "    max_price = float('-inf')\n",
    "    for i in range(n - 1, 0, -1): # 从右往左 那就是n-1开始\n",
    "        max_price = max(max_price, prices[i])\n",
    "        max_profit = max(max_profit, max_price - prices[i])\n",
    "        total_max_profit = max(total_max_profit, max_profit + left_profits[i - 1])\n",
    "    return total_max_profit"
   ]
  },
  {
   "cell_type": "code",
   "execution_count": 70,
   "metadata": {},
   "outputs": [
    {
     "data": {
      "text/plain": [
       "6"
      ]
     },
     "execution_count": 70,
     "metadata": {},
     "output_type": "execute_result"
    }
   ],
   "source": [
    "prices = [3,3,5,0,0,3,1,4]\n",
    "maxProfit4(prices)"
   ]
  },
  {
   "cell_type": "code",
   "execution_count": 71,
   "metadata": {},
   "outputs": [
    {
     "data": {
      "text/plain": [
       "4"
      ]
     },
     "execution_count": 71,
     "metadata": {},
     "output_type": "execute_result"
    }
   ],
   "source": [
    "prices = [1,2,3,4,5]\n",
    "maxProfit4(prices)"
   ]
  },
  {
   "cell_type": "code",
   "execution_count": 72,
   "metadata": {},
   "outputs": [
    {
     "data": {
      "text/plain": [
       "0"
      ]
     },
     "execution_count": 72,
     "metadata": {},
     "output_type": "execute_result"
    }
   ],
   "source": [
    "prices = [7,6,4,3,1]\n",
    "maxProfit4(prices)"
   ]
  },
  {
   "cell_type": "code",
   "execution_count": null,
   "metadata": {
    "collapsed": true
   },
   "outputs": [],
   "source": []
  },
  {
   "cell_type": "markdown",
   "metadata": {},
   "source": [
    "### <a id='Ex5'> Ex.5 Stock Problem V\n",
    "\n",
    "Say you have an array for which the ith element is the price of a given stock on day i.\n",
    "\n",
    "Design an algorithm to find the maximum profit. You may complete at most k transactions."
   ]
  },
  {
   "cell_type": "code",
   "execution_count": 3,
   "metadata": {
    "ExecuteTime": {
     "end_time": "2020-05-27T10:32:03.756737Z",
     "start_time": "2020-05-27T10:32:03.740350Z"
    }
   },
   "outputs": [],
   "source": [
    "# O(n*k)\n",
    "def maxProfit5(prices, k):\n",
    "    if len(prices) < 2:\n",
    "        return 0\n",
    "\n",
    "    if len(prices) <= k / 2: # 股票可以进行任意次交易, \n",
    "        maxProfit(prices)\n",
    "        # return  maxProfit(prices)\n",
    "        \n",
    "    local = [0] * (k+1)\n",
    "    globl = [0] * (k+1)\n",
    "    \n",
    "    for i in range(1, len(prices)):\n",
    "        diff = prices[i] - prices[i - 1] # 对于每一天 计算今天和昨天的差价\n",
    "        j = k\n",
    "        while j > 0:\n",
    "            local[j] = max(globl[j - 1], local[j] + diff) \n",
    "            globl[j] = max(globl[j], local[j])\n",
    "            j -= 1\n",
    "            \n",
    "    return globl[k]"
   ]
  },
  {
   "cell_type": "code",
   "execution_count": 74,
   "metadata": {},
   "outputs": [
    {
     "data": {
      "text/plain": [
       "7"
      ]
     },
     "execution_count": 74,
     "metadata": {},
     "output_type": "execute_result"
    }
   ],
   "source": [
    "prices = [3,2,6,5,0,3]\n",
    "k = 2\n",
    "maxProfit5(prices, k)"
   ]
  },
  {
   "cell_type": "code",
   "execution_count": 75,
   "metadata": {},
   "outputs": [
    {
     "data": {
      "text/plain": [
       "10"
      ]
     },
     "execution_count": 75,
     "metadata": {},
     "output_type": "execute_result"
    }
   ],
   "source": [
    "prices = [2,5,7,1,4,3,1,3]\n",
    "k = 3\n",
    "maxProfit5(prices, k)"
   ]
  },
  {
   "cell_type": "code",
   "execution_count": 76,
   "metadata": {},
   "outputs": [
    {
     "data": {
      "text/plain": [
       "10"
      ]
     },
     "execution_count": 76,
     "metadata": {},
     "output_type": "execute_result"
    }
   ],
   "source": [
    "prices = [2,5,7,1,4,3,1,3]\n",
    "k = 6\n",
    "maxProfit5(prices, k)"
   ]
  },
  {
   "cell_type": "code",
   "execution_count": null,
   "metadata": {
    "collapsed": true
   },
   "outputs": [],
   "source": []
  },
  {
   "cell_type": "markdown",
   "metadata": {},
   "source": [
    "### <a id='Ex6'> Ex.6 Stock Problem VI\n",
    "\n",
    "Say you have an array for which the ith element is the price of a given stock on day i.\n",
    "\n",
    "Design an algorithm to find the maximum profit. You may complete as many transactions as you like (ie, buy one and sell one share of the stock multiple times) with the following restrictions:\n",
    "\n",
    "You may not engage in multiple transactions at the same time (ie, you must sell the stock before you buy again).\n",
    "After you sell your stock, you cannot buy stock on next day. (ie, cooldown 1 day)"
   ]
  },
  {
   "cell_type": "code",
   "execution_count": 4,
   "metadata": {
    "ExecuteTime": {
     "end_time": "2020-05-27T13:01:56.539292Z",
     "start_time": "2020-05-27T13:01:56.491588Z"
    }
   },
   "outputs": [],
   "source": [
    "def maxProfit6(prices):\n",
    "    if len(prices) < 2:\n",
    "        return 0\n",
    "    n = len(prices)\n",
    "    sell = [0] * n # 第i天没有股票获得的最大利润\n",
    "    buy  = [0] * n # 持有股票\n",
    "    sell[0] = 0;\n",
    "    buy[0] = -prices[0] # 第0天买了 所以是负数\n",
    "    for i in range(1, n):\n",
    "        sell[i] = max(sell[i - 1], buy[i - 1] + prices[i])\n",
    "        buy[i] = max(buy[i - 1], (sell[i - 2] if i > 1 else 0) - prices[i]) # i>1 需要得到前面两天的值. i<=1 为0 需要冷却一天\n",
    "            \n",
    "    return sell[-1]"
   ]
  },
  {
   "cell_type": "code",
   "execution_count": 78,
   "metadata": {},
   "outputs": [
    {
     "data": {
      "text/plain": [
       "3"
      ]
     },
     "execution_count": 78,
     "metadata": {},
     "output_type": "execute_result"
    }
   ],
   "source": [
    "prices = [1,2,3,0,2]\n",
    "maxProfit6(prices)"
   ]
  },
  {
   "cell_type": "code",
   "execution_count": null,
   "metadata": {
    "collapsed": true
   },
   "outputs": [],
   "source": []
  }
 ],
 "metadata": {
  "kernelspec": {
   "display_name": "Python 3.6 (tensorflow)",
   "language": "python",
   "name": "tensorflow"
  },
  "language_info": {
   "codemirror_mode": {
    "name": "ipython",
    "version": 3
   },
   "file_extension": ".py",
   "mimetype": "text/x-python",
   "name": "python",
   "nbconvert_exporter": "python",
   "pygments_lexer": "ipython3",
   "version": "3.6.8"
  },
  "toc": {
   "base_numbering": 1,
   "nav_menu": {},
   "number_sections": true,
   "sideBar": true,
   "skip_h1_title": false,
   "title_cell": "Table of Contents",
   "title_sidebar": "Contents",
   "toc_cell": false,
   "toc_position": {},
   "toc_section_display": true,
   "toc_window_display": false
  },
  "varInspector": {
   "cols": {
    "lenName": 16,
    "lenType": 16,
    "lenVar": 40
   },
   "kernels_config": {
    "python": {
     "delete_cmd_postfix": "",
     "delete_cmd_prefix": "del ",
     "library": "var_list.py",
     "varRefreshCmd": "print(var_dic_list())"
    },
    "r": {
     "delete_cmd_postfix": ") ",
     "delete_cmd_prefix": "rm(",
     "library": "var_list.r",
     "varRefreshCmd": "cat(var_dic_list()) "
    }
   },
   "types_to_exclude": [
    "module",
    "function",
    "builtin_function_or_method",
    "instance",
    "_Feature"
   ],
   "window_display": false
  }
 },
 "nbformat": 4,
 "nbformat_minor": 2
}
