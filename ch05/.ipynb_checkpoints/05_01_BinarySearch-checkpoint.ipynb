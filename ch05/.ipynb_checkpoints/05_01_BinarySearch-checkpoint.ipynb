{
 "cells": [
  {
   "cell_type": "markdown",
   "metadata": {
    "run_control": {
     "frozen": false,
     "read_only": false
    }
   },
   "source": [
    "# Binary Search"
   ]
  },
  {
   "cell_type": "code",
   "execution_count": null,
   "metadata": {
    "collapsed": true
   },
   "outputs": [],
   "source": []
  },
  {
   "cell_type": "markdown",
   "metadata": {},
   "source": [
    "In this lecture, you will learn:\n",
    "\n",
    "<a href='#Ex1'>Ex.1 Binary Search Review</a>\n",
    "\n",
    "<a href='#Ex2'>Ex.2 Binary Search Template</a>\n",
    "\n",
    "<a href='#Ex3'>Ex.3 Find Min in Rotated Sorted Array</a>\n",
    "\n",
    "<a href='#Ex4'>Ex.4 Find in Rotated Array</a>\n",
    "\n",
    "<a href='#Ex5'>Ex.5 Search Insert Position  </a>\n",
    "\n",
    "<a href='#Ex6'>Ex.6 Find Range</a>\n",
    "\n",
    "<a href='#Ex7'>Ex.7 Search in Sorted Array with Empty Strings</a>\n",
    "\n",
    "<a href='#Ex8'>Ex.8 Search 1st Position of element in Infinite Array</a>"
   ]
  },
  {
   "cell_type": "code",
   "execution_count": null,
   "metadata": {
    "collapsed": true
   },
   "outputs": [],
   "source": []
  },
  {
   "cell_type": "markdown",
   "metadata": {
    "run_control": {
     "frozen": false,
     "read_only": false
    }
   },
   "source": [
    "### Ex.1: Binary Search Review\n",
    "\n",
    "Find 1st position of target, return -1 if not found\n",
    "\n",
    "How about last position, any position?"
   ]
  },
  {
   "cell_type": "markdown",
   "metadata": {
    "run_control": {
     "frozen": false,
     "read_only": false
    }
   },
   "source": [
    "Binary Search (iterative)"
   ]
  },
  {
   "cell_type": "code",
   "execution_count": 1,
   "metadata": {
    "ExecuteTime": {
     "end_time": "2020-04-05T09:07:25.788739Z",
     "start_time": "2020-04-05T09:07:25.768935Z"
    },
    "run_control": {
     "frozen": false,
     "read_only": false
    }
   },
   "outputs": [],
   "source": [
    "def bi_search_iter(alist, item):\n",
    "    left, right = 0, len(alist) - 1\n",
    "    while left <= right:\n",
    "        mid = (left + right) // 2\n",
    "        if alist[mid] < item:\n",
    "            left = mid + 1\n",
    "        elif alist[mid] > item:\n",
    "            right = mid - 1\n",
    "        else: # alist[mid] = item\n",
    "            return mid\n",
    "    return -1"
   ]
  },
  {
   "cell_type": "code",
   "execution_count": 2,
   "metadata": {
    "ExecuteTime": {
     "end_time": "2020-04-05T09:07:26.169674Z",
     "start_time": "2020-04-05T09:07:26.163894Z"
    },
    "run_control": {
     "frozen": false,
     "read_only": false
    }
   },
   "outputs": [
    {
     "name": "stdout",
     "output_type": "stream",
     "text": [
      "4\n",
      "-1\n"
     ]
    }
   ],
   "source": [
    "num_list = [1,2,3,5,7,8,9]\n",
    "print(bi_search_iter(num_list, 7))\n",
    "print(bi_search_iter(num_list, 4))"
   ]
  },
  {
   "cell_type": "markdown",
   "metadata": {},
   "source": [
    "### Ex.2: Binary Search Template\n",
    "\n",
    "Remember? ** Template! **"
   ]
  },
  {
   "cell_type": "code",
   "execution_count": 9,
   "metadata": {
    "collapsed": true
   },
   "outputs": [],
   "source": [
    "def binarysearch(alist, item):\n",
    "    if len(alist) == 0: # 注意边界条件，判断input size是否为0，如果是0，return -1。  这行程序最好写上，对运行时间无影响。\n",
    "        return -1\n",
    "    \n",
    "    left, right = 0, len(alist) - 1\n",
    "    while left + 1 < right:   # 跳出循环：① LR相邻的时候 ② L和R指向同一个  ③ R L\n",
    "        mid = left + (right - left) // 2\n",
    "        if alist[mid] == item:\n",
    "            right = mid # 不是return而是直接等于mid, 因为如果要找第一个肯定在mid前面，不可能在mid后面，所以让right=mid 而不是left\n",
    "        elif alist[mid] < item:\n",
    "            left = mid # 不是 mid + 1\n",
    "        elif alist[mid] > item:\n",
    "            right = mid # 不是 mid - 1\n",
    "    \n",
    "    if alist[left] == item: # 跳出while循环了。所以  可能 L 是 2\n",
    "        return left\n",
    "    if alist[right] == item:  # 可能 R 是 2\n",
    "        return right\n",
    "    \n",
    "    return -1"
   ]
  },
  {
   "cell_type": "code",
   "execution_count": null,
   "metadata": {
    "collapsed": true
   },
   "outputs": [],
   "source": []
  },
  {
   "cell_type": "markdown",
   "metadata": {},
   "source": [
    "### Ex.3 Find Min in Rotated Sorted Array\n",
    "\n",
    "Suppose an array sorted in ascending order is rotated at some pivot unknown to you beforehand. Find the minimum element."
   ]
  },
  {
   "cell_type": "code",
   "execution_count": 3,
   "metadata": {
    "ExecuteTime": {
     "end_time": "2020-04-06T08:54:31.915616Z",
     "start_time": "2020-04-06T08:54:31.858402Z"
    }
   },
   "outputs": [],
   "source": [
    "# O(nlgn)\n",
    "def searchlazy(alist):\n",
    "    alist.sort()\n",
    "    return alist[0]\n",
    "\n",
    "# O(n)\n",
    "def searchslow(alist):\n",
    "    mmin = alist[0]\n",
    "    for i in alist:\n",
    "        mmin = min(mmin, i)\n",
    "    return mmin \n",
    "        \n",
    "# O(lgn)\n",
    "def search(alist):\n",
    "    if len(alist) == 0:  # ①\n",
    "        return -1    \n",
    "    left, right = 0, len(alist) - 1\n",
    "    while left + 1 < right:  # ②\n",
    "        if (alist[left] < alist[right]): # ③\n",
    "            return alist[left];\n",
    "        mid = left + (right - left) // 2\n",
    "        if (alist[mid] >= alist[left]): # 前半部分排好序了\n",
    "            left = mid + 1     # 去后半部分找\n",
    "        else:                  # 后半部分找不到，则去前半部分找\n",
    "            right = mid\n",
    "    return alist[left] if alist[left] < alist[right] else alist[right] # ④ 看L小还是R小"
   ]
  },
  {
   "cell_type": "markdown",
   "metadata": {},
   "source": [
    "### Ex.4 Find in Rotated Array"
   ]
  },
  {
   "cell_type": "code",
   "execution_count": 4,
   "metadata": {
    "ExecuteTime": {
     "end_time": "2020-04-06T09:08:40.902866Z",
     "start_time": "2020-04-06T09:08:40.883013Z"
    }
   },
   "outputs": [],
   "source": [
    "# O(lgn)\n",
    "def search(alist, target):\n",
    "    if len(alist) == 0:\n",
    "        return -1    \n",
    "    left, right = 0, len(alist) - 1\n",
    "    while left + 1 < right: \n",
    "        mid = left + (right - left) // 2\n",
    "        if alist[mid] == target:\n",
    "            return mid\n",
    "        \n",
    "        if (alist[left] < alist[mid]):\n",
    "            if alist[left] <= target and target <= alist[mid]:\n",
    "                right = mid\n",
    "            else:\n",
    "                left = mid\n",
    "        else:\n",
    "            if alist[mid] <= target and target <= alist[right]:\n",
    "                left = mid\n",
    "            else: \n",
    "                right = mid\n",
    "                            \n",
    "    if alist[left] == target:\n",
    "        return left\n",
    "    if alist[right] == target:\n",
    "        return right\n",
    "        \n",
    "    return -1"
   ]
  },
  {
   "cell_type": "markdown",
   "metadata": {},
   "source": [
    "### Ex.5 Search Insert Position  \n",
    "\n",
    "Given a sorted array and a target value, return the index if the target is found. If not, return the index where it would be if it were inserted in order. You may assume no duplicates in the array"
   ]
  },
  {
   "cell_type": "code",
   "execution_count": 12,
   "metadata": {
    "collapsed": true
   },
   "outputs": [],
   "source": [
    "def search_insert_position(alist, target):\n",
    "    if len(alist) == 0:\n",
    "        return 0  \n",
    "    left, right = 0, len(alist) - 1\n",
    "    while left + 1 < right: \n",
    "        mid = left + (right - left) // 2\n",
    "        if alist[mid] == target:\n",
    "            return mid\n",
    "        \n",
    "        if (alist[mid] < target):\n",
    "            left = mid\n",
    "        else:\n",
    "            right = mid\n",
    "            \n",
    "    if alist[left] >= target:\n",
    "        return left\n",
    "    if alist[right] >= target:\n",
    "        return right\n",
    "        \n",
    "    return right + 1  # 都不是的话那就在最后面加上"
   ]
  },
  {
   "cell_type": "markdown",
   "metadata": {},
   "source": [
    "### Ex.6  Find the starting and ending position of a given target value."
   ]
  },
  {
   "cell_type": "code",
   "execution_count": 7,
   "metadata": {
    "ExecuteTime": {
     "end_time": "2020-04-07T12:48:46.792600Z",
     "start_time": "2020-04-07T12:48:46.779942Z"
    }
   },
   "outputs": [],
   "source": [
    "\n",
    "def search_range(alist, target):\n",
    "    if len(alist) == 0:\n",
    "        return (-1, -1)  \n",
    "    \n",
    "    lbound, rbound = -1, -1\n",
    "\n",
    "    # search for left bound \n",
    "    left, right = 0, len(alist) - 1\n",
    "    while left + 1 < right: \n",
    "        mid = left + (right - left) // 2\n",
    "        if alist[mid] == target:\n",
    "            right = mid\n",
    "        elif (alist[mid] < target):\n",
    "            left = mid\n",
    "        else:\n",
    "            right = mid\n",
    "            \n",
    "    if alist[left] == target:\n",
    "        lbound = left\n",
    "    elif alist[right] == target:\n",
    "        lbound = right\n",
    "    else:\n",
    "        return (-1, -1)\n",
    "\n",
    "    # search for right bound \n",
    "    left, right = 0, len(alist) - 1        \n",
    "    while left + 1 < right: \n",
    "        mid = left + (right - left) // 2\n",
    "        if alist[mid] == target:\n",
    "            left = mid\n",
    "        elif (alist[mid] < target):\n",
    "            left = mid\n",
    "        else:\n",
    "            right = mid\n",
    "            \n",
    "    if alist[right] == target:\n",
    "        rbound = right\n",
    "    elif alist[left] == target:\n",
    "        rbound = left\n",
    "    else:\n",
    "        return (-1, -1)        \n",
    "        \n",
    "    return (lbound, rbound)"
   ]
  },
  {
   "cell_type": "markdown",
   "metadata": {},
   "source": [
    "### Ex.7 Search in Sorted Array with Empty Strings\n",
    "\n",
    "Given a sorted array of strings which is interspersed with empty strings, write a meth­od to find the location of a given string."
   ]
  },
  {
   "cell_type": "code",
   "execution_count": 14,
   "metadata": {
    "collapsed": true
   },
   "outputs": [],
   "source": [
    "# 最差O(n) 可以用in\n",
    "def search_empty(alist, target):\n",
    "    if len(alist) == 0:\n",
    "        return -1\n",
    "      \n",
    "    left, right = 0, len(alist) - 1\n",
    "    \n",
    "    while left + 1 < right:\n",
    "        while left + 1 < right and alist[right] == \"\":    # 从右边开始找 找到第一个非空字符串\n",
    "            right -= 1\n",
    "        if alist[right] == \"\":\n",
    "            right -= 1\n",
    "        if right < left:\n",
    "            return -1\n",
    "        \n",
    "        mid = left + (right - left) // 2 # 在上面的基础上在去求mid point\n",
    "        while alist[mid] == \"\": #中间为空字符串，会往后面去找\n",
    "            mid += 1\n",
    "            \n",
    "        if alist[mid] == target:\n",
    "            return mid\n",
    "        if alist[mid] < target:\n",
    "            left = mid + 1\n",
    "        else:\n",
    "            right = mid - 1\n",
    "            \n",
    "    if alist[left] == target:\n",
    "        return left\n",
    "    if alist[right] == target:\n",
    "        return right    \n",
    "        \n",
    "    return -1   "
   ]
  },
  {
   "cell_type": "markdown",
   "metadata": {},
   "source": [
    "### Ex.8 Search 1st Position of element in Infinite Array"
   ]
  },
  {
   "cell_type": "code",
   "execution_count": 8,
   "metadata": {
    "ExecuteTime": {
     "end_time": "2020-04-07T12:48:50.051739Z",
     "start_time": "2020-04-07T12:48:50.043320Z"
    }
   },
   "outputs": [],
   "source": [
    "def search_first(alist):\n",
    "    left, right = 0, 1\n",
    "    \n",
    "    while alist[right] == 0:\n",
    "        left = right\n",
    "        right *= 2\n",
    "        \n",
    "        if (right > len(alist)):\n",
    "            right = len(alist) - 1\n",
    "            break\n",
    "    \n",
    "    return left + search_range(alist[left:right+1], 1)[0]"
   ]
  },
  {
   "cell_type": "code",
   "execution_count": 10,
   "metadata": {
    "ExecuteTime": {
     "end_time": "2020-04-07T12:57:27.902273Z",
     "start_time": "2020-04-07T12:57:27.893567Z"
    }
   },
   "outputs": [],
   "source": [
    "alist = [0, 0, 0, 0, 0, 1]\n",
    "r = search_first(alist)"
   ]
  },
  {
   "cell_type": "code",
   "execution_count": null,
   "metadata": {
    "collapsed": true
   },
   "outputs": [],
   "source": []
  }
 ],
 "metadata": {
  "kernelspec": {
   "display_name": "Python 3.6 (tensorflow)",
   "language": "python",
   "name": "tensorflow"
  },
  "language_info": {
   "codemirror_mode": {
    "name": "ipython",
    "version": 3
   },
   "file_extension": ".py",
   "mimetype": "text/x-python",
   "name": "python",
   "nbconvert_exporter": "python",
   "pygments_lexer": "ipython3",
   "version": "3.6.8"
  },
  "toc": {
   "base_numbering": 1,
   "nav_menu": {},
   "number_sections": true,
   "sideBar": true,
   "skip_h1_title": false,
   "title_cell": "Table of Contents",
   "title_sidebar": "Contents",
   "toc_cell": false,
   "toc_position": {},
   "toc_section_display": true,
   "toc_window_display": false
  },
  "varInspector": {
   "cols": {
    "lenName": 16,
    "lenType": 16,
    "lenVar": 40
   },
   "kernels_config": {
    "python": {
     "delete_cmd_postfix": "",
     "delete_cmd_prefix": "del ",
     "library": "var_list.py",
     "varRefreshCmd": "print(var_dic_list())"
    },
    "r": {
     "delete_cmd_postfix": ") ",
     "delete_cmd_prefix": "rm(",
     "library": "var_list.r",
     "varRefreshCmd": "cat(var_dic_list()) "
    }
   },
   "types_to_exclude": [
    "module",
    "function",
    "builtin_function_or_method",
    "instance",
    "_Feature"
   ],
   "window_display": false
  }
 },
 "nbformat": 4,
 "nbformat_minor": 2
}
