{
 "cells": [
  {
   "cell_type": "markdown",
   "metadata": {},
   "source": [
    "# Recursion"
   ]
  },
  {
   "cell_type": "markdown",
   "metadata": {},
   "source": [
    "By the end of this chapter, you should be able to answer these questions.\n",
    "\n",
    "- How does Python determine the meaning of an identifier in a program?\n",
    "- What happens to the run-time stack when a function is called?\n",
    "- What happens to the run-time stack when a function returns from a call?\n",
    "- What are the two important parts to a recursive function and which part comes first?\n",
    "- Exactly what happens when a return statement is executed?\n",
    "- Why should we write recursive functions?\n",
    "- What are the computational complexities of various recursive functions?"
   ]
  },
  {
   "cell_type": "markdown",
   "metadata": {},
   "source": [
    "<a href='#Ex1'>Ex.1 求和</a>\n",
    "\n",
    "<a href='#Ex2'>Ex.2 阶乘</a>\n",
    "\n",
    "<a href='#Ex3'>Ex.3 斐波那契数列</a>\n",
    "\n",
    "<a href='#Ex4'>Ex.4 打印尺子</a>\n",
    "\n",
    "<a href='#Ex5'>Ex.5 数学表达式</a>\n",
    "\n",
    "<a href='#Ex6'>Ex.6 格雷码</a>"
   ]
  },
  {
   "cell_type": "markdown",
   "metadata": {},
   "source": [
    "### <a id='Ex1'>Ex.1 Simple Example 求和 </a>"
   ]
  },
  {
   "cell_type": "code",
   "execution_count": 1,
   "metadata": {
    "ExecuteTime": {
     "end_time": "2020-03-30T02:12:26.355968Z",
     "start_time": "2020-03-30T02:12:26.293099Z"
    }
   },
   "outputs": [
    {
     "data": {
      "text/plain": [
       "55"
      ]
     },
     "execution_count": 1,
     "metadata": {},
     "output_type": "execute_result"
    }
   ],
   "source": [
    "n = 10\n",
    "result = sum(range(n+1))\n",
    "result"
   ]
  },
  {
   "cell_type": "code",
   "execution_count": 2,
   "metadata": {
    "ExecuteTime": {
     "end_time": "2020-03-30T02:12:57.664422Z",
     "start_time": "2020-03-30T02:12:57.656568Z"
    }
   },
   "outputs": [],
   "source": [
    "def mysum(n):\n",
    "    result = 0\n",
    "    for i in range(n+1):\n",
    "        result += i\n",
    "    return result"
   ]
  },
  {
   "cell_type": "code",
   "execution_count": 12,
   "metadata": {
    "ExecuteTime": {
     "end_time": "2020-03-30T02:32:56.241813Z",
     "start_time": "2020-03-30T02:32:56.225397Z"
    }
   },
   "outputs": [
    {
     "data": {
      "text/plain": [
       "500500"
      ]
     },
     "execution_count": 12,
     "metadata": {},
     "output_type": "execute_result"
    }
   ],
   "source": [
    "result = mysum(1000)\n",
    "result"
   ]
  },
  {
   "cell_type": "code",
   "execution_count": 13,
   "metadata": {
    "ExecuteTime": {
     "end_time": "2020-03-30T02:32:57.669719Z",
     "start_time": "2020-03-30T02:32:57.652222Z"
    }
   },
   "outputs": [],
   "source": [
    "def mysum_recursive(n):\n",
    "    if n == 0:\n",
    "        return 0\n",
    "    return n + mysum_recursive(n-1)"
   ]
  },
  {
   "cell_type": "code",
   "execution_count": 19,
   "metadata": {
    "ExecuteTime": {
     "end_time": "2020-03-30T02:34:04.580326Z",
     "start_time": "2020-03-30T02:33:58.027686Z"
    }
   },
   "outputs": [
    {
     "ename": "RecursionError",
     "evalue": "maximum recursion depth exceeded in comparison",
     "output_type": "error",
     "traceback": [
      "\u001b[0;31m---------------------------------------------------------------------------\u001b[0m",
      "\u001b[0;31mRecursionError\u001b[0m                            Traceback (most recent call last)",
      "\u001b[0;32m<ipython-input-19-3e4a5e6a7993>\u001b[0m in \u001b[0;36m<module>\u001b[0;34m\u001b[0m\n\u001b[0;32m----> 1\u001b[0;31m \u001b[0mresult\u001b[0m \u001b[0;34m=\u001b[0m \u001b[0mmysum_recursive\u001b[0m\u001b[0;34m(\u001b[0m\u001b[0;36m3000\u001b[0m\u001b[0;34m)\u001b[0m\u001b[0;34m\u001b[0m\u001b[0;34m\u001b[0m\u001b[0m\n\u001b[0m\u001b[1;32m      2\u001b[0m \u001b[0mresult\u001b[0m\u001b[0;34m\u001b[0m\u001b[0;34m\u001b[0m\u001b[0m\n",
      "\u001b[0;32m<ipython-input-13-949c985a81db>\u001b[0m in \u001b[0;36mmysum_recursive\u001b[0;34m(n)\u001b[0m\n\u001b[1;32m      2\u001b[0m     \u001b[0;32mif\u001b[0m \u001b[0mn\u001b[0m \u001b[0;34m==\u001b[0m \u001b[0;36m0\u001b[0m\u001b[0;34m:\u001b[0m\u001b[0;34m\u001b[0m\u001b[0;34m\u001b[0m\u001b[0m\n\u001b[1;32m      3\u001b[0m         \u001b[0;32mreturn\u001b[0m \u001b[0;36m0\u001b[0m\u001b[0;34m\u001b[0m\u001b[0;34m\u001b[0m\u001b[0m\n\u001b[0;32m----> 4\u001b[0;31m     \u001b[0;32mreturn\u001b[0m \u001b[0mn\u001b[0m \u001b[0;34m+\u001b[0m \u001b[0mmysum_recursive\u001b[0m\u001b[0;34m(\u001b[0m\u001b[0mn\u001b[0m\u001b[0;34m-\u001b[0m\u001b[0;36m1\u001b[0m\u001b[0;34m)\u001b[0m\u001b[0;34m\u001b[0m\u001b[0;34m\u001b[0m\u001b[0m\n\u001b[0m",
      "... last 1 frames repeated, from the frame below ...\n",
      "\u001b[0;32m<ipython-input-13-949c985a81db>\u001b[0m in \u001b[0;36mmysum_recursive\u001b[0;34m(n)\u001b[0m\n\u001b[1;32m      2\u001b[0m     \u001b[0;32mif\u001b[0m \u001b[0mn\u001b[0m \u001b[0;34m==\u001b[0m \u001b[0;36m0\u001b[0m\u001b[0;34m:\u001b[0m\u001b[0;34m\u001b[0m\u001b[0;34m\u001b[0m\u001b[0m\n\u001b[1;32m      3\u001b[0m         \u001b[0;32mreturn\u001b[0m \u001b[0;36m0\u001b[0m\u001b[0;34m\u001b[0m\u001b[0;34m\u001b[0m\u001b[0m\n\u001b[0;32m----> 4\u001b[0;31m     \u001b[0;32mreturn\u001b[0m \u001b[0mn\u001b[0m \u001b[0;34m+\u001b[0m \u001b[0mmysum_recursive\u001b[0m\u001b[0;34m(\u001b[0m\u001b[0mn\u001b[0m\u001b[0;34m-\u001b[0m\u001b[0;36m1\u001b[0m\u001b[0;34m)\u001b[0m\u001b[0;34m\u001b[0m\u001b[0;34m\u001b[0m\u001b[0m\n\u001b[0m",
      "\u001b[0;31mRecursionError\u001b[0m: maximum recursion depth exceeded in comparison"
     ]
    }
   ],
   "source": [
    "result = mysum_recursive(3000)\n",
    "result "
   ]
  },
  {
   "cell_type": "markdown",
   "metadata": {},
   "source": [
    "### <a id='Ex2'>Ex.2 阶乘 </a>"
   ]
  },
  {
   "cell_type": "code",
   "execution_count": 6,
   "metadata": {
    "ExecuteTime": {
     "end_time": "2020-03-30T02:14:57.933205Z",
     "start_time": "2020-03-30T02:14:57.926487Z"
    }
   },
   "outputs": [],
   "source": [
    "#O(n)\n",
    "# O(1) space\n",
    "def factorial(n):\n",
    "    result = 1\n",
    "    for i in range(1, n+1):\n",
    "        result *= i\n",
    "    return result"
   ]
  },
  {
   "cell_type": "code",
   "execution_count": 7,
   "metadata": {
    "ExecuteTime": {
     "end_time": "2020-03-30T02:14:58.561765Z",
     "start_time": "2020-03-30T02:14:58.553199Z"
    }
   },
   "outputs": [
    {
     "data": {
      "text/plain": [
       "120"
      ]
     },
     "execution_count": 7,
     "metadata": {},
     "output_type": "execute_result"
    }
   ],
   "source": [
    "factorial(5)"
   ]
  },
  {
   "cell_type": "code",
   "execution_count": 10,
   "metadata": {
    "ExecuteTime": {
     "end_time": "2020-03-30T02:16:29.673075Z",
     "start_time": "2020-03-30T02:16:29.664587Z"
    }
   },
   "outputs": [],
   "source": [
    "# O(n)\n",
    "# O(n) space\n",
    "def factorial_recursive(n):\n",
    "    if n == 0:\n",
    "        return 1\n",
    "    return n * factorial_recursive(n - 1)"
   ]
  },
  {
   "cell_type": "code",
   "execution_count": 11,
   "metadata": {
    "ExecuteTime": {
     "end_time": "2020-03-30T02:16:30.280017Z",
     "start_time": "2020-03-30T02:16:30.273221Z"
    }
   },
   "outputs": [
    {
     "data": {
      "text/plain": [
       "120"
      ]
     },
     "execution_count": 11,
     "metadata": {},
     "output_type": "execute_result"
    }
   ],
   "source": [
    "factorial_recursive(5)"
   ]
  },
  {
   "cell_type": "markdown",
   "metadata": {},
   "source": [
    "<img src=\"../images/ch02/factorial.jpg\" width=\"350\"/>"
   ]
  },
  {
   "cell_type": "markdown",
   "metadata": {},
   "source": [
    "### <a id='Ex3'>Ex.3 斐波那契数列 </a>\n",
    " 1 1 2 3 5 8  13 21...\n",
    " \n",
    " f(n) = f(n-1) + f(n-2)"
   ]
  },
  {
   "cell_type": "code",
   "execution_count": 20,
   "metadata": {
    "ExecuteTime": {
     "end_time": "2020-03-30T03:51:31.874968Z",
     "start_time": "2020-03-30T03:51:31.861025Z"
    }
   },
   "outputs": [],
   "source": [
    "# O(n) n是多大 for循环就循环多少次\n",
    "def fibonacci1(n):\n",
    "    assert(n>=0)\n",
    "    a, b = 0, 1\n",
    "    for i in range(1, n+1):\n",
    "        a, b = b, a + b\n",
    "    return a    \n",
    "\n",
    "# O(2^n)    \n",
    "def fibonacci2(n):\n",
    "    assert(n>=0)\n",
    "    if (n <= 2): \n",
    "        return 1\n",
    "    return fibonacci2(n-1) + fibonacci2(n-2)\n",
    "\n",
    "\n",
    "# \n",
    "def fibonacci3(n):\n",
    "    assert(n>=0)\n",
    "    if (n <= 1): \n",
    "        return (n,0)\n",
    "    (a, b) = fibonacci3(n-1)\n",
    "    return (a+b, a)"
   ]
  },
  {
   "cell_type": "code",
   "execution_count": 21,
   "metadata": {
    "ExecuteTime": {
     "end_time": "2020-03-30T03:51:32.644462Z",
     "start_time": "2020-03-30T03:51:32.632967Z"
    }
   },
   "outputs": [
    {
     "name": "stdout",
     "output_type": "stream",
     "text": [
      "CPU times: user 8 µs, sys: 10 µs, total: 18 µs\n",
      "Wall time: 19.8 µs\n"
     ]
    },
    {
     "data": {
      "text/plain": [
       "55"
      ]
     },
     "execution_count": 21,
     "metadata": {},
     "output_type": "execute_result"
    }
   ],
   "source": [
    "time fibonacci1(10)"
   ]
  },
  {
   "cell_type": "code",
   "execution_count": 22,
   "metadata": {
    "ExecuteTime": {
     "end_time": "2020-03-30T03:52:29.779700Z",
     "start_time": "2020-03-30T03:51:48.516873Z"
    }
   },
   "outputs": [
    {
     "name": "stdout",
     "output_type": "stream",
     "text": [
      "CPU times: user 37.9 s, sys: 373 ms, total: 38.3 s\n",
      "Wall time: 41.3 s\n"
     ]
    },
    {
     "data": {
      "text/plain": [
       "102334155"
      ]
     },
     "execution_count": 22,
     "metadata": {},
     "output_type": "execute_result"
    }
   ],
   "source": [
    "time fibonacci2(40)"
   ]
  },
  {
   "cell_type": "code",
   "execution_count": null,
   "metadata": {
    "collapsed": true
   },
   "outputs": [],
   "source": []
  },
  {
   "cell_type": "markdown",
   "metadata": {},
   "source": [
    "** Why Fibonacci? **"
   ]
  },
  {
   "cell_type": "code",
   "execution_count": null,
   "metadata": {
    "collapsed": true
   },
   "outputs": [],
   "source": [
    "def fibonaccis(n):\n",
    "    assert(n>=0)\n",
    "    result = [0, 1]\n",
    "    for i in range(2, n+1):\n",
    "        result.append(result[-2] + result[-1])\n",
    "    return result"
   ]
  },
  {
   "cell_type": "code",
   "execution_count": null,
   "metadata": {
    "collapsed": true
   },
   "outputs": [],
   "source": [
    "fibos = fibonaccis(30)\n",
    "r = []\n",
    "for i in range(2, len(fibos)):\n",
    "    r.append(fibos[i] / fibos[i-1])\n",
    "r"
   ]
  },
  {
   "cell_type": "markdown",
   "metadata": {},
   "source": [
    "** 黄金比例：** 肚脐到脚的距离／身高＝0.618\n",
    "<img src=\"../images/ch02/beauty.png\" width=\"200\"/>"
   ]
  },
  {
   "cell_type": "markdown",
   "metadata": {
    "ExecuteTime": {
     "end_time": "2020-03-30T12:09:52.372067Z",
     "start_time": "2020-03-30T12:09:52.365035Z"
    },
    "collapsed": true
   },
   "source": [
    "**Fibonacci Square**\n",
    "<img src=\"../images/ch04/fibosquare.png\" width=\"250\"/>\n",
    "\n",
    "<img src=\"../images/ch04/shell.jpg\" width=\"250\"/>\n",
    "<img src=\"../images/ch04/fibo2.png\" width=\"500\"/>"
   ]
  },
  {
   "cell_type": "markdown",
   "metadata": {},
   "source": [
    "### <a id='Ex4'>Ex.4 打印尺子 </a>\n",
    "\n",
    "1\n",
    "\n",
    "1 2 1\n",
    "\n",
    "1 2 1 3 1 2 1\n",
    "\n",
    "1 2 1 3 1 2 1 4 1 2 1 3 1 2 1\n"
   ]
  },
  {
   "cell_type": "code",
   "execution_count": 23,
   "metadata": {
    "ExecuteTime": {
     "end_time": "2020-03-30T07:52:55.268759Z",
     "start_time": "2020-03-30T07:52:55.229843Z"
    }
   },
   "outputs": [],
   "source": [
    "# O(2^n)\n",
    "def ruler_bad(n):\n",
    "    assert(n>=0)\n",
    "    if (n==1):\n",
    "        return \"1\"\n",
    "    return ruler(n-1) + \" \" + str(n) + \" \" + ruler(n-1)\n",
    "\n",
    "# O(n)\n",
    "def ruler(n):\n",
    "    assert(n>=0)\n",
    "    if (n==1):\n",
    "        return \"1\"\n",
    "    t = ruler(n-1) # 存起来，下次就直接使用，\n",
    "    return t + \" \" + str(n) + \" \" + t\n",
    "\n",
    "def ruler2(n):\n",
    "    result = \"\"\n",
    "    for i in range(1, n+1):\n",
    "        result = result + str(i) + \" \" + result\n",
    "    return result"
   ]
  },
  {
   "cell_type": "code",
   "execution_count": 24,
   "metadata": {
    "ExecuteTime": {
     "end_time": "2020-03-30T07:52:56.138132Z",
     "start_time": "2020-03-30T07:52:56.125860Z"
    }
   },
   "outputs": [
    {
     "data": {
      "text/plain": [
       "'1 2 1 3 1 2 1'"
      ]
     },
     "execution_count": 24,
     "metadata": {},
     "output_type": "execute_result"
    }
   ],
   "source": [
    "ruler_bad(3)"
   ]
  },
  {
   "cell_type": "code",
   "execution_count": 25,
   "metadata": {
    "ExecuteTime": {
     "end_time": "2020-03-30T07:52:59.901823Z",
     "start_time": "2020-03-30T07:52:59.893002Z"
    }
   },
   "outputs": [
    {
     "data": {
      "text/plain": [
       "'1 2 1 3 1 2 1'"
      ]
     },
     "execution_count": 25,
     "metadata": {},
     "output_type": "execute_result"
    }
   ],
   "source": [
    "ruler(3)"
   ]
  },
  {
   "cell_type": "code",
   "execution_count": 26,
   "metadata": {
    "ExecuteTime": {
     "end_time": "2020-03-30T07:53:00.829023Z",
     "start_time": "2020-03-30T07:53:00.820475Z"
    }
   },
   "outputs": [
    {
     "data": {
      "text/plain": [
       "'1 2 1 3 1 2 1 '"
      ]
     },
     "execution_count": 26,
     "metadata": {},
     "output_type": "execute_result"
    }
   ],
   "source": [
    "ruler2(3)"
   ]
  },
  {
   "cell_type": "code",
   "execution_count": 27,
   "metadata": {
    "ExecuteTime": {
     "end_time": "2020-03-30T07:55:58.404981Z",
     "start_time": "2020-03-30T07:55:58.393921Z"
    }
   },
   "outputs": [],
   "source": [
    "def draw_line(tick_length, tick_label=''):\n",
    "    line = '-' * tick_length\n",
    "    if tick_label:\n",
    "        line += ' ' + tick_label\n",
    "    print(line)\n",
    "\n",
    "def draw_interval(center_length):\n",
    "    if center_length > 0:\n",
    "        draw_interval(center_length - 1)\n",
    "        draw_line(center_length)\n",
    "        draw_interval(center_length - 1)\n",
    "        \n",
    "def draw_rule(num_inches, major_length):\n",
    "    draw_line(major_length, '0')\n",
    "    for j in range(1, 1 + num_inches):\n",
    "        draw_interval(major_length - 1)\n",
    "        draw_line(major_length, str(j))"
   ]
  },
  {
   "cell_type": "code",
   "execution_count": 32,
   "metadata": {
    "ExecuteTime": {
     "end_time": "2020-03-30T09:40:40.565358Z",
     "start_time": "2020-03-30T09:40:40.537166Z"
    }
   },
   "outputs": [
    {
     "name": "stdout",
     "output_type": "stream",
     "text": [
      "--- li\n"
     ]
    }
   ],
   "source": [
    "draw_line(3,'li')"
   ]
  },
  {
   "cell_type": "code",
   "execution_count": 33,
   "metadata": {
    "ExecuteTime": {
     "end_time": "2020-03-30T09:40:42.961826Z",
     "start_time": "2020-03-30T09:40:42.954161Z"
    }
   },
   "outputs": [
    {
     "name": "stdout",
     "output_type": "stream",
     "text": [
      "-\n",
      "--\n",
      "-\n",
      "---\n",
      "-\n",
      "--\n",
      "-\n"
     ]
    }
   ],
   "source": [
    "draw_interval(3)"
   ]
  },
  {
   "cell_type": "code",
   "execution_count": 35,
   "metadata": {
    "ExecuteTime": {
     "end_time": "2020-03-30T09:44:59.933523Z",
     "start_time": "2020-03-30T09:44:59.926408Z"
    }
   },
   "outputs": [
    {
     "name": "stdout",
     "output_type": "stream",
     "text": [
      "---- 0\n",
      "-\n",
      "--\n",
      "-\n",
      "---\n",
      "-\n",
      "--\n",
      "-\n",
      "---- 1\n",
      "-\n",
      "--\n",
      "-\n",
      "---\n",
      "-\n",
      "--\n",
      "-\n",
      "---- 2\n",
      "-\n",
      "--\n",
      "-\n",
      "---\n",
      "-\n",
      "--\n",
      "-\n",
      "---- 3\n",
      "-\n",
      "--\n",
      "-\n",
      "---\n",
      "-\n",
      "--\n",
      "-\n",
      "---- 4\n",
      "-\n",
      "--\n",
      "-\n",
      "---\n",
      "-\n",
      "--\n",
      "-\n",
      "---- 5\n"
     ]
    }
   ],
   "source": [
    "draw_rule(5,4)"
   ]
  },
  {
   "cell_type": "code",
   "execution_count": null,
   "metadata": {
    "collapsed": true
   },
   "outputs": [],
   "source": []
  },
  {
   "cell_type": "markdown",
   "metadata": {},
   "source": [
    "### <a id='Ex5'>Ex.5 数学表达式  </a>\n",
    "\n",
    "Given two integers a ≤ b, write a program  that transforms a into b by a minimum sequence of increment (add 1) and unfolding (multiply by 2) operations.\n",
    "\n",
    "For example, \t\n",
    "\n",
    "23 = ((5 * 2 + 1) * 2 + 1) \n",
    "\n",
    "113 = ((((11 + 1) + 1) + 1) * 2 * 2 * 2 + 1)\n",
    "\n"
   ]
  },
  {
   "cell_type": "code",
   "execution_count": 36,
   "metadata": {
    "ExecuteTime": {
     "end_time": "2020-03-30T10:02:59.055891Z",
     "start_time": "2020-03-30T10:02:59.047967Z"
    }
   },
   "outputs": [],
   "source": [
    "def intSeq(a, b):\n",
    "    if (a == b):\n",
    "        return str(a)\n",
    "    \n",
    "    if (b % 2 == 1):\n",
    "        return \"(\" + intSeq(a, b-1) + \" + 1)\" #相当于数学归纳法， 知道f(n)的答案 ==> 可以推算f(n+1)\n",
    "    \n",
    "    if (b < a * 2):\n",
    "        return \"(\" + intSeq(a, b-1) + \" + 1)\"\n",
    "        \n",
    "    return intSeq(a, b/2) + \" * 2\";"
   ]
  },
  {
   "cell_type": "code",
   "execution_count": 38,
   "metadata": {
    "ExecuteTime": {
     "end_time": "2020-03-30T10:03:49.776779Z",
     "start_time": "2020-03-30T10:03:49.770587Z"
    }
   },
   "outputs": [
    {
     "name": "stdout",
     "output_type": "stream",
     "text": [
      "113 = ((((11 + 1) + 1) + 1) * 2 * 2 * 2 + 1)\n"
     ]
    }
   ],
   "source": [
    "# a = 5;\n",
    "# b = 101;\n",
    "a = 11\n",
    "b = 113\n",
    "print(str(b) + \" = \" + intSeq(a, b))"
   ]
  },
  {
   "cell_type": "code",
   "execution_count": null,
   "metadata": {
    "collapsed": true
   },
   "outputs": [],
   "source": []
  },
  {
   "cell_type": "markdown",
   "metadata": {},
   "source": [
    "### <a id='Ex6'>Ex.6 汉诺塔  </a>\n",
    "\n",
    "<img src=\"../images/ch02/hanoi.jpg\" width=\"350\"/>"
   ]
  },
  {
   "cell_type": "code",
   "execution_count": 57,
   "metadata": {
    "ExecuteTime": {
     "end_time": "2020-03-31T01:01:59.432909Z",
     "start_time": "2020-03-31T01:01:59.408057Z"
    }
   },
   "outputs": [],
   "source": [
    "def hanoi(n, start, end, by):\n",
    "    if (n==1):\n",
    "        print(\"Move from \" + start + \" to \" + end)\n",
    "    else:\n",
    "        hanoi(n-1, start, by, end)\n",
    "        hanoi(1, start, end, by)\n",
    "        hanoi(n-1, by, end, start)"
   ]
  },
  {
   "cell_type": "code",
   "execution_count": 58,
   "metadata": {
    "ExecuteTime": {
     "end_time": "2020-03-31T01:02:00.098002Z",
     "start_time": "2020-03-31T01:02:00.089625Z"
    }
   },
   "outputs": [
    {
     "name": "stdout",
     "output_type": "stream",
     "text": [
      "Move from longest to medium\n",
      "Move from longest to tiny\n",
      "Move from medium to tiny\n",
      "Move from longest to medium\n",
      "Move from tiny to longest\n",
      "Move from tiny to medium\n",
      "Move from longest to medium\n"
     ]
    }
   ],
   "source": [
    "n = 3\n",
    "#hanoi(n, \"START\", \"END\", \"BY\")\n",
    "hanoi(n, \"longest\", \"medium\", \"tiny\")\n"
   ]
  },
  {
   "cell_type": "code",
   "execution_count": 60,
   "metadata": {
    "ExecuteTime": {
     "end_time": "2020-03-31T01:02:41.878763Z",
     "start_time": "2020-03-31T01:02:41.870719Z"
    }
   },
   "outputs": [
    {
     "name": "stdout",
     "output_type": "stream",
     "text": [
      "Move from longest to tiny\n",
      "Move from longest to medium\n",
      "Move from tiny to medium\n",
      "Move from longest to tiny\n",
      "Move from medium to longest\n",
      "Move from medium to tiny\n",
      "Move from longest to tiny\n"
     ]
    }
   ],
   "source": [
    "n = 3\n",
    "#hanoi(n, \"START\", \"END\", \"BY\")\n",
    "hanoi(n, \"longest\", \"tiny\", \"medium\")\n"
   ]
  },
  {
   "cell_type": "markdown",
   "metadata": {},
   "source": [
    "### <a id='Ex7'>Ex.7 格雷码  </a>\n",
    "<img src=\"../images/ch04/grey.jpg\" width=\"350\"/>"
   ]
  },
  {
   "cell_type": "code",
   "execution_count": 53,
   "metadata": {
    "ExecuteTime": {
     "end_time": "2020-03-30T16:10:39.334389Z",
     "start_time": "2020-03-30T16:10:39.313090Z"
    }
   },
   "outputs": [],
   "source": [
    "def moves(n):\n",
    "    if n == 0: \n",
    "        return\n",
    "    moves(n-1)\n",
    "    print(n)\n",
    "    moves(n-1)"
   ]
  },
  {
   "cell_type": "code",
   "execution_count": 54,
   "metadata": {
    "ExecuteTime": {
     "end_time": "2020-03-30T16:10:40.887792Z",
     "start_time": "2020-03-30T16:10:40.878114Z"
    }
   },
   "outputs": [
    {
     "name": "stdout",
     "output_type": "stream",
     "text": [
      "1\n",
      "2\n",
      "1\n",
      "3\n",
      "1\n",
      "2\n",
      "1\n"
     ]
    }
   ],
   "source": [
    "moves(3)"
   ]
  },
  {
   "cell_type": "code",
   "execution_count": 55,
   "metadata": {
    "ExecuteTime": {
     "end_time": "2020-03-30T16:10:46.036377Z",
     "start_time": "2020-03-30T16:10:46.028323Z"
    }
   },
   "outputs": [],
   "source": [
    "def moves_ins(n, forward):\n",
    "    if n == 0: \n",
    "        return\n",
    "    moves_ins(n-1, True)\n",
    "    print(\"enter \", n) if forward else print(\"exit  \", n)\n",
    "    moves_ins(n-1, False)    "
   ]
  },
  {
   "cell_type": "code",
   "execution_count": 56,
   "metadata": {
    "ExecuteTime": {
     "end_time": "2020-03-30T16:10:47.247976Z",
     "start_time": "2020-03-30T16:10:47.241799Z"
    }
   },
   "outputs": [
    {
     "name": "stdout",
     "output_type": "stream",
     "text": [
      "enter  1\n",
      "enter  2\n",
      "exit   1\n",
      "enter  3\n",
      "enter  1\n",
      "exit   2\n",
      "exit   1\n"
     ]
    }
   ],
   "source": [
    "moves_ins(3, True)"
   ]
  },
  {
   "cell_type": "markdown",
   "metadata": {
    "collapsed": true
   },
   "source": [
    "** Why Grey Code? **"
   ]
  },
  {
   "cell_type": "markdown",
   "metadata": {},
   "source": [
    "<img src=\"../images/ch04/grey1.jpg\" width=\"250\"/>\n",
    "<img src=\"../images/ch04/grey2.png\" width=\"380\"/>"
   ]
  },
  {
   "cell_type": "code",
   "execution_count": null,
   "metadata": {
    "collapsed": true
   },
   "outputs": [],
   "source": []
  }
 ],
 "metadata": {
  "kernelspec": {
   "display_name": "Python 3.6 (tensorflow)",
   "language": "python",
   "name": "tensorflow"
  },
  "language_info": {
   "codemirror_mode": {
    "name": "ipython",
    "version": 3
   },
   "file_extension": ".py",
   "mimetype": "text/x-python",
   "name": "python",
   "nbconvert_exporter": "python",
   "pygments_lexer": "ipython3",
   "version": "3.6.8"
  },
  "toc": {
   "base_numbering": 1,
   "nav_menu": {},
   "number_sections": true,
   "sideBar": true,
   "skip_h1_title": false,
   "title_cell": "Table of Contents",
   "title_sidebar": "Contents",
   "toc_cell": false,
   "toc_position": {},
   "toc_section_display": true,
   "toc_window_display": false
  },
  "varInspector": {
   "cols": {
    "lenName": 16,
    "lenType": 16,
    "lenVar": 40
   },
   "kernels_config": {
    "python": {
     "delete_cmd_postfix": "",
     "delete_cmd_prefix": "del ",
     "library": "var_list.py",
     "varRefreshCmd": "print(var_dic_list())"
    },
    "r": {
     "delete_cmd_postfix": ") ",
     "delete_cmd_prefix": "rm(",
     "library": "var_list.r",
     "varRefreshCmd": "cat(var_dic_list()) "
    }
   },
   "types_to_exclude": [
    "module",
    "function",
    "builtin_function_or_method",
    "instance",
    "_Feature"
   ],
   "window_display": false
  }
 },
 "nbformat": 4,
 "nbformat_minor": 2
}
